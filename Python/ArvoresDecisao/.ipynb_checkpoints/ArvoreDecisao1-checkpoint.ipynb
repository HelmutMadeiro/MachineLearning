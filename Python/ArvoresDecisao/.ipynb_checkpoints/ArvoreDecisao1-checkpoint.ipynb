{
 "cells": [
  {
   "cell_type": "code",
   "execution_count": 2,
   "id": "e2460e21",
   "metadata": {},
   "outputs": [],
   "source": [
    "#import pandas \n",
    "import pandas as pd"
   ]
  },
  {
   "cell_type": "code",
   "execution_count": 3,
   "id": "a69e97cd",
   "metadata": {},
   "outputs": [],
   "source": [
    "dados  = pd.read_csv(r\"C:\\Users\\T-Gamer\\ArvoresDecisao\\dados\\creditcard.csv\")"
   ]
  },
  {
   "cell_type": "code",
   "execution_count": 4,
   "id": "73bf7ab8",
   "metadata": {},
   "outputs": [
    {
     "name": "stdout",
     "output_type": "stream",
     "text": [
      "numero de transacoes  284807\n",
      "numero de fraudes  492 0.17\n",
      "numero de transacoes normais  284315 99.83\n"
     ]
    }
   ],
   "source": [
    "n_transacoes = dados['Class'].count()\n",
    "n_fraudes    = dados['Class'].sum()\n",
    "n_normais    = n_transacoes - n_fraudes\n",
    "fraudes_porc = n_fraudes / n_transacoes\n",
    "nromais_porc = n_normais / n_transacoes\n",
    "\n",
    "print('numero de transacoes ',n_transacoes )\n",
    "print('numero de fraudes ',n_fraudes, \"%.2f\"% (fraudes_porc *100))\n",
    "print('numero de transacoes normais ',n_normais ,\"%.2f\"% (nromais_porc *100))"
   ]
  },
  {
   "cell_type": "code",
   "execution_count": 5,
   "id": "3d664f2d",
   "metadata": {},
   "outputs": [],
   "source": [
    "# Por conta dos dados serem desbalanceados usaremos o StratifiedShuffleSplit para garantir \n",
    "# Que usaremos a porcentagem de amostra equivalentes ao treino e teste\n",
    "\n",
    "from sklearn.model_selection import StratifiedShuffleSplit\n",
    "\n",
    "def executar_validador(X,y):\n",
    "    validador = StratifiedShuffleSplit( n_splits= 1,test_size=0.1,random_state=0 )\n",
    "    \n",
    "    for treino_id,teste_id in validador.split(X,y):\n",
    "        X_train, X_test  = X[treino_id],X[teste_id]\n",
    "        y_train, y_test  = y[treino_id],y[teste_id]\n",
    "    \n",
    "    return X_train,X_test,y_train,y_test"
   ]
  },
  {
   "cell_type": "code",
   "execution_count": null,
   "id": "d1689689",
   "metadata": {},
   "outputs": [],
   "source": []
  },
  {
   "cell_type": "code",
   "execution_count": 6,
   "id": "271bae72",
   "metadata": {},
   "outputs": [
    {
     "name": "stdout",
     "output_type": "stream",
     "text": [
      "Wall time: 0 ns\n"
     ]
    }
   ],
   "source": [
    "%%time\n",
    "from sklearn import tree\n",
    "def executar_classificador(classificador,X_train, X_test, y_train):\n",
    "    arvore = classificador.fit(X_train, y_train)\n",
    "    y_pred = arvore.predict(X_test)\n",
    "    return y_pred"
   ]
  },
  {
   "cell_type": "code",
   "execution_count": 7,
   "id": "942a8934",
   "metadata": {},
   "outputs": [],
   "source": [
    "import matplotlib.pyplot as plt\n",
    "\n",
    "def salvar_arvore(classificador, nome):\n",
    "    plt.figure(figsize = (200,100))\n",
    "    tree.plot_tree(classificador,filled=True, fontsize =14)\n",
    "    plt.savefig(nome)\n",
    "    plt.close()"
   ]
  },
  {
   "cell_type": "code",
   "execution_count": 8,
   "id": "4e9f7391",
   "metadata": {},
   "outputs": [],
   "source": [
    "from sklearn.metrics import accuracy_score   # responsavel por fazer a acuracia da arvore\n",
    "from sklearn.metrics import confusion_matrix # responsavel por mostrar quantos acertos temos dentro da acuracia\n",
    "from sklearn.metrics import precision_score  #\n",
    "from sklearn.metrics import recall_score  #\n",
    "\n",
    "def validar_arvore(y_test,y_pred):\n",
    "    print(accuracy_score(y_test,y_pred))\n",
    "    print(precision_score(y_test,y_pred))\n",
    "    print(recall_score(y_test,y_pred))\n",
    "    print(confusion_matrix (y_test,y_pred))"
   ]
  },
  {
   "cell_type": "code",
   "execution_count": 9,
   "id": "fa9d4e32",
   "metadata": {},
   "outputs": [],
   "source": [
    "#execucao do validador\n",
    "X = dados.drop('Class', axis =1).values #representa todos os atributos\n",
    "y = dados['Class'].values # rotuilos valores da classe\n",
    "X_train,X_test,y_train,y_test = executar_validador(X,y)"
   ]
  },
  {
   "cell_type": "code",
   "execution_count": 10,
   "id": "dbd41e0c",
   "metadata": {},
   "outputs": [],
   "source": [
    "#execucao do classificador DecisionTreeClassifier\n",
    "classificador_arvore_decisao = tree.DecisionTreeClassifier()\n",
    "y_pred_arvore_decisao = executar_classificador(classificador_arvore_decisao,X_train,X_test,y_train)"
   ]
  },
  {
   "cell_type": "code",
   "execution_count": 11,
   "id": "a0c486ed",
   "metadata": {},
   "outputs": [],
   "source": [
    "#criacao da figura da arvore de decisao\n",
    "salvar_arvore(classificador_arvore_decisao,'arvore_decisao1.png')"
   ]
  },
  {
   "cell_type": "code",
   "execution_count": 12,
   "id": "ae2caca9",
   "metadata": {},
   "outputs": [
    {
     "name": "stdout",
     "output_type": "stream",
     "text": [
      "0.9991222218320986\n",
      "0.7608695652173914\n",
      "0.7142857142857143\n",
      "[[28421    11]\n",
      " [   14    35]]\n"
     ]
    }
   ],
   "source": [
    "#validacao a arvore de decisao\n",
    "validar_arvore(y_test,y_pred_arvore_decisao)\n",
    "\n",
    "#0.9990871107053826\n",
    "#0.7551020408163265 com fraude\n",
    "#[\n",
    "#    [28418    12] - numero acerto ( sem fraude )  || numero erros ( sem fraude ) -- y_pred\n",
    "#    [   14    37] -  numero erros (fraude )      ||  numero  acerto  ( fraude ) -- y_test\n",
    "#]"
   ]
  },
  {
   "cell_type": "code",
   "execution_count": 13,
   "id": "43fc5bfa",
   "metadata": {},
   "outputs": [],
   "source": [
    "#execucao do classificador DecisionTreeClassifier\n",
    "classificador_arvore_decisao = tree.DecisionTreeClassifier(max_depth = 10, random_state = 0)\n",
    "y_pred_arvore_decisao = executar_classificador(classificador_arvore_decisao,X_train,X_test,y_train)"
   ]
  },
  {
   "cell_type": "code",
   "execution_count": 14,
   "id": "d0007478",
   "metadata": {},
   "outputs": [
    {
     "name": "stdout",
     "output_type": "stream",
     "text": [
      "0.9994733330992591\n",
      "0.9473684210526315\n",
      "0.7346938775510204\n",
      "[[28430     2]\n",
      " [   13    36]]\n"
     ]
    }
   ],
   "source": [
    "validar_arvore(y_test,y_pred_arvore_decisao)"
   ]
  },
  {
   "cell_type": "code",
   "execution_count": 15,
   "id": "6eddb7c8",
   "metadata": {},
   "outputs": [],
   "source": [
    "#execucao do classificador DecisionTreeClassifier\n",
    "classificador_arvore_decisao = tree.DecisionTreeClassifier(max_depth = 10, random_state = 0, min_samples_leaf = 10)\n",
    "y_pred_arvore_decisao = executar_classificador(classificador_arvore_decisao,X_train,X_test,y_train)"
   ]
  },
  {
   "cell_type": "code",
   "execution_count": 16,
   "id": "180e0666",
   "metadata": {},
   "outputs": [
    {
     "name": "stdout",
     "output_type": "stream",
     "text": [
      "0.9993679997191109\n",
      "0.8604651162790697\n",
      "0.7551020408163265\n",
      "[[28426     6]\n",
      " [   12    37]]\n"
     ]
    }
   ],
   "source": [
    "validar_arvore(y_test,y_pred_arvore_decisao)"
   ]
  },
  {
   "cell_type": "code",
   "execution_count": 18,
   "id": "8deb265a",
   "metadata": {},
   "outputs": [
    {
     "name": "stdout",
     "output_type": "stream",
     "text": [
      "Wall time: 3min 19s\n"
     ]
    }
   ],
   "source": [
    "%%time\n",
    "from sklearn.ensemble import RandomForestClassifier\n",
    "\n",
    "classificador_random_forest = RandomForestClassifier (n_estimators = 100, random_state =0)\n",
    "y_pred_random_forest =  executar_classificador(classificador_random_forest,X_train,X_test,y_train)"
   ]
  },
  {
   "cell_type": "code",
   "execution_count": 19,
   "id": "f0c38502",
   "metadata": {},
   "outputs": [],
   "source": [
    "salvar_arvore(classificador_random_forest.estimators_[0],\"random_florest1\")\n",
    "salvar_arvore(classificador_random_forest.estimators_[1],\"random_florest2\")"
   ]
  },
  {
   "cell_type": "code",
   "execution_count": 23,
   "id": "1030fe4f",
   "metadata": {},
   "outputs": [
    {
     "name": "stdout",
     "output_type": "stream",
     "text": [
      "0.9995435553526912\n",
      "0.9736842105263158\n",
      "0.7551020408163265\n",
      "[[28431     1]\n",
      " [   12    37]]\n"
     ]
    }
   ],
   "source": [
    "validar_arvore(y_test,y_pred_random_forest)"
   ]
  },
  {
   "cell_type": "code",
   "execution_count": 22,
   "id": "320fb7e4",
   "metadata": {},
   "outputs": [
    {
     "name": "stdout",
     "output_type": "stream",
     "text": [
      "Wall time: 59.9 s\n"
     ]
    }
   ],
   "source": [
    "%%time\n",
    "from sklearn.ensemble import RandomForestClassifier\n",
    "\n",
    "classificador_random_forest = RandomForestClassifier (n_estimators = 50, random_state =0, max_depth =10)\n",
    "y_pred_random_forest =  executar_classificador(classificador_random_forest,X_train,X_test,y_train)"
   ]
  },
  {
   "cell_type": "code",
   "execution_count": null,
   "id": "c5bca6a7",
   "metadata": {},
   "outputs": [],
   "source": []
  },
  {
   "cell_type": "code",
   "execution_count": null,
   "id": "ed3ef5b0",
   "metadata": {},
   "outputs": [],
   "source": []
  },
  {
   "cell_type": "code",
   "execution_count": null,
   "id": "631d284e",
   "metadata": {},
   "outputs": [],
   "source": []
  },
  {
   "cell_type": "code",
   "execution_count": null,
   "id": "bd2b015e",
   "metadata": {},
   "outputs": [],
   "source": []
  },
  {
   "cell_type": "code",
   "execution_count": null,
   "id": "af8591ab",
   "metadata": {},
   "outputs": [],
   "source": []
  },
  {
   "cell_type": "code",
   "execution_count": null,
   "id": "869ad64e",
   "metadata": {},
   "outputs": [],
   "source": []
  },
  {
   "cell_type": "code",
   "execution_count": null,
   "id": "4360b92b",
   "metadata": {},
   "outputs": [],
   "source": []
  }
 ],
 "metadata": {
  "kernelspec": {
   "display_name": "Python 3",
   "language": "python",
   "name": "python3"
  },
  "language_info": {
   "codemirror_mode": {
    "name": "ipython",
    "version": 3
   },
   "file_extension": ".py",
   "mimetype": "text/x-python",
   "name": "python",
   "nbconvert_exporter": "python",
   "pygments_lexer": "ipython3",
   "version": "3.8.8"
  }
 },
 "nbformat": 4,
 "nbformat_minor": 5
}
