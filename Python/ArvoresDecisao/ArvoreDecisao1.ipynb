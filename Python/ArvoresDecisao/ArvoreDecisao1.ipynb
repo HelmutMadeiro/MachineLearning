{
 "cells": [
  {
   "cell_type": "code",
   "execution_count": 1,
   "id": "e2460e21",
   "metadata": {},
   "outputs": [],
   "source": [
    "import pandas as pd\n"
   ]
  },
  {
   "cell_type": "code",
   "execution_count": 2,
   "id": "a69e97cd",
   "metadata": {},
   "outputs": [],
   "source": [
    "dados  = pd.read_csv(r\"C:\\Users\\T-Gamer\\ArvoresDecisao\\dados\\creditcard.csv\")"
   ]
  },
  {
   "cell_type": "code",
   "execution_count": 3,
   "id": "d65eb55e",
   "metadata": {},
   "outputs": [
    {
     "name": "stdout",
     "output_type": "stream",
     "text": [
      "numero de transacoes 284807\n",
      "numero de fraudes 492 0.17\n",
      "numero de transacoes normais  284315 99.83\n"
     ]
    }
   ],
   "source": [
    "n_transacoes = dados['Class'].count()\n",
    "n_fraudes = dados['Class'].sum()\n",
    "n_normais = n_transacoes - n_fraudes\n",
    "fraudes_porc = n_fraudes  / n_transacoes\n",
    "nromais_porc  = n_normais / n_transacoes\n",
    "\n",
    "print('numero de transacoes',n_transacoes )\n",
    "print('numero de fraudes',n_fraudes, \"%.2f\"%(fraudes_porc *100) )\n",
    "print('numero de transacoes normais ',n_normais ,  \"%.2f\"%(nromais_porc *100))"
   ]
  },
  {
   "cell_type": "code",
   "execution_count": null,
   "id": "dacbdff5",
   "metadata": {},
   "outputs": [],
   "source": []
  },
  {
   "cell_type": "code",
   "execution_count": 4,
   "id": "3d664f2d",
   "metadata": {},
   "outputs": [],
   "source": [
    "#por conta dos dados serem desbalanceados usaremos o StratifiedShuffleSplit para garantir \n",
    "#que usaremos a porcentagem de amostra equivalentes ao treino e teste\n",
    "from sklearn.model_selection import StratifiedShuffleSplit\n",
    "\n",
    "def executar_validador(X,y):\n",
    "    validador = StratifiedShuffleSplit(     n_splits = 1    ,test_size =0.1    ,random_state =0)\n",
    "    for treino_id,teste_id in validador.split(X,y):\n",
    "        X_train, X_test  = X[treino_id],X[teste_id]\n",
    "        y_train, y_test  = y[treino_id],y[teste_id]\n",
    "    return X_train,X_test,y_train,y_test"
   ]
  },
  {
   "cell_type": "code",
   "execution_count": 5,
   "id": "271bae72",
   "metadata": {},
   "outputs": [
    {
     "name": "stdout",
     "output_type": "stream",
     "text": [
      "Wall time: 56.7 ms\n"
     ]
    }
   ],
   "source": [
    "%%time\n",
    "from sklearn import tree\n",
    "\n",
    "def executar_classificador(classificador,X_train, X_test, y_train):\n",
    "    arvore = classificador.fit(X_train, y_train)\n",
    "    y_pred = arvore.predict(X_test)\n",
    "    return y_pred\n",
    "\n",
    "\n"
   ]
  },
  {
   "cell_type": "code",
   "execution_count": 6,
   "id": "942a8934",
   "metadata": {},
   "outputs": [],
   "source": [
    "import matplotlib.pyplot as plt\n",
    "\n",
    "def salvar_arvore(classificador, nome):\n",
    "    plt.figure(figsize = (200,100))\n",
    "    tree.plot_tree(classificador,filled=True, fontsize =14)\n",
    "    plt.savefig(nome)\n",
    "    plt.close()\n",
    "    "
   ]
  },
  {
   "cell_type": "code",
   "execution_count": 7,
   "id": "fa9d4e32",
   "metadata": {},
   "outputs": [],
   "source": [
    "#execucao do validador\n",
    "X = dados.drop('Class', axis =1).values #representa todos os atributos\n",
    "y = dados['Class'].values # rotuilos valores da classe\n",
    "X_train,X_test,y_train,y_test = executar_validador(X,y)"
   ]
  },
  {
   "cell_type": "code",
   "execution_count": 8,
   "id": "dbd41e0c",
   "metadata": {},
   "outputs": [],
   "source": [
    "#execucao do classificador DecisionTreeClassifier\n",
    "classificador_arvore_decisao = tree.DecisionTreeClassifier()\n",
    "y_pred_arvore_decisao = executar_classificador(classificador_arvore_decisao,X_train,X_test,y_train)"
   ]
  },
  {
   "cell_type": "code",
   "execution_count": 9,
   "id": "a0c486ed",
   "metadata": {},
   "outputs": [],
   "source": [
    "#criacao da figura da arvore de decisao\n",
    "\n",
    "salvar_arvore(classificador_arvore_decisao,'arvore_decisao1.png')\n",
    "\n"
   ]
  },
  {
   "cell_type": "code",
   "execution_count": null,
   "id": "ae2caca9",
   "metadata": {},
   "outputs": [],
   "source": []
  },
  {
   "cell_type": "code",
   "execution_count": null,
   "id": "1030fe4f",
   "metadata": {},
   "outputs": [],
   "source": []
  }
 ],
 "metadata": {
  "kernelspec": {
   "display_name": "Python 3",
   "language": "python",
   "name": "python3"
  },
  "language_info": {
   "codemirror_mode": {
    "name": "ipython",
    "version": 3
   },
   "file_extension": ".py",
   "mimetype": "text/x-python",
   "name": "python",
   "nbconvert_exporter": "python",
   "pygments_lexer": "ipython3",
   "version": "3.8.8"
  }
 },
 "nbformat": 4,
 "nbformat_minor": 5
}
