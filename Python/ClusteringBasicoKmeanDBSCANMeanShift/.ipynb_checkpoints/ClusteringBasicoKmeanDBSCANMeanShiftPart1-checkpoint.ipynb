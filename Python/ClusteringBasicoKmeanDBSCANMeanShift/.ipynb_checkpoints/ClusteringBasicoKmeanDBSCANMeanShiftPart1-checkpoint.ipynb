{
 "cells": [
  {
   "cell_type": "code",
   "execution_count": 2,
   "id": "1b46fe6a",
   "metadata": {},
   "outputs": [
    {
     "name": "stdout",
     "output_type": "stream",
     "text": [
      "Requirement already satisfied: plotly in h:\\estudos\\anaconda3\\envs\\alura\\lib\\site-packages (5.0.0)\n",
      "Requirement already satisfied: six in h:\\estudos\\anaconda3\\envs\\alura\\lib\\site-packages (from plotly) (1.15.0)\n",
      "Requirement already satisfied: tenacity>=6.2.0 in h:\\estudos\\anaconda3\\envs\\alura\\lib\\site-packages (from plotly) (7.0.0)\n",
      "Requirement already satisfied: biokit==0.4.2 in h:\\estudos\\anaconda3\\envs\\alura\\lib\\site-packages (0.4.2)\n",
      "Requirement already satisfied: numpydoc in h:\\estudos\\anaconda3\\envs\\alura\\lib\\site-packages (from biokit==0.4.2) (1.1.0)\n",
      "Requirement already satisfied: matplotlib in h:\\estudos\\anaconda3\\envs\\alura\\lib\\site-packages (from biokit==0.4.2) (3.3.4)\n",
      "Requirement already satisfied: biopython in h:\\estudos\\anaconda3\\envs\\alura\\lib\\site-packages (from biokit==0.4.2) (1.78)\n",
      "Requirement already satisfied: scipy in h:\\estudos\\anaconda3\\envs\\alura\\lib\\site-packages (from biokit==0.4.2) (1.6.2)\n",
      "Requirement already satisfied: colorlog in h:\\estudos\\anaconda3\\envs\\alura\\lib\\site-packages (from biokit==0.4.2) (5.0.1)\n",
      "Requirement already satisfied: suds-jurko in h:\\estudos\\anaconda3\\envs\\alura\\lib\\site-packages (from biokit==0.4.2) (0.6)\n",
      "Requirement already satisfied: pandas in h:\\estudos\\anaconda3\\envs\\alura\\lib\\site-packages (from biokit==0.4.2) (1.2.4)\n",
      "Requirement already satisfied: colormap in h:\\estudos\\anaconda3\\envs\\alura\\lib\\site-packages (from biokit==0.4.2) (1.0.3)\n",
      "Requirement already satisfied: bioservices>=1.4.5 in h:\\estudos\\anaconda3\\envs\\alura\\lib\\site-packages (from biokit==0.4.2) (1.7.11)\n",
      "Requirement already satisfied: easydev>=0.9.11 in h:\\estudos\\anaconda3\\envs\\alura\\lib\\site-packages (from biokit==0.4.2) (0.11.1)\n",
      "Requirement already satisfied: pyyaml in h:\\estudos\\anaconda3\\envs\\alura\\lib\\site-packages (from biokit==0.4.2) (5.4.1)\n",
      "Requirement already satisfied: requests in h:\\estudos\\anaconda3\\envs\\alura\\lib\\site-packages (from bioservices>=1.4.5->biokit==0.4.2) (2.25.1)\n",
      "Requirement already satisfied: appdirs in h:\\estudos\\anaconda3\\envs\\alura\\lib\\site-packages (from bioservices>=1.4.5->biokit==0.4.2) (1.4.4)\n",
      "Requirement already satisfied: grequests in h:\\estudos\\anaconda3\\envs\\alura\\lib\\site-packages (from bioservices>=1.4.5->biokit==0.4.2) (0.6.0)\n",
      "Requirement already satisfied: wrapt in h:\\estudos\\anaconda3\\envs\\alura\\lib\\site-packages (from bioservices>=1.4.5->biokit==0.4.2) (1.12.1)\n",
      "Requirement already satisfied: beautifulsoup4 in h:\\estudos\\anaconda3\\envs\\alura\\lib\\site-packages (from bioservices>=1.4.5->biokit==0.4.2) (4.9.3)\n",
      "Requirement already satisfied: lxml in h:\\estudos\\anaconda3\\envs\\alura\\lib\\site-packages (from bioservices>=1.4.5->biokit==0.4.2) (4.6.3)\n",
      "Requirement already satisfied: xmltodict in h:\\estudos\\anaconda3\\envs\\alura\\lib\\site-packages (from bioservices>=1.4.5->biokit==0.4.2) (0.12.0)\n",
      "Requirement already satisfied: requests-cache in h:\\estudos\\anaconda3\\envs\\alura\\lib\\site-packages (from bioservices>=1.4.5->biokit==0.4.2) (0.6.4)\n",
      "Requirement already satisfied: colorama in h:\\estudos\\anaconda3\\envs\\alura\\lib\\site-packages (from easydev>=0.9.11->biokit==0.4.2) (0.4.4)\n",
      "Requirement already satisfied: pexpect in h:\\estudos\\anaconda3\\envs\\alura\\lib\\site-packages (from easydev>=0.9.11->biokit==0.4.2) (4.8.0)\n",
      "Requirement already satisfied: soupsieve>1.2 in h:\\estudos\\anaconda3\\envs\\alura\\lib\\site-packages (from beautifulsoup4->bioservices>=1.4.5->biokit==0.4.2) (2.2.1)\n",
      "Requirement already satisfied: numpy in h:\\estudos\\anaconda3\\envs\\alura\\lib\\site-packages (from biopython->biokit==0.4.2) (1.20.1)\n",
      "Requirement already satisfied: gevent in h:\\estudos\\anaconda3\\envs\\alura\\lib\\site-packages (from grequests->bioservices>=1.4.5->biokit==0.4.2) (21.1.2)\n",
      "Requirement already satisfied: setuptools in h:\\estudos\\anaconda3\\envs\\alura\\lib\\site-packages (from gevent->grequests->bioservices>=1.4.5->biokit==0.4.2) (52.0.0.post20210125)\n",
      "Requirement already satisfied: greenlet<2.0,>=0.4.17 in h:\\estudos\\anaconda3\\envs\\alura\\lib\\site-packages (from gevent->grequests->bioservices>=1.4.5->biokit==0.4.2) (1.0.0)\n",
      "Requirement already satisfied: zope.interface in h:\\estudos\\anaconda3\\envs\\alura\\lib\\site-packages (from gevent->grequests->bioservices>=1.4.5->biokit==0.4.2) (5.4.0)\n",
      "Requirement already satisfied: cffi>=1.12.2 in h:\\estudos\\anaconda3\\envs\\alura\\lib\\site-packages (from gevent->grequests->bioservices>=1.4.5->biokit==0.4.2) (1.14.5)\n",
      "Requirement already satisfied: zope.event in h:\\estudos\\anaconda3\\envs\\alura\\lib\\site-packages (from gevent->grequests->bioservices>=1.4.5->biokit==0.4.2) (4.5.0)\n",
      "Requirement already satisfied: pycparser in h:\\estudos\\anaconda3\\envs\\alura\\lib\\site-packages (from cffi>=1.12.2->gevent->grequests->bioservices>=1.4.5->biokit==0.4.2) (2.20)\n",
      "Requirement already satisfied: pillow>=6.2.0 in h:\\estudos\\anaconda3\\envs\\alura\\lib\\site-packages (from matplotlib->biokit==0.4.2) (8.2.0)\n",
      "Requirement already satisfied: pyparsing!=2.0.4,!=2.1.2,!=2.1.6,>=2.0.3 in h:\\estudos\\anaconda3\\envs\\alura\\lib\\site-packages (from matplotlib->biokit==0.4.2) (2.4.7)\n",
      "Requirement already satisfied: python-dateutil>=2.1 in h:\\estudos\\anaconda3\\envs\\alura\\lib\\site-packages (from matplotlib->biokit==0.4.2) (2.8.1)\n",
      "Requirement already satisfied: kiwisolver>=1.0.1 in h:\\estudos\\anaconda3\\envs\\alura\\lib\\site-packages (from matplotlib->biokit==0.4.2) (1.3.1)\n",
      "Requirement already satisfied: cycler>=0.10 in h:\\estudos\\anaconda3\\envs\\alura\\lib\\site-packages (from matplotlib->biokit==0.4.2) (0.10.0)\n",
      "Requirement already satisfied: six in h:\\estudos\\anaconda3\\envs\\alura\\lib\\site-packages (from cycler>=0.10->matplotlib->biokit==0.4.2) (1.15.0)\n",
      "Requirement already satisfied: Jinja2>=2.3 in h:\\estudos\\anaconda3\\envs\\alura\\lib\\site-packages (from numpydoc->biokit==0.4.2) (2.11.3)\n",
      "Requirement already satisfied: sphinx>=1.6.5 in h:\\estudos\\anaconda3\\envs\\alura\\lib\\site-packages (from numpydoc->biokit==0.4.2) (4.0.2)\n",
      "Requirement already satisfied: MarkupSafe>=0.23 in h:\\estudos\\anaconda3\\envs\\alura\\lib\\site-packages (from Jinja2>=2.3->numpydoc->biokit==0.4.2) (1.1.1)\n",
      "Requirement already satisfied: sphinxcontrib-htmlhelp in h:\\estudos\\anaconda3\\envs\\alura\\lib\\site-packages (from sphinx>=1.6.5->numpydoc->biokit==0.4.2) (2.0.0)\n",
      "Requirement already satisfied: sphinxcontrib-devhelp in h:\\estudos\\anaconda3\\envs\\alura\\lib\\site-packages (from sphinx>=1.6.5->numpydoc->biokit==0.4.2) (1.0.2)\n",
      "Requirement already satisfied: Pygments>=2.0 in h:\\estudos\\anaconda3\\envs\\alura\\lib\\site-packages (from sphinx>=1.6.5->numpydoc->biokit==0.4.2) (2.8.1)\n",
      "Requirement already satisfied: snowballstemmer>=1.1 in h:\\estudos\\anaconda3\\envs\\alura\\lib\\site-packages (from sphinx>=1.6.5->numpydoc->biokit==0.4.2) (2.1.0)\n",
      "Requirement already satisfied: sphinxcontrib-applehelp in h:\\estudos\\anaconda3\\envs\\alura\\lib\\site-packages (from sphinx>=1.6.5->numpydoc->biokit==0.4.2) (1.0.2)\n",
      "Requirement already satisfied: imagesize in h:\\estudos\\anaconda3\\envs\\alura\\lib\\site-packages (from sphinx>=1.6.5->numpydoc->biokit==0.4.2) (1.2.0)\n",
      "Requirement already satisfied: babel>=1.3 in h:\\estudos\\anaconda3\\envs\\alura\\lib\\site-packages (from sphinx>=1.6.5->numpydoc->biokit==0.4.2) (2.9.1)\n",
      "Requirement already satisfied: sphinxcontrib-jsmath in h:\\estudos\\anaconda3\\envs\\alura\\lib\\site-packages (from sphinx>=1.6.5->numpydoc->biokit==0.4.2) (1.0.1)\n",
      "Requirement already satisfied: alabaster<0.8,>=0.7 in h:\\estudos\\anaconda3\\envs\\alura\\lib\\site-packages (from sphinx>=1.6.5->numpydoc->biokit==0.4.2) (0.7.12)\n",
      "Requirement already satisfied: packaging in h:\\estudos\\anaconda3\\envs\\alura\\lib\\site-packages (from sphinx>=1.6.5->numpydoc->biokit==0.4.2) (20.9)\n",
      "Requirement already satisfied: docutils<0.18,>=0.14 in h:\\estudos\\anaconda3\\envs\\alura\\lib\\site-packages (from sphinx>=1.6.5->numpydoc->biokit==0.4.2) (0.17.1)\n",
      "Requirement already satisfied: sphinxcontrib-qthelp in h:\\estudos\\anaconda3\\envs\\alura\\lib\\site-packages (from sphinx>=1.6.5->numpydoc->biokit==0.4.2) (1.0.3)\n",
      "Requirement already satisfied: sphinxcontrib-serializinghtml in h:\\estudos\\anaconda3\\envs\\alura\\lib\\site-packages (from sphinx>=1.6.5->numpydoc->biokit==0.4.2) (1.1.5)\n",
      "Requirement already satisfied: pytz>=2015.7 in h:\\estudos\\anaconda3\\envs\\alura\\lib\\site-packages (from babel>=1.3->sphinx>=1.6.5->numpydoc->biokit==0.4.2) (2021.1)\n",
      "Requirement already satisfied: urllib3<1.27,>=1.21.1 in h:\\estudos\\anaconda3\\envs\\alura\\lib\\site-packages (from requests->bioservices>=1.4.5->biokit==0.4.2) (1.26.6)\n",
      "Requirement already satisfied: certifi>=2017.4.17 in h:\\estudos\\anaconda3\\envs\\alura\\lib\\site-packages (from requests->bioservices>=1.4.5->biokit==0.4.2) (2021.5.30)\n",
      "Requirement already satisfied: chardet<5,>=3.0.2 in h:\\estudos\\anaconda3\\envs\\alura\\lib\\site-packages (from requests->bioservices>=1.4.5->biokit==0.4.2) (4.0.0)\n",
      "Requirement already satisfied: idna<3,>=2.5 in h:\\estudos\\anaconda3\\envs\\alura\\lib\\site-packages (from requests->bioservices>=1.4.5->biokit==0.4.2) (2.10)\n",
      "Requirement already satisfied: ptyprocess>=0.5 in h:\\estudos\\anaconda3\\envs\\alura\\lib\\site-packages (from pexpect->easydev>=0.9.11->biokit==0.4.2) (0.7.0)\n",
      "Requirement already satisfied: itsdangerous in h:\\estudos\\anaconda3\\envs\\alura\\lib\\site-packages (from requests-cache->bioservices>=1.4.5->biokit==0.4.2) (2.0.1)\n",
      "Requirement already satisfied: url-normalize>=1.4 in h:\\estudos\\anaconda3\\envs\\alura\\lib\\site-packages (from requests-cache->bioservices>=1.4.5->biokit==0.4.2) (1.4.3)\n"
     ]
    }
   ],
   "source": [
    "!pip install plotly \n",
    "#!pip install biokit\n",
    "!pip install biokit==\"0.4.2\""
   ]
  },
  {
   "cell_type": "code",
   "execution_count": 3,
   "id": "b2e9c5af",
   "metadata": {},
   "outputs": [],
   "source": [
    "#importando bibliotecas que usaremos \n",
    "\n",
    "import plotly.graph_objects as go\n",
    "import pandas as pd\n",
    "import numpy as np\n",
    "from biokit.viz import corrplot\n",
    "import matplotlib.pyplot as plt\n",
    "from sklearn import preprocessing"
   ]
  },
  {
   "cell_type": "code",
   "execution_count": 4,
   "id": "0ec43ddc",
   "metadata": {},
   "outputs": [],
   "source": [
    "#bucando arquivo em um site \n",
    "caminho_arquivo = 'https://raw.githubusercontent.com/alura-cursos/Clustering/Aula-1.-An%C3%A1lise-Explorat%C3%B3ria/Wine.csv'\n",
    "#alocando o arquivo em um dataframe\n",
    "df = pd.read_csv(caminho_arquivo)"
   ]
  },
  {
   "cell_type": "code",
   "execution_count": 5,
   "id": "a887300f",
   "metadata": {},
   "outputs": [
    {
     "name": "stdout",
     "output_type": "stream",
     "text": [
      "O dado possui  178 Amostras e  14 Atributos\n"
     ]
    },
    {
     "data": {
      "text/html": [
       "<div>\n",
       "<style scoped>\n",
       "    .dataframe tbody tr th:only-of-type {\n",
       "        vertical-align: middle;\n",
       "    }\n",
       "\n",
       "    .dataframe tbody tr th {\n",
       "        vertical-align: top;\n",
       "    }\n",
       "\n",
       "    .dataframe thead th {\n",
       "        text-align: right;\n",
       "    }\n",
       "</style>\n",
       "<table border=\"1\" class=\"dataframe\">\n",
       "  <thead>\n",
       "    <tr style=\"text-align: right;\">\n",
       "      <th></th>\n",
       "      <th>Alcohol</th>\n",
       "      <th>Malic_Acid</th>\n",
       "      <th>Ash</th>\n",
       "      <th>Ash_Alcanity</th>\n",
       "      <th>Magnesium</th>\n",
       "      <th>Total_Phenols</th>\n",
       "      <th>Flavanoids</th>\n",
       "      <th>Nonflavanoid_Phenols</th>\n",
       "      <th>Proanthocyanins</th>\n",
       "      <th>Color_Intensity</th>\n",
       "      <th>Hue</th>\n",
       "      <th>OD280</th>\n",
       "      <th>Proline</th>\n",
       "      <th>Customer_Segment</th>\n",
       "    </tr>\n",
       "  </thead>\n",
       "  <tbody>\n",
       "    <tr>\n",
       "      <th>0</th>\n",
       "      <td>14.23</td>\n",
       "      <td>1.71</td>\n",
       "      <td>2.43</td>\n",
       "      <td>15.6</td>\n",
       "      <td>127</td>\n",
       "      <td>2.80</td>\n",
       "      <td>3.06</td>\n",
       "      <td>0.28</td>\n",
       "      <td>2.29</td>\n",
       "      <td>5.64</td>\n",
       "      <td>1.04</td>\n",
       "      <td>3.92</td>\n",
       "      <td>1065</td>\n",
       "      <td>1</td>\n",
       "    </tr>\n",
       "    <tr>\n",
       "      <th>1</th>\n",
       "      <td>13.20</td>\n",
       "      <td>1.78</td>\n",
       "      <td>2.14</td>\n",
       "      <td>11.2</td>\n",
       "      <td>100</td>\n",
       "      <td>2.65</td>\n",
       "      <td>2.76</td>\n",
       "      <td>0.26</td>\n",
       "      <td>1.28</td>\n",
       "      <td>4.38</td>\n",
       "      <td>1.05</td>\n",
       "      <td>3.40</td>\n",
       "      <td>1050</td>\n",
       "      <td>1</td>\n",
       "    </tr>\n",
       "    <tr>\n",
       "      <th>2</th>\n",
       "      <td>13.16</td>\n",
       "      <td>2.36</td>\n",
       "      <td>2.67</td>\n",
       "      <td>18.6</td>\n",
       "      <td>101</td>\n",
       "      <td>2.80</td>\n",
       "      <td>3.24</td>\n",
       "      <td>0.30</td>\n",
       "      <td>2.81</td>\n",
       "      <td>5.68</td>\n",
       "      <td>1.03</td>\n",
       "      <td>3.17</td>\n",
       "      <td>1185</td>\n",
       "      <td>1</td>\n",
       "    </tr>\n",
       "    <tr>\n",
       "      <th>3</th>\n",
       "      <td>14.37</td>\n",
       "      <td>1.95</td>\n",
       "      <td>2.50</td>\n",
       "      <td>16.8</td>\n",
       "      <td>113</td>\n",
       "      <td>3.85</td>\n",
       "      <td>3.49</td>\n",
       "      <td>0.24</td>\n",
       "      <td>2.18</td>\n",
       "      <td>7.80</td>\n",
       "      <td>0.86</td>\n",
       "      <td>3.45</td>\n",
       "      <td>1480</td>\n",
       "      <td>1</td>\n",
       "    </tr>\n",
       "    <tr>\n",
       "      <th>4</th>\n",
       "      <td>13.24</td>\n",
       "      <td>2.59</td>\n",
       "      <td>2.87</td>\n",
       "      <td>21.0</td>\n",
       "      <td>118</td>\n",
       "      <td>2.80</td>\n",
       "      <td>2.69</td>\n",
       "      <td>0.39</td>\n",
       "      <td>1.82</td>\n",
       "      <td>4.32</td>\n",
       "      <td>1.04</td>\n",
       "      <td>2.93</td>\n",
       "      <td>735</td>\n",
       "      <td>1</td>\n",
       "    </tr>\n",
       "  </tbody>\n",
       "</table>\n",
       "</div>"
      ],
      "text/plain": [
       "   Alcohol  Malic_Acid   Ash  Ash_Alcanity  Magnesium  Total_Phenols  \\\n",
       "0    14.23        1.71  2.43          15.6        127           2.80   \n",
       "1    13.20        1.78  2.14          11.2        100           2.65   \n",
       "2    13.16        2.36  2.67          18.6        101           2.80   \n",
       "3    14.37        1.95  2.50          16.8        113           3.85   \n",
       "4    13.24        2.59  2.87          21.0        118           2.80   \n",
       "\n",
       "   Flavanoids  Nonflavanoid_Phenols  Proanthocyanins  Color_Intensity   Hue  \\\n",
       "0        3.06                  0.28             2.29             5.64  1.04   \n",
       "1        2.76                  0.26             1.28             4.38  1.05   \n",
       "2        3.24                  0.30             2.81             5.68  1.03   \n",
       "3        3.49                  0.24             2.18             7.80  0.86   \n",
       "4        2.69                  0.39             1.82             4.32  1.04   \n",
       "\n",
       "   OD280  Proline  Customer_Segment  \n",
       "0   3.92     1065                 1  \n",
       "1   3.40     1050                 1  \n",
       "2   3.17     1185                 1  \n",
       "3   3.45     1480                 1  \n",
       "4   2.93      735                 1  "
      ]
     },
     "execution_count": 5,
     "metadata": {},
     "output_type": "execute_result"
    }
   ],
   "source": [
    "#explorando arquivo\n",
    "print(\"O dado possui \", df.shape[0], \"Amostras e \",df.shape[1], \"Atributos\")\n",
    "\n",
    "#visualizado os 5 primeiros registros \n",
    "df.head()"
   ]
  },
  {
   "cell_type": "code",
   "execution_count": 6,
   "id": "88bf0b19",
   "metadata": {},
   "outputs": [],
   "source": [
    "#renomeando as collunas  do DataFrame\n",
    "df = df.rename(columns = {'Alcohol':'Alcool',' Ash':'Po','Ash_Alcanity':'Alcalinidade_po'\n",
    "                        ,  'Magnesium' : 'Magnesio','Color_Intensity':'Intesidade_de_color'})"
   ]
  },
  {
   "cell_type": "code",
   "execution_count": 7,
   "id": "7ef0cb59",
   "metadata": {},
   "outputs": [
    {
     "data": {
      "text/html": [
       "<div>\n",
       "<style scoped>\n",
       "    .dataframe tbody tr th:only-of-type {\n",
       "        vertical-align: middle;\n",
       "    }\n",
       "\n",
       "    .dataframe tbody tr th {\n",
       "        vertical-align: top;\n",
       "    }\n",
       "\n",
       "    .dataframe thead th {\n",
       "        text-align: right;\n",
       "    }\n",
       "</style>\n",
       "<table border=\"1\" class=\"dataframe\">\n",
       "  <thead>\n",
       "    <tr style=\"text-align: right;\">\n",
       "      <th></th>\n",
       "      <th>Alcool</th>\n",
       "      <th>Malic_Acid</th>\n",
       "      <th>Ash</th>\n",
       "      <th>Alcalinidade_po</th>\n",
       "      <th>Magnesio</th>\n",
       "      <th>Total_Phenols</th>\n",
       "      <th>Flavanoids</th>\n",
       "      <th>Nonflavanoid_Phenols</th>\n",
       "      <th>Proanthocyanins</th>\n",
       "      <th>Intesidade_de_color</th>\n",
       "      <th>Hue</th>\n",
       "      <th>OD280</th>\n",
       "      <th>Proline</th>\n",
       "      <th>Customer_Segment</th>\n",
       "    </tr>\n",
       "  </thead>\n",
       "  <tbody>\n",
       "    <tr>\n",
       "      <th>0</th>\n",
       "      <td>14.23</td>\n",
       "      <td>1.71</td>\n",
       "      <td>2.43</td>\n",
       "      <td>15.6</td>\n",
       "      <td>127</td>\n",
       "      <td>2.80</td>\n",
       "      <td>3.06</td>\n",
       "      <td>0.28</td>\n",
       "      <td>2.29</td>\n",
       "      <td>5.64</td>\n",
       "      <td>1.04</td>\n",
       "      <td>3.92</td>\n",
       "      <td>1065</td>\n",
       "      <td>1</td>\n",
       "    </tr>\n",
       "    <tr>\n",
       "      <th>1</th>\n",
       "      <td>13.20</td>\n",
       "      <td>1.78</td>\n",
       "      <td>2.14</td>\n",
       "      <td>11.2</td>\n",
       "      <td>100</td>\n",
       "      <td>2.65</td>\n",
       "      <td>2.76</td>\n",
       "      <td>0.26</td>\n",
       "      <td>1.28</td>\n",
       "      <td>4.38</td>\n",
       "      <td>1.05</td>\n",
       "      <td>3.40</td>\n",
       "      <td>1050</td>\n",
       "      <td>1</td>\n",
       "    </tr>\n",
       "    <tr>\n",
       "      <th>2</th>\n",
       "      <td>13.16</td>\n",
       "      <td>2.36</td>\n",
       "      <td>2.67</td>\n",
       "      <td>18.6</td>\n",
       "      <td>101</td>\n",
       "      <td>2.80</td>\n",
       "      <td>3.24</td>\n",
       "      <td>0.30</td>\n",
       "      <td>2.81</td>\n",
       "      <td>5.68</td>\n",
       "      <td>1.03</td>\n",
       "      <td>3.17</td>\n",
       "      <td>1185</td>\n",
       "      <td>1</td>\n",
       "    </tr>\n",
       "    <tr>\n",
       "      <th>3</th>\n",
       "      <td>14.37</td>\n",
       "      <td>1.95</td>\n",
       "      <td>2.50</td>\n",
       "      <td>16.8</td>\n",
       "      <td>113</td>\n",
       "      <td>3.85</td>\n",
       "      <td>3.49</td>\n",
       "      <td>0.24</td>\n",
       "      <td>2.18</td>\n",
       "      <td>7.80</td>\n",
       "      <td>0.86</td>\n",
       "      <td>3.45</td>\n",
       "      <td>1480</td>\n",
       "      <td>1</td>\n",
       "    </tr>\n",
       "    <tr>\n",
       "      <th>4</th>\n",
       "      <td>13.24</td>\n",
       "      <td>2.59</td>\n",
       "      <td>2.87</td>\n",
       "      <td>21.0</td>\n",
       "      <td>118</td>\n",
       "      <td>2.80</td>\n",
       "      <td>2.69</td>\n",
       "      <td>0.39</td>\n",
       "      <td>1.82</td>\n",
       "      <td>4.32</td>\n",
       "      <td>1.04</td>\n",
       "      <td>2.93</td>\n",
       "      <td>735</td>\n",
       "      <td>1</td>\n",
       "    </tr>\n",
       "  </tbody>\n",
       "</table>\n",
       "</div>"
      ],
      "text/plain": [
       "   Alcool  Malic_Acid   Ash  Alcalinidade_po  Magnesio  Total_Phenols  \\\n",
       "0   14.23        1.71  2.43             15.6       127           2.80   \n",
       "1   13.20        1.78  2.14             11.2       100           2.65   \n",
       "2   13.16        2.36  2.67             18.6       101           2.80   \n",
       "3   14.37        1.95  2.50             16.8       113           3.85   \n",
       "4   13.24        2.59  2.87             21.0       118           2.80   \n",
       "\n",
       "   Flavanoids  Nonflavanoid_Phenols  Proanthocyanins  Intesidade_de_color  \\\n",
       "0        3.06                  0.28             2.29                 5.64   \n",
       "1        2.76                  0.26             1.28                 4.38   \n",
       "2        3.24                  0.30             2.81                 5.68   \n",
       "3        3.49                  0.24             2.18                 7.80   \n",
       "4        2.69                  0.39             1.82                 4.32   \n",
       "\n",
       "    Hue  OD280  Proline  Customer_Segment  \n",
       "0  1.04   3.92     1065                 1  \n",
       "1  1.05   3.40     1050                 1  \n",
       "2  1.03   3.17     1185                 1  \n",
       "3  0.86   3.45     1480                 1  \n",
       "4  1.04   2.93      735                 1  "
      ]
     },
     "execution_count": 7,
     "metadata": {},
     "output_type": "execute_result"
    }
   ],
   "source": [
    "df.head()"
   ]
  },
  {
   "cell_type": "code",
   "execution_count": 8,
   "id": "1a7cf738",
   "metadata": {},
   "outputs": [
    {
     "data": {
      "text/html": [
       "<div>\n",
       "<style scoped>\n",
       "    .dataframe tbody tr th:only-of-type {\n",
       "        vertical-align: middle;\n",
       "    }\n",
       "\n",
       "    .dataframe tbody tr th {\n",
       "        vertical-align: top;\n",
       "    }\n",
       "\n",
       "    .dataframe thead th {\n",
       "        text-align: right;\n",
       "    }\n",
       "</style>\n",
       "<table border=\"1\" class=\"dataframe\">\n",
       "  <thead>\n",
       "    <tr style=\"text-align: right;\">\n",
       "      <th></th>\n",
       "      <th>Alcool</th>\n",
       "      <th>Malic_Acid</th>\n",
       "      <th>Ash</th>\n",
       "      <th>Alcalinidade_po</th>\n",
       "      <th>Magnesio</th>\n",
       "      <th>Total_Phenols</th>\n",
       "      <th>Flavanoids</th>\n",
       "      <th>Nonflavanoid_Phenols</th>\n",
       "      <th>Proanthocyanins</th>\n",
       "      <th>Intesidade_de_color</th>\n",
       "      <th>Hue</th>\n",
       "      <th>OD280</th>\n",
       "      <th>Proline</th>\n",
       "      <th>Customer_Segment</th>\n",
       "    </tr>\n",
       "  </thead>\n",
       "  <tbody>\n",
       "    <tr>\n",
       "      <th>count</th>\n",
       "      <td>178.000000</td>\n",
       "      <td>178.000000</td>\n",
       "      <td>178.000000</td>\n",
       "      <td>178.000000</td>\n",
       "      <td>178.000000</td>\n",
       "      <td>178.000000</td>\n",
       "      <td>178.000000</td>\n",
       "      <td>178.000000</td>\n",
       "      <td>178.000000</td>\n",
       "      <td>178.000000</td>\n",
       "      <td>178.000000</td>\n",
       "      <td>178.000000</td>\n",
       "      <td>178.000000</td>\n",
       "      <td>178.000000</td>\n",
       "    </tr>\n",
       "    <tr>\n",
       "      <th>mean</th>\n",
       "      <td>13.000618</td>\n",
       "      <td>2.336348</td>\n",
       "      <td>2.366517</td>\n",
       "      <td>19.494944</td>\n",
       "      <td>99.741573</td>\n",
       "      <td>2.295112</td>\n",
       "      <td>2.029270</td>\n",
       "      <td>0.361854</td>\n",
       "      <td>1.590899</td>\n",
       "      <td>5.058090</td>\n",
       "      <td>0.957449</td>\n",
       "      <td>2.611685</td>\n",
       "      <td>746.893258</td>\n",
       "      <td>1.938202</td>\n",
       "    </tr>\n",
       "    <tr>\n",
       "      <th>std</th>\n",
       "      <td>0.811827</td>\n",
       "      <td>1.117146</td>\n",
       "      <td>0.274344</td>\n",
       "      <td>3.339564</td>\n",
       "      <td>14.282484</td>\n",
       "      <td>0.625851</td>\n",
       "      <td>0.998859</td>\n",
       "      <td>0.124453</td>\n",
       "      <td>0.572359</td>\n",
       "      <td>2.318286</td>\n",
       "      <td>0.228572</td>\n",
       "      <td>0.709990</td>\n",
       "      <td>314.907474</td>\n",
       "      <td>0.775035</td>\n",
       "    </tr>\n",
       "    <tr>\n",
       "      <th>min</th>\n",
       "      <td>11.030000</td>\n",
       "      <td>0.740000</td>\n",
       "      <td>1.360000</td>\n",
       "      <td>10.600000</td>\n",
       "      <td>70.000000</td>\n",
       "      <td>0.980000</td>\n",
       "      <td>0.340000</td>\n",
       "      <td>0.130000</td>\n",
       "      <td>0.410000</td>\n",
       "      <td>1.280000</td>\n",
       "      <td>0.480000</td>\n",
       "      <td>1.270000</td>\n",
       "      <td>278.000000</td>\n",
       "      <td>1.000000</td>\n",
       "    </tr>\n",
       "    <tr>\n",
       "      <th>25%</th>\n",
       "      <td>12.362500</td>\n",
       "      <td>1.602500</td>\n",
       "      <td>2.210000</td>\n",
       "      <td>17.200000</td>\n",
       "      <td>88.000000</td>\n",
       "      <td>1.742500</td>\n",
       "      <td>1.205000</td>\n",
       "      <td>0.270000</td>\n",
       "      <td>1.250000</td>\n",
       "      <td>3.220000</td>\n",
       "      <td>0.782500</td>\n",
       "      <td>1.937500</td>\n",
       "      <td>500.500000</td>\n",
       "      <td>1.000000</td>\n",
       "    </tr>\n",
       "    <tr>\n",
       "      <th>50%</th>\n",
       "      <td>13.050000</td>\n",
       "      <td>1.865000</td>\n",
       "      <td>2.360000</td>\n",
       "      <td>19.500000</td>\n",
       "      <td>98.000000</td>\n",
       "      <td>2.355000</td>\n",
       "      <td>2.135000</td>\n",
       "      <td>0.340000</td>\n",
       "      <td>1.555000</td>\n",
       "      <td>4.690000</td>\n",
       "      <td>0.965000</td>\n",
       "      <td>2.780000</td>\n",
       "      <td>673.500000</td>\n",
       "      <td>2.000000</td>\n",
       "    </tr>\n",
       "    <tr>\n",
       "      <th>75%</th>\n",
       "      <td>13.677500</td>\n",
       "      <td>3.082500</td>\n",
       "      <td>2.557500</td>\n",
       "      <td>21.500000</td>\n",
       "      <td>107.000000</td>\n",
       "      <td>2.800000</td>\n",
       "      <td>2.875000</td>\n",
       "      <td>0.437500</td>\n",
       "      <td>1.950000</td>\n",
       "      <td>6.200000</td>\n",
       "      <td>1.120000</td>\n",
       "      <td>3.170000</td>\n",
       "      <td>985.000000</td>\n",
       "      <td>3.000000</td>\n",
       "    </tr>\n",
       "    <tr>\n",
       "      <th>max</th>\n",
       "      <td>14.830000</td>\n",
       "      <td>5.800000</td>\n",
       "      <td>3.230000</td>\n",
       "      <td>30.000000</td>\n",
       "      <td>162.000000</td>\n",
       "      <td>3.880000</td>\n",
       "      <td>5.080000</td>\n",
       "      <td>0.660000</td>\n",
       "      <td>3.580000</td>\n",
       "      <td>13.000000</td>\n",
       "      <td>1.710000</td>\n",
       "      <td>4.000000</td>\n",
       "      <td>1680.000000</td>\n",
       "      <td>3.000000</td>\n",
       "    </tr>\n",
       "  </tbody>\n",
       "</table>\n",
       "</div>"
      ],
      "text/plain": [
       "           Alcool  Malic_Acid         Ash  Alcalinidade_po    Magnesio  \\\n",
       "count  178.000000  178.000000  178.000000       178.000000  178.000000   \n",
       "mean    13.000618    2.336348    2.366517        19.494944   99.741573   \n",
       "std      0.811827    1.117146    0.274344         3.339564   14.282484   \n",
       "min     11.030000    0.740000    1.360000        10.600000   70.000000   \n",
       "25%     12.362500    1.602500    2.210000        17.200000   88.000000   \n",
       "50%     13.050000    1.865000    2.360000        19.500000   98.000000   \n",
       "75%     13.677500    3.082500    2.557500        21.500000  107.000000   \n",
       "max     14.830000    5.800000    3.230000        30.000000  162.000000   \n",
       "\n",
       "       Total_Phenols  Flavanoids  Nonflavanoid_Phenols  Proanthocyanins  \\\n",
       "count     178.000000  178.000000            178.000000       178.000000   \n",
       "mean        2.295112    2.029270              0.361854         1.590899   \n",
       "std         0.625851    0.998859              0.124453         0.572359   \n",
       "min         0.980000    0.340000              0.130000         0.410000   \n",
       "25%         1.742500    1.205000              0.270000         1.250000   \n",
       "50%         2.355000    2.135000              0.340000         1.555000   \n",
       "75%         2.800000    2.875000              0.437500         1.950000   \n",
       "max         3.880000    5.080000              0.660000         3.580000   \n",
       "\n",
       "       Intesidade_de_color         Hue       OD280      Proline  \\\n",
       "count           178.000000  178.000000  178.000000   178.000000   \n",
       "mean              5.058090    0.957449    2.611685   746.893258   \n",
       "std               2.318286    0.228572    0.709990   314.907474   \n",
       "min               1.280000    0.480000    1.270000   278.000000   \n",
       "25%               3.220000    0.782500    1.937500   500.500000   \n",
       "50%               4.690000    0.965000    2.780000   673.500000   \n",
       "75%               6.200000    1.120000    3.170000   985.000000   \n",
       "max              13.000000    1.710000    4.000000  1680.000000   \n",
       "\n",
       "       Customer_Segment  \n",
       "count        178.000000  \n",
       "mean           1.938202  \n",
       "std            0.775035  \n",
       "min            1.000000  \n",
       "25%            1.000000  \n",
       "50%            2.000000  \n",
       "75%            3.000000  \n",
       "max            3.000000  "
      ]
     },
     "execution_count": 8,
     "metadata": {},
     "output_type": "execute_result"
    }
   ],
   "source": [
    "# bucando informações do data set \n",
    "df.describe()"
   ]
  },
  {
   "cell_type": "code",
   "execution_count": 9,
   "id": "ea36d1b6",
   "metadata": {},
   "outputs": [
    {
     "data": {
      "text/html": [
       "<div>\n",
       "<style scoped>\n",
       "    .dataframe tbody tr th:only-of-type {\n",
       "        vertical-align: middle;\n",
       "    }\n",
       "\n",
       "    .dataframe tbody tr th {\n",
       "        vertical-align: top;\n",
       "    }\n",
       "\n",
       "    .dataframe thead th {\n",
       "        text-align: right;\n",
       "    }\n",
       "</style>\n",
       "<table border=\"1\" class=\"dataframe\">\n",
       "  <thead>\n",
       "    <tr style=\"text-align: right;\">\n",
       "      <th></th>\n",
       "      <th>Alcool</th>\n",
       "      <th>Malic_Acid</th>\n",
       "      <th>Ash</th>\n",
       "      <th>Alcalinidade_po</th>\n",
       "      <th>Magnesio</th>\n",
       "      <th>Total_Phenols</th>\n",
       "      <th>Flavanoids</th>\n",
       "      <th>Nonflavanoid_Phenols</th>\n",
       "      <th>Proanthocyanins</th>\n",
       "      <th>Intesidade_de_color</th>\n",
       "      <th>Hue</th>\n",
       "      <th>OD280</th>\n",
       "      <th>Proline</th>\n",
       "      <th>Customer_Segment</th>\n",
       "    </tr>\n",
       "  </thead>\n",
       "  <tbody>\n",
       "    <tr>\n",
       "      <th>Alcool</th>\n",
       "      <td>1.000000</td>\n",
       "      <td>0.094397</td>\n",
       "      <td>0.211545</td>\n",
       "      <td>-0.310235</td>\n",
       "      <td>0.270798</td>\n",
       "      <td>0.289101</td>\n",
       "      <td>0.236815</td>\n",
       "      <td>-0.155929</td>\n",
       "      <td>0.136698</td>\n",
       "      <td>0.546364</td>\n",
       "      <td>-0.071747</td>\n",
       "      <td>0.072343</td>\n",
       "      <td>0.643720</td>\n",
       "      <td>-0.328222</td>\n",
       "    </tr>\n",
       "    <tr>\n",
       "      <th>Malic_Acid</th>\n",
       "      <td>0.094397</td>\n",
       "      <td>1.000000</td>\n",
       "      <td>0.164045</td>\n",
       "      <td>0.288500</td>\n",
       "      <td>-0.054575</td>\n",
       "      <td>-0.335167</td>\n",
       "      <td>-0.411007</td>\n",
       "      <td>0.292977</td>\n",
       "      <td>-0.220746</td>\n",
       "      <td>0.248985</td>\n",
       "      <td>-0.561296</td>\n",
       "      <td>-0.368710</td>\n",
       "      <td>-0.192011</td>\n",
       "      <td>0.437776</td>\n",
       "    </tr>\n",
       "    <tr>\n",
       "      <th>Ash</th>\n",
       "      <td>0.211545</td>\n",
       "      <td>0.164045</td>\n",
       "      <td>1.000000</td>\n",
       "      <td>0.443367</td>\n",
       "      <td>0.286587</td>\n",
       "      <td>0.128980</td>\n",
       "      <td>0.115077</td>\n",
       "      <td>0.186230</td>\n",
       "      <td>0.009652</td>\n",
       "      <td>0.258887</td>\n",
       "      <td>-0.074667</td>\n",
       "      <td>0.003911</td>\n",
       "      <td>0.223626</td>\n",
       "      <td>-0.049643</td>\n",
       "    </tr>\n",
       "    <tr>\n",
       "      <th>Alcalinidade_po</th>\n",
       "      <td>-0.310235</td>\n",
       "      <td>0.288500</td>\n",
       "      <td>0.443367</td>\n",
       "      <td>1.000000</td>\n",
       "      <td>-0.083333</td>\n",
       "      <td>-0.321113</td>\n",
       "      <td>-0.351370</td>\n",
       "      <td>0.361922</td>\n",
       "      <td>-0.197327</td>\n",
       "      <td>0.018732</td>\n",
       "      <td>-0.273955</td>\n",
       "      <td>-0.276769</td>\n",
       "      <td>-0.440597</td>\n",
       "      <td>0.517859</td>\n",
       "    </tr>\n",
       "    <tr>\n",
       "      <th>Magnesio</th>\n",
       "      <td>0.270798</td>\n",
       "      <td>-0.054575</td>\n",
       "      <td>0.286587</td>\n",
       "      <td>-0.083333</td>\n",
       "      <td>1.000000</td>\n",
       "      <td>0.214401</td>\n",
       "      <td>0.195784</td>\n",
       "      <td>-0.256294</td>\n",
       "      <td>0.236441</td>\n",
       "      <td>0.199950</td>\n",
       "      <td>0.055398</td>\n",
       "      <td>0.066004</td>\n",
       "      <td>0.393351</td>\n",
       "      <td>-0.209179</td>\n",
       "    </tr>\n",
       "    <tr>\n",
       "      <th>Total_Phenols</th>\n",
       "      <td>0.289101</td>\n",
       "      <td>-0.335167</td>\n",
       "      <td>0.128980</td>\n",
       "      <td>-0.321113</td>\n",
       "      <td>0.214401</td>\n",
       "      <td>1.000000</td>\n",
       "      <td>0.864564</td>\n",
       "      <td>-0.449935</td>\n",
       "      <td>0.612413</td>\n",
       "      <td>-0.055136</td>\n",
       "      <td>0.433681</td>\n",
       "      <td>0.699949</td>\n",
       "      <td>0.498115</td>\n",
       "      <td>-0.719163</td>\n",
       "    </tr>\n",
       "    <tr>\n",
       "      <th>Flavanoids</th>\n",
       "      <td>0.236815</td>\n",
       "      <td>-0.411007</td>\n",
       "      <td>0.115077</td>\n",
       "      <td>-0.351370</td>\n",
       "      <td>0.195784</td>\n",
       "      <td>0.864564</td>\n",
       "      <td>1.000000</td>\n",
       "      <td>-0.537900</td>\n",
       "      <td>0.652692</td>\n",
       "      <td>-0.172379</td>\n",
       "      <td>0.543479</td>\n",
       "      <td>0.787194</td>\n",
       "      <td>0.494193</td>\n",
       "      <td>-0.847498</td>\n",
       "    </tr>\n",
       "    <tr>\n",
       "      <th>Nonflavanoid_Phenols</th>\n",
       "      <td>-0.155929</td>\n",
       "      <td>0.292977</td>\n",
       "      <td>0.186230</td>\n",
       "      <td>0.361922</td>\n",
       "      <td>-0.256294</td>\n",
       "      <td>-0.449935</td>\n",
       "      <td>-0.537900</td>\n",
       "      <td>1.000000</td>\n",
       "      <td>-0.365845</td>\n",
       "      <td>0.139057</td>\n",
       "      <td>-0.262640</td>\n",
       "      <td>-0.503270</td>\n",
       "      <td>-0.311385</td>\n",
       "      <td>0.489109</td>\n",
       "    </tr>\n",
       "    <tr>\n",
       "      <th>Proanthocyanins</th>\n",
       "      <td>0.136698</td>\n",
       "      <td>-0.220746</td>\n",
       "      <td>0.009652</td>\n",
       "      <td>-0.197327</td>\n",
       "      <td>0.236441</td>\n",
       "      <td>0.612413</td>\n",
       "      <td>0.652692</td>\n",
       "      <td>-0.365845</td>\n",
       "      <td>1.000000</td>\n",
       "      <td>-0.025250</td>\n",
       "      <td>0.295544</td>\n",
       "      <td>0.519067</td>\n",
       "      <td>0.330417</td>\n",
       "      <td>-0.499130</td>\n",
       "    </tr>\n",
       "    <tr>\n",
       "      <th>Intesidade_de_color</th>\n",
       "      <td>0.546364</td>\n",
       "      <td>0.248985</td>\n",
       "      <td>0.258887</td>\n",
       "      <td>0.018732</td>\n",
       "      <td>0.199950</td>\n",
       "      <td>-0.055136</td>\n",
       "      <td>-0.172379</td>\n",
       "      <td>0.139057</td>\n",
       "      <td>-0.025250</td>\n",
       "      <td>1.000000</td>\n",
       "      <td>-0.521813</td>\n",
       "      <td>-0.428815</td>\n",
       "      <td>0.316100</td>\n",
       "      <td>0.265668</td>\n",
       "    </tr>\n",
       "    <tr>\n",
       "      <th>Hue</th>\n",
       "      <td>-0.071747</td>\n",
       "      <td>-0.561296</td>\n",
       "      <td>-0.074667</td>\n",
       "      <td>-0.273955</td>\n",
       "      <td>0.055398</td>\n",
       "      <td>0.433681</td>\n",
       "      <td>0.543479</td>\n",
       "      <td>-0.262640</td>\n",
       "      <td>0.295544</td>\n",
       "      <td>-0.521813</td>\n",
       "      <td>1.000000</td>\n",
       "      <td>0.565468</td>\n",
       "      <td>0.236183</td>\n",
       "      <td>-0.617369</td>\n",
       "    </tr>\n",
       "    <tr>\n",
       "      <th>OD280</th>\n",
       "      <td>0.072343</td>\n",
       "      <td>-0.368710</td>\n",
       "      <td>0.003911</td>\n",
       "      <td>-0.276769</td>\n",
       "      <td>0.066004</td>\n",
       "      <td>0.699949</td>\n",
       "      <td>0.787194</td>\n",
       "      <td>-0.503270</td>\n",
       "      <td>0.519067</td>\n",
       "      <td>-0.428815</td>\n",
       "      <td>0.565468</td>\n",
       "      <td>1.000000</td>\n",
       "      <td>0.312761</td>\n",
       "      <td>-0.788230</td>\n",
       "    </tr>\n",
       "    <tr>\n",
       "      <th>Proline</th>\n",
       "      <td>0.643720</td>\n",
       "      <td>-0.192011</td>\n",
       "      <td>0.223626</td>\n",
       "      <td>-0.440597</td>\n",
       "      <td>0.393351</td>\n",
       "      <td>0.498115</td>\n",
       "      <td>0.494193</td>\n",
       "      <td>-0.311385</td>\n",
       "      <td>0.330417</td>\n",
       "      <td>0.316100</td>\n",
       "      <td>0.236183</td>\n",
       "      <td>0.312761</td>\n",
       "      <td>1.000000</td>\n",
       "      <td>-0.633717</td>\n",
       "    </tr>\n",
       "    <tr>\n",
       "      <th>Customer_Segment</th>\n",
       "      <td>-0.328222</td>\n",
       "      <td>0.437776</td>\n",
       "      <td>-0.049643</td>\n",
       "      <td>0.517859</td>\n",
       "      <td>-0.209179</td>\n",
       "      <td>-0.719163</td>\n",
       "      <td>-0.847498</td>\n",
       "      <td>0.489109</td>\n",
       "      <td>-0.499130</td>\n",
       "      <td>0.265668</td>\n",
       "      <td>-0.617369</td>\n",
       "      <td>-0.788230</td>\n",
       "      <td>-0.633717</td>\n",
       "      <td>1.000000</td>\n",
       "    </tr>\n",
       "  </tbody>\n",
       "</table>\n",
       "</div>"
      ],
      "text/plain": [
       "                        Alcool  Malic_Acid       Ash  Alcalinidade_po  \\\n",
       "Alcool                1.000000    0.094397  0.211545        -0.310235   \n",
       "Malic_Acid            0.094397    1.000000  0.164045         0.288500   \n",
       "Ash                   0.211545    0.164045  1.000000         0.443367   \n",
       "Alcalinidade_po      -0.310235    0.288500  0.443367         1.000000   \n",
       "Magnesio              0.270798   -0.054575  0.286587        -0.083333   \n",
       "Total_Phenols         0.289101   -0.335167  0.128980        -0.321113   \n",
       "Flavanoids            0.236815   -0.411007  0.115077        -0.351370   \n",
       "Nonflavanoid_Phenols -0.155929    0.292977  0.186230         0.361922   \n",
       "Proanthocyanins       0.136698   -0.220746  0.009652        -0.197327   \n",
       "Intesidade_de_color   0.546364    0.248985  0.258887         0.018732   \n",
       "Hue                  -0.071747   -0.561296 -0.074667        -0.273955   \n",
       "OD280                 0.072343   -0.368710  0.003911        -0.276769   \n",
       "Proline               0.643720   -0.192011  0.223626        -0.440597   \n",
       "Customer_Segment     -0.328222    0.437776 -0.049643         0.517859   \n",
       "\n",
       "                      Magnesio  Total_Phenols  Flavanoids  \\\n",
       "Alcool                0.270798       0.289101    0.236815   \n",
       "Malic_Acid           -0.054575      -0.335167   -0.411007   \n",
       "Ash                   0.286587       0.128980    0.115077   \n",
       "Alcalinidade_po      -0.083333      -0.321113   -0.351370   \n",
       "Magnesio              1.000000       0.214401    0.195784   \n",
       "Total_Phenols         0.214401       1.000000    0.864564   \n",
       "Flavanoids            0.195784       0.864564    1.000000   \n",
       "Nonflavanoid_Phenols -0.256294      -0.449935   -0.537900   \n",
       "Proanthocyanins       0.236441       0.612413    0.652692   \n",
       "Intesidade_de_color   0.199950      -0.055136   -0.172379   \n",
       "Hue                   0.055398       0.433681    0.543479   \n",
       "OD280                 0.066004       0.699949    0.787194   \n",
       "Proline               0.393351       0.498115    0.494193   \n",
       "Customer_Segment     -0.209179      -0.719163   -0.847498   \n",
       "\n",
       "                      Nonflavanoid_Phenols  Proanthocyanins  \\\n",
       "Alcool                           -0.155929         0.136698   \n",
       "Malic_Acid                        0.292977        -0.220746   \n",
       "Ash                               0.186230         0.009652   \n",
       "Alcalinidade_po                   0.361922        -0.197327   \n",
       "Magnesio                         -0.256294         0.236441   \n",
       "Total_Phenols                    -0.449935         0.612413   \n",
       "Flavanoids                       -0.537900         0.652692   \n",
       "Nonflavanoid_Phenols              1.000000        -0.365845   \n",
       "Proanthocyanins                  -0.365845         1.000000   \n",
       "Intesidade_de_color               0.139057        -0.025250   \n",
       "Hue                              -0.262640         0.295544   \n",
       "OD280                            -0.503270         0.519067   \n",
       "Proline                          -0.311385         0.330417   \n",
       "Customer_Segment                  0.489109        -0.499130   \n",
       "\n",
       "                      Intesidade_de_color       Hue     OD280   Proline  \\\n",
       "Alcool                           0.546364 -0.071747  0.072343  0.643720   \n",
       "Malic_Acid                       0.248985 -0.561296 -0.368710 -0.192011   \n",
       "Ash                              0.258887 -0.074667  0.003911  0.223626   \n",
       "Alcalinidade_po                  0.018732 -0.273955 -0.276769 -0.440597   \n",
       "Magnesio                         0.199950  0.055398  0.066004  0.393351   \n",
       "Total_Phenols                   -0.055136  0.433681  0.699949  0.498115   \n",
       "Flavanoids                      -0.172379  0.543479  0.787194  0.494193   \n",
       "Nonflavanoid_Phenols             0.139057 -0.262640 -0.503270 -0.311385   \n",
       "Proanthocyanins                 -0.025250  0.295544  0.519067  0.330417   \n",
       "Intesidade_de_color              1.000000 -0.521813 -0.428815  0.316100   \n",
       "Hue                             -0.521813  1.000000  0.565468  0.236183   \n",
       "OD280                           -0.428815  0.565468  1.000000  0.312761   \n",
       "Proline                          0.316100  0.236183  0.312761  1.000000   \n",
       "Customer_Segment                 0.265668 -0.617369 -0.788230 -0.633717   \n",
       "\n",
       "                      Customer_Segment  \n",
       "Alcool                       -0.328222  \n",
       "Malic_Acid                    0.437776  \n",
       "Ash                          -0.049643  \n",
       "Alcalinidade_po               0.517859  \n",
       "Magnesio                     -0.209179  \n",
       "Total_Phenols                -0.719163  \n",
       "Flavanoids                   -0.847498  \n",
       "Nonflavanoid_Phenols          0.489109  \n",
       "Proanthocyanins              -0.499130  \n",
       "Intesidade_de_color           0.265668  \n",
       "Hue                          -0.617369  \n",
       "OD280                        -0.788230  \n",
       "Proline                      -0.633717  \n",
       "Customer_Segment              1.000000  "
      ]
     },
     "execution_count": 9,
     "metadata": {},
     "output_type": "execute_result"
    }
   ],
   "source": [
    "#criando uma table de correlação \n",
    "matriz_corr = df.corr()\n",
    "matriz_corr"
   ]
  },
  {
   "cell_type": "code",
   "execution_count": 10,
   "id": "6358ef05",
   "metadata": {},
   "outputs": [
    {
     "name": "stderr",
     "output_type": "stream",
     "text": [
      "H:\\Estudos\\Anaconda3\\envs\\Alura\\lib\\site-packages\\biokit\\viz\\linkage.py:41: ClusterWarning: scipy.cluster: The symmetric non-negative hollow observation matrix looks suspiciously like an uncondensed distance matrix\n",
      "  Y = hierarchy.linkage(D, method=method, metric=metric)\n"
     ]
    },
    {
     "ename": "AttributeError",
     "evalue": "'Colorbar' object has no attribute 'set_clim'",
     "output_type": "error",
     "traceback": [
      "\u001b[1;31m---------------------------------------------------------------------------\u001b[0m",
      "\u001b[1;31mAttributeError\u001b[0m                            Traceback (most recent call last)",
      "\u001b[1;32m<ipython-input-10-4e3c9ea74361>\u001b[0m in \u001b[0;36m<module>\u001b[1;34m\u001b[0m\n\u001b[0;32m      2\u001b[0m \u001b[1;33m\u001b[0m\u001b[0m\n\u001b[0;32m      3\u001b[0m \u001b[0mcorr_graf\u001b[0m \u001b[1;33m=\u001b[0m  \u001b[0mcorrplot\u001b[0m\u001b[1;33m.\u001b[0m\u001b[0mCorrplot\u001b[0m\u001b[1;33m(\u001b[0m\u001b[0mmatriz_corr\u001b[0m\u001b[1;33m)\u001b[0m\u001b[1;33m\u001b[0m\u001b[1;33m\u001b[0m\u001b[0m\n\u001b[1;32m----> 4\u001b[1;33m \u001b[0mcorr_graf\u001b[0m\u001b[1;33m.\u001b[0m\u001b[0mplot\u001b[0m \u001b[1;33m(\u001b[0m\u001b[0mupper\u001b[0m \u001b[1;33m=\u001b[0m \u001b[1;34m'circle'\u001b[0m\u001b[1;33m,\u001b[0m \u001b[0mfontsize\u001b[0m \u001b[1;33m=\u001b[0m \u001b[1;34m'x-large'\u001b[0m\u001b[1;33m)\u001b[0m\u001b[1;33m\u001b[0m\u001b[1;33m\u001b[0m\u001b[0m\n\u001b[0m\u001b[0;32m      5\u001b[0m \u001b[0mfig\u001b[0m \u001b[1;33m=\u001b[0m \u001b[0mplt\u001b[0m\u001b[1;33m.\u001b[0m\u001b[0mgcf\u001b[0m\u001b[1;33m(\u001b[0m\u001b[1;33m)\u001b[0m\u001b[1;33m\u001b[0m\u001b[1;33m\u001b[0m\u001b[0m\n\u001b[0;32m      6\u001b[0m \u001b[0mfig\u001b[0m\u001b[1;33m.\u001b[0m\u001b[0mset_size_inches\u001b[0m\u001b[1;33m(\u001b[0m\u001b[1;36m13\u001b[0m\u001b[1;33m,\u001b[0m\u001b[1;36m8\u001b[0m\u001b[1;33m)\u001b[0m\u001b[1;33m\u001b[0m\u001b[1;33m\u001b[0m\u001b[0m\n",
      "\u001b[1;32mH:\\Estudos\\Anaconda3\\envs\\Alura\\lib\\site-packages\\biokit\\viz\\corrplot.py\u001b[0m in \u001b[0;36mplot\u001b[1;34m(self, fig, grid, rotation, lower, upper, shrink, facecolor, colorbar, label_color, fontsize, edgecolor, method, order_method, order_metric, cmap, ax, binarise_color)\u001b[0m\n\u001b[0;32m    333\u001b[0m                 boundaries= np.linspace(0,1,N), ticks=[0,.25, 0.5, 0.75,1])\n\u001b[0;32m    334\u001b[0m             \u001b[0mcb\u001b[0m\u001b[1;33m.\u001b[0m\u001b[0max\u001b[0m\u001b[1;33m.\u001b[0m\u001b[0mset_yticklabels\u001b[0m\u001b[1;33m(\u001b[0m\u001b[1;33m[\u001b[0m\u001b[1;33m-\u001b[0m\u001b[1;36m1\u001b[0m\u001b[1;33m,\u001b[0m\u001b[1;33m-\u001b[0m\u001b[1;36m.5\u001b[0m\u001b[1;33m,\u001b[0m\u001b[1;36m0\u001b[0m\u001b[1;33m,\u001b[0m\u001b[1;36m.5\u001b[0m\u001b[1;33m,\u001b[0m\u001b[1;36m1\u001b[0m\u001b[1;33m]\u001b[0m\u001b[1;33m)\u001b[0m\u001b[1;33m\u001b[0m\u001b[1;33m\u001b[0m\u001b[0m\n\u001b[1;32m--> 335\u001b[1;33m             \u001b[0mcb\u001b[0m\u001b[1;33m.\u001b[0m\u001b[0mset_clim\u001b[0m\u001b[1;33m(\u001b[0m\u001b[1;36m0\u001b[0m\u001b[1;33m,\u001b[0m\u001b[1;36m1\u001b[0m\u001b[1;33m)\u001b[0m \u001b[1;31m# make sure it goes from -1 to 1 even though actual values may not reach that range\u001b[0m\u001b[1;33m\u001b[0m\u001b[1;33m\u001b[0m\u001b[0m\n\u001b[0m\u001b[0;32m    336\u001b[0m \u001b[1;33m\u001b[0m\u001b[0m\n\u001b[0;32m    337\u001b[0m     \u001b[1;32mdef\u001b[0m \u001b[0m_add_patches\u001b[0m\u001b[1;33m(\u001b[0m\u001b[0mself\u001b[0m\u001b[1;33m,\u001b[0m \u001b[0mdf\u001b[0m\u001b[1;33m,\u001b[0m \u001b[0mmethod\u001b[0m\u001b[1;33m,\u001b[0m \u001b[0mfill\u001b[0m\u001b[1;33m,\u001b[0m \u001b[0max\u001b[0m\u001b[1;33m,\u001b[0m \u001b[0mdiagonal\u001b[0m\u001b[1;33m=\u001b[0m\u001b[1;32mTrue\u001b[0m\u001b[1;33m)\u001b[0m\u001b[1;33m:\u001b[0m\u001b[1;33m\u001b[0m\u001b[1;33m\u001b[0m\u001b[0m\n",
      "\u001b[1;31mAttributeError\u001b[0m: 'Colorbar' object has no attribute 'set_clim'"
     ]
    },
    {
     "data": {
      "image/png": "[encoded data removed]",
      "text/plain": [
       "<Figure size 432x288 with 2 Axes>"
      ]
     },
     "metadata": {},
     "output_type": "display_data"
    }
   ],
   "source": [
    "#Plotando um em um grafico a correlaçção entre objetos \n",
    "\n",
    "corr_graf =  corrplot.Corrplot(matriz_corr)\n",
    "corr_graf.plot (upper = 'circle', fontsize = 'x-large')\n",
    "fig = plt.gcf()\n",
    "fig.set_size_inches(13,8)\n",
    "fig.show()"
   ]
  },
  {
   "cell_type": "code",
   "execution_count": 12,
   "id": "dcde29f1",
   "metadata": {},
   "outputs": [],
   "source": [
    "#normalização \n",
    "\n",
    "#a normalização é uma tecnica de escala na qual os valores são deslocados e redimensionados para que fiquem entre 0 e 1. \n",
    "#também é conhecida como escala min-max\n",
    "\n",
    "# o min sempre sera 0\n",
    "# o max sempre sera 1 \n",
    "\n",
    "#tiremos o inviezamento dos dados \n",
    "atributos = df.columns \n",
    "for atributo in atributos:\n",
    "    df[atributo] = (df[atributo]-min(df[atributo]))/(max(df[atributo])-min(df[atributo]))"
   ]
  },
  {
   "cell_type": "code",
   "execution_count": 13,
   "id": "5fe8c86f",
   "metadata": {},
   "outputs": [
    {
     "data": {
      "text/html": [
       "<div>\n",
       "<style scoped>\n",
       "    .dataframe tbody tr th:only-of-type {\n",
       "        vertical-align: middle;\n",
       "    }\n",
       "\n",
       "    .dataframe tbody tr th {\n",
       "        vertical-align: top;\n",
       "    }\n",
       "\n",
       "    .dataframe thead th {\n",
       "        text-align: right;\n",
       "    }\n",
       "</style>\n",
       "<table border=\"1\" class=\"dataframe\">\n",
       "  <thead>\n",
       "    <tr style=\"text-align: right;\">\n",
       "      <th></th>\n",
       "      <th>Alcool</th>\n",
       "      <th>Malic_Acid</th>\n",
       "      <th>Ash</th>\n",
       "      <th>Alcalinidade_po</th>\n",
       "      <th>Magnesio</th>\n",
       "      <th>Total_Phenols</th>\n",
       "      <th>Flavanoids</th>\n",
       "      <th>Nonflavanoid_Phenols</th>\n",
       "      <th>Proanthocyanins</th>\n",
       "      <th>Intesidade_de_color</th>\n",
       "      <th>Hue</th>\n",
       "      <th>OD280</th>\n",
       "      <th>Proline</th>\n",
       "      <th>Customer_Segment</th>\n",
       "    </tr>\n",
       "  </thead>\n",
       "  <tbody>\n",
       "    <tr>\n",
       "      <th>0</th>\n",
       "      <td>0.842105</td>\n",
       "      <td>0.191700</td>\n",
       "      <td>0.572193</td>\n",
       "      <td>0.257732</td>\n",
       "      <td>0.619565</td>\n",
       "      <td>0.627586</td>\n",
       "      <td>0.573840</td>\n",
       "      <td>0.283019</td>\n",
       "      <td>0.593060</td>\n",
       "      <td>0.372014</td>\n",
       "      <td>0.455285</td>\n",
       "      <td>0.970696</td>\n",
       "      <td>0.561341</td>\n",
       "      <td>0.0</td>\n",
       "    </tr>\n",
       "    <tr>\n",
       "      <th>1</th>\n",
       "      <td>0.571053</td>\n",
       "      <td>0.205534</td>\n",
       "      <td>0.417112</td>\n",
       "      <td>0.030928</td>\n",
       "      <td>0.326087</td>\n",
       "      <td>0.575862</td>\n",
       "      <td>0.510549</td>\n",
       "      <td>0.245283</td>\n",
       "      <td>0.274448</td>\n",
       "      <td>0.264505</td>\n",
       "      <td>0.463415</td>\n",
       "      <td>0.780220</td>\n",
       "      <td>0.550642</td>\n",
       "      <td>0.0</td>\n",
       "    </tr>\n",
       "    <tr>\n",
       "      <th>2</th>\n",
       "      <td>0.560526</td>\n",
       "      <td>0.320158</td>\n",
       "      <td>0.700535</td>\n",
       "      <td>0.412371</td>\n",
       "      <td>0.336957</td>\n",
       "      <td>0.627586</td>\n",
       "      <td>0.611814</td>\n",
       "      <td>0.320755</td>\n",
       "      <td>0.757098</td>\n",
       "      <td>0.375427</td>\n",
       "      <td>0.447154</td>\n",
       "      <td>0.695971</td>\n",
       "      <td>0.646933</td>\n",
       "      <td>0.0</td>\n",
       "    </tr>\n",
       "    <tr>\n",
       "      <th>3</th>\n",
       "      <td>0.878947</td>\n",
       "      <td>0.239130</td>\n",
       "      <td>0.609626</td>\n",
       "      <td>0.319588</td>\n",
       "      <td>0.467391</td>\n",
       "      <td>0.989655</td>\n",
       "      <td>0.664557</td>\n",
       "      <td>0.207547</td>\n",
       "      <td>0.558360</td>\n",
       "      <td>0.556314</td>\n",
       "      <td>0.308943</td>\n",
       "      <td>0.798535</td>\n",
       "      <td>0.857347</td>\n",
       "      <td>0.0</td>\n",
       "    </tr>\n",
       "    <tr>\n",
       "      <th>4</th>\n",
       "      <td>0.581579</td>\n",
       "      <td>0.365613</td>\n",
       "      <td>0.807487</td>\n",
       "      <td>0.536082</td>\n",
       "      <td>0.521739</td>\n",
       "      <td>0.627586</td>\n",
       "      <td>0.495781</td>\n",
       "      <td>0.490566</td>\n",
       "      <td>0.444795</td>\n",
       "      <td>0.259386</td>\n",
       "      <td>0.455285</td>\n",
       "      <td>0.608059</td>\n",
       "      <td>0.325963</td>\n",
       "      <td>0.0</td>\n",
       "    </tr>\n",
       "  </tbody>\n",
       "</table>\n",
       "</div>"
      ],
      "text/plain": [
       "     Alcool  Malic_Acid       Ash  Alcalinidade_po  Magnesio  Total_Phenols  \\\n",
       "0  0.842105    0.191700  0.572193         0.257732  0.619565       0.627586   \n",
       "1  0.571053    0.205534  0.417112         0.030928  0.326087       0.575862   \n",
       "2  0.560526    0.320158  0.700535         0.412371  0.336957       0.627586   \n",
       "3  0.878947    0.239130  0.609626         0.319588  0.467391       0.989655   \n",
       "4  0.581579    0.365613  0.807487         0.536082  0.521739       0.627586   \n",
       "\n",
       "   Flavanoids  Nonflavanoid_Phenols  Proanthocyanins  Intesidade_de_color  \\\n",
       "0    0.573840              0.283019         0.593060             0.372014   \n",
       "1    0.510549              0.245283         0.274448             0.264505   \n",
       "2    0.611814              0.320755         0.757098             0.375427   \n",
       "3    0.664557              0.207547         0.558360             0.556314   \n",
       "4    0.495781              0.490566         0.444795             0.259386   \n",
       "\n",
       "        Hue     OD280   Proline  Customer_Segment  \n",
       "0  0.455285  0.970696  0.561341               0.0  \n",
       "1  0.463415  0.780220  0.550642               0.0  \n",
       "2  0.447154  0.695971  0.646933               0.0  \n",
       "3  0.308943  0.798535  0.857347               0.0  \n",
       "4  0.455285  0.608059  0.325963               0.0  "
      ]
     },
     "execution_count": 13,
     "metadata": {},
     "output_type": "execute_result"
    }
   ],
   "source": [
    "df.head()"
   ]
  },
  {
   "cell_type": "code",
   "execution_count": 15,
   "id": "af5fcf64",
   "metadata": {},
   "outputs": [],
   "source": [
    "# Esse “MinMaxScaler”, quando nós utilizarmos o método “fit” que significa basicamente que nós pegaremos o nosso dado e \n",
    "# passaremos para essa função e ela colocará entre 0 e 1, ele vai retornar para nós um NumPy array, que é o nome do \n",
    "# nosso NumPy array. “np.df = min_max_scaler.fit_transform”, nós vamos passar para ela como entrada o nosso DataFrame.\n",
    "\n",
    "min_max_scaler = preprocessing.MinMaxScaler()\n",
    "np_df = min_max_scaler.fit_transform(df)\n"
   ]
  },
  {
   "cell_type": "code",
   "execution_count": 16,
   "id": "03d76a6d",
   "metadata": {},
   "outputs": [],
   "source": [
    "# pegando o nome das colunas \n",
    "colunas = df.columns \n",
    "\n",
    "#Agora como nós temos o NumPy array, nós devemos transformar isso para o nosso Pandas DataFrames\n",
    "df = pd.DataFrame(np_df, columns = colunas )\n"
   ]
  },
  {
   "cell_type": "code",
   "execution_count": 17,
   "id": "7163bafc",
   "metadata": {},
   "outputs": [
    {
     "data": {
      "text/html": [
       "<div>\n",
       "<style scoped>\n",
       "    .dataframe tbody tr th:only-of-type {\n",
       "        vertical-align: middle;\n",
       "    }\n",
       "\n",
       "    .dataframe tbody tr th {\n",
       "        vertical-align: top;\n",
       "    }\n",
       "\n",
       "    .dataframe thead th {\n",
       "        text-align: right;\n",
       "    }\n",
       "</style>\n",
       "<table border=\"1\" class=\"dataframe\">\n",
       "  <thead>\n",
       "    <tr style=\"text-align: right;\">\n",
       "      <th></th>\n",
       "      <th>Alcool</th>\n",
       "      <th>Malic_Acid</th>\n",
       "      <th>Ash</th>\n",
       "      <th>Alcalinidade_po</th>\n",
       "      <th>Magnesio</th>\n",
       "      <th>Total_Phenols</th>\n",
       "      <th>Flavanoids</th>\n",
       "      <th>Nonflavanoid_Phenols</th>\n",
       "      <th>Proanthocyanins</th>\n",
       "      <th>Intesidade_de_color</th>\n",
       "      <th>Hue</th>\n",
       "      <th>OD280</th>\n",
       "      <th>Proline</th>\n",
       "      <th>Customer_Segment</th>\n",
       "    </tr>\n",
       "  </thead>\n",
       "  <tbody>\n",
       "    <tr>\n",
       "      <th>count</th>\n",
       "      <td>178.000000</td>\n",
       "      <td>178.000000</td>\n",
       "      <td>178.000000</td>\n",
       "      <td>178.000000</td>\n",
       "      <td>178.000000</td>\n",
       "      <td>178.000000</td>\n",
       "      <td>178.000000</td>\n",
       "      <td>178.000000</td>\n",
       "      <td>178.000000</td>\n",
       "      <td>178.000000</td>\n",
       "      <td>178.000000</td>\n",
       "      <td>178.000000</td>\n",
       "      <td>178.000000</td>\n",
       "      <td>178.000000</td>\n",
       "    </tr>\n",
       "    <tr>\n",
       "      <th>mean</th>\n",
       "      <td>0.518584</td>\n",
       "      <td>0.315484</td>\n",
       "      <td>0.538244</td>\n",
       "      <td>0.458502</td>\n",
       "      <td>0.323278</td>\n",
       "      <td>0.453487</td>\n",
       "      <td>0.356386</td>\n",
       "      <td>0.437460</td>\n",
       "      <td>0.372523</td>\n",
       "      <td>0.322363</td>\n",
       "      <td>0.388170</td>\n",
       "      <td>0.491460</td>\n",
       "      <td>0.334446</td>\n",
       "      <td>0.469101</td>\n",
       "    </tr>\n",
       "    <tr>\n",
       "      <th>std</th>\n",
       "      <td>0.213639</td>\n",
       "      <td>0.220780</td>\n",
       "      <td>0.146708</td>\n",
       "      <td>0.172142</td>\n",
       "      <td>0.155244</td>\n",
       "      <td>0.215811</td>\n",
       "      <td>0.210730</td>\n",
       "      <td>0.234818</td>\n",
       "      <td>0.180555</td>\n",
       "      <td>0.197806</td>\n",
       "      <td>0.185831</td>\n",
       "      <td>0.260070</td>\n",
       "      <td>0.224613</td>\n",
       "      <td>0.387517</td>\n",
       "    </tr>\n",
       "    <tr>\n",
       "      <th>min</th>\n",
       "      <td>0.000000</td>\n",
       "      <td>0.000000</td>\n",
       "      <td>0.000000</td>\n",
       "      <td>0.000000</td>\n",
       "      <td>0.000000</td>\n",
       "      <td>0.000000</td>\n",
       "      <td>0.000000</td>\n",
       "      <td>0.000000</td>\n",
       "      <td>0.000000</td>\n",
       "      <td>0.000000</td>\n",
       "      <td>0.000000</td>\n",
       "      <td>0.000000</td>\n",
       "      <td>0.000000</td>\n",
       "      <td>0.000000</td>\n",
       "    </tr>\n",
       "    <tr>\n",
       "      <th>25%</th>\n",
       "      <td>0.350658</td>\n",
       "      <td>0.170455</td>\n",
       "      <td>0.454545</td>\n",
       "      <td>0.340206</td>\n",
       "      <td>0.195652</td>\n",
       "      <td>0.262931</td>\n",
       "      <td>0.182489</td>\n",
       "      <td>0.264151</td>\n",
       "      <td>0.264984</td>\n",
       "      <td>0.165529</td>\n",
       "      <td>0.245935</td>\n",
       "      <td>0.244505</td>\n",
       "      <td>0.158702</td>\n",
       "      <td>0.000000</td>\n",
       "    </tr>\n",
       "    <tr>\n",
       "      <th>50%</th>\n",
       "      <td>0.531579</td>\n",
       "      <td>0.222332</td>\n",
       "      <td>0.534759</td>\n",
       "      <td>0.458763</td>\n",
       "      <td>0.304348</td>\n",
       "      <td>0.474138</td>\n",
       "      <td>0.378692</td>\n",
       "      <td>0.396226</td>\n",
       "      <td>0.361199</td>\n",
       "      <td>0.290956</td>\n",
       "      <td>0.394309</td>\n",
       "      <td>0.553114</td>\n",
       "      <td>0.282097</td>\n",
       "      <td>0.500000</td>\n",
       "    </tr>\n",
       "    <tr>\n",
       "      <th>75%</th>\n",
       "      <td>0.696711</td>\n",
       "      <td>0.462945</td>\n",
       "      <td>0.640374</td>\n",
       "      <td>0.561856</td>\n",
       "      <td>0.402174</td>\n",
       "      <td>0.627586</td>\n",
       "      <td>0.534810</td>\n",
       "      <td>0.580189</td>\n",
       "      <td>0.485804</td>\n",
       "      <td>0.419795</td>\n",
       "      <td>0.520325</td>\n",
       "      <td>0.695971</td>\n",
       "      <td>0.504280</td>\n",
       "      <td>1.000000</td>\n",
       "    </tr>\n",
       "    <tr>\n",
       "      <th>max</th>\n",
       "      <td>1.000000</td>\n",
       "      <td>1.000000</td>\n",
       "      <td>1.000000</td>\n",
       "      <td>1.000000</td>\n",
       "      <td>1.000000</td>\n",
       "      <td>1.000000</td>\n",
       "      <td>1.000000</td>\n",
       "      <td>1.000000</td>\n",
       "      <td>1.000000</td>\n",
       "      <td>1.000000</td>\n",
       "      <td>1.000000</td>\n",
       "      <td>1.000000</td>\n",
       "      <td>1.000000</td>\n",
       "      <td>1.000000</td>\n",
       "    </tr>\n",
       "  </tbody>\n",
       "</table>\n",
       "</div>"
      ],
      "text/plain": [
       "           Alcool  Malic_Acid         Ash  Alcalinidade_po    Magnesio  \\\n",
       "count  178.000000  178.000000  178.000000       178.000000  178.000000   \n",
       "mean     0.518584    0.315484    0.538244         0.458502    0.323278   \n",
       "std      0.213639    0.220780    0.146708         0.172142    0.155244   \n",
       "min      0.000000    0.000000    0.000000         0.000000    0.000000   \n",
       "25%      0.350658    0.170455    0.454545         0.340206    0.195652   \n",
       "50%      0.531579    0.222332    0.534759         0.458763    0.304348   \n",
       "75%      0.696711    0.462945    0.640374         0.561856    0.402174   \n",
       "max      1.000000    1.000000    1.000000         1.000000    1.000000   \n",
       "\n",
       "       Total_Phenols  Flavanoids  Nonflavanoid_Phenols  Proanthocyanins  \\\n",
       "count     178.000000  178.000000            178.000000       178.000000   \n",
       "mean        0.453487    0.356386              0.437460         0.372523   \n",
       "std         0.215811    0.210730              0.234818         0.180555   \n",
       "min         0.000000    0.000000              0.000000         0.000000   \n",
       "25%         0.262931    0.182489              0.264151         0.264984   \n",
       "50%         0.474138    0.378692              0.396226         0.361199   \n",
       "75%         0.627586    0.534810              0.580189         0.485804   \n",
       "max         1.000000    1.000000              1.000000         1.000000   \n",
       "\n",
       "       Intesidade_de_color         Hue       OD280     Proline  \\\n",
       "count           178.000000  178.000000  178.000000  178.000000   \n",
       "mean              0.322363    0.388170    0.491460    0.334446   \n",
       "std               0.197806    0.185831    0.260070    0.224613   \n",
       "min               0.000000    0.000000    0.000000    0.000000   \n",
       "25%               0.165529    0.245935    0.244505    0.158702   \n",
       "50%               0.290956    0.394309    0.553114    0.282097   \n",
       "75%               0.419795    0.520325    0.695971    0.504280   \n",
       "max               1.000000    1.000000    1.000000    1.000000   \n",
       "\n",
       "       Customer_Segment  \n",
       "count        178.000000  \n",
       "mean           0.469101  \n",
       "std            0.387517  \n",
       "min            0.000000  \n",
       "25%            0.000000  \n",
       "50%            0.500000  \n",
       "75%            1.000000  \n",
       "max            1.000000  "
      ]
     },
     "execution_count": 17,
     "metadata": {},
     "output_type": "execute_result"
    }
   ],
   "source": [
    "#vendo o resultado \n",
    "df.describe()"
   ]
  },
  {
   "cell_type": "code",
   "execution_count": 18,
   "id": "0e7e6dcd",
   "metadata": {},
   "outputs": [],
   "source": [
    "#Tirando a normalização e deixando como os dados origeinais eram\n",
    "\n",
    "np_df = min_max_scaler.inverse_transform(df)"
   ]
  },
  {
   "cell_type": "code",
   "execution_count": 20,
   "id": "7183dcca",
   "metadata": {},
   "outputs": [
    {
     "data": {
      "text/html": [
       "<div>\n",
       "<style scoped>\n",
       "    .dataframe tbody tr th:only-of-type {\n",
       "        vertical-align: middle;\n",
       "    }\n",
       "\n",
       "    .dataframe tbody tr th {\n",
       "        vertical-align: top;\n",
       "    }\n",
       "\n",
       "    .dataframe thead th {\n",
       "        text-align: right;\n",
       "    }\n",
       "</style>\n",
       "<table border=\"1\" class=\"dataframe\">\n",
       "  <thead>\n",
       "    <tr style=\"text-align: right;\">\n",
       "      <th></th>\n",
       "      <th>Alcool</th>\n",
       "      <th>Malic_Acid</th>\n",
       "      <th>Ash</th>\n",
       "      <th>Alcalinidade_po</th>\n",
       "      <th>Magnesio</th>\n",
       "      <th>Total_Phenols</th>\n",
       "      <th>Flavanoids</th>\n",
       "      <th>Nonflavanoid_Phenols</th>\n",
       "      <th>Proanthocyanins</th>\n",
       "      <th>Intesidade_de_color</th>\n",
       "      <th>Hue</th>\n",
       "      <th>OD280</th>\n",
       "      <th>Proline</th>\n",
       "      <th>Customer_Segment</th>\n",
       "    </tr>\n",
       "  </thead>\n",
       "  <tbody>\n",
       "    <tr>\n",
       "      <th>count</th>\n",
       "      <td>178.000000</td>\n",
       "      <td>178.000000</td>\n",
       "      <td>178.000000</td>\n",
       "      <td>178.000000</td>\n",
       "      <td>178.000000</td>\n",
       "      <td>178.000000</td>\n",
       "      <td>178.000000</td>\n",
       "      <td>178.000000</td>\n",
       "      <td>178.000000</td>\n",
       "      <td>178.000000</td>\n",
       "      <td>178.000000</td>\n",
       "      <td>178.000000</td>\n",
       "      <td>178.000000</td>\n",
       "      <td>178.000000</td>\n",
       "    </tr>\n",
       "    <tr>\n",
       "      <th>mean</th>\n",
       "      <td>0.518584</td>\n",
       "      <td>0.315484</td>\n",
       "      <td>0.538244</td>\n",
       "      <td>0.458502</td>\n",
       "      <td>0.323278</td>\n",
       "      <td>0.453487</td>\n",
       "      <td>0.356386</td>\n",
       "      <td>0.437460</td>\n",
       "      <td>0.372523</td>\n",
       "      <td>0.322363</td>\n",
       "      <td>0.388170</td>\n",
       "      <td>0.491460</td>\n",
       "      <td>0.334446</td>\n",
       "      <td>0.469101</td>\n",
       "    </tr>\n",
       "    <tr>\n",
       "      <th>std</th>\n",
       "      <td>0.213639</td>\n",
       "      <td>0.220780</td>\n",
       "      <td>0.146708</td>\n",
       "      <td>0.172142</td>\n",
       "      <td>0.155244</td>\n",
       "      <td>0.215811</td>\n",
       "      <td>0.210730</td>\n",
       "      <td>0.234818</td>\n",
       "      <td>0.180555</td>\n",
       "      <td>0.197806</td>\n",
       "      <td>0.185831</td>\n",
       "      <td>0.260070</td>\n",
       "      <td>0.224613</td>\n",
       "      <td>0.387517</td>\n",
       "    </tr>\n",
       "    <tr>\n",
       "      <th>min</th>\n",
       "      <td>0.000000</td>\n",
       "      <td>0.000000</td>\n",
       "      <td>0.000000</td>\n",
       "      <td>0.000000</td>\n",
       "      <td>0.000000</td>\n",
       "      <td>0.000000</td>\n",
       "      <td>0.000000</td>\n",
       "      <td>0.000000</td>\n",
       "      <td>0.000000</td>\n",
       "      <td>0.000000</td>\n",
       "      <td>0.000000</td>\n",
       "      <td>0.000000</td>\n",
       "      <td>0.000000</td>\n",
       "      <td>0.000000</td>\n",
       "    </tr>\n",
       "    <tr>\n",
       "      <th>25%</th>\n",
       "      <td>0.350658</td>\n",
       "      <td>0.170455</td>\n",
       "      <td>0.454545</td>\n",
       "      <td>0.340206</td>\n",
       "      <td>0.195652</td>\n",
       "      <td>0.262931</td>\n",
       "      <td>0.182489</td>\n",
       "      <td>0.264151</td>\n",
       "      <td>0.264984</td>\n",
       "      <td>0.165529</td>\n",
       "      <td>0.245935</td>\n",
       "      <td>0.244505</td>\n",
       "      <td>0.158702</td>\n",
       "      <td>0.000000</td>\n",
       "    </tr>\n",
       "    <tr>\n",
       "      <th>50%</th>\n",
       "      <td>0.531579</td>\n",
       "      <td>0.222332</td>\n",
       "      <td>0.534759</td>\n",
       "      <td>0.458763</td>\n",
       "      <td>0.304348</td>\n",
       "      <td>0.474138</td>\n",
       "      <td>0.378692</td>\n",
       "      <td>0.396226</td>\n",
       "      <td>0.361199</td>\n",
       "      <td>0.290956</td>\n",
       "      <td>0.394309</td>\n",
       "      <td>0.553114</td>\n",
       "      <td>0.282097</td>\n",
       "      <td>0.500000</td>\n",
       "    </tr>\n",
       "    <tr>\n",
       "      <th>75%</th>\n",
       "      <td>0.696711</td>\n",
       "      <td>0.462945</td>\n",
       "      <td>0.640374</td>\n",
       "      <td>0.561856</td>\n",
       "      <td>0.402174</td>\n",
       "      <td>0.627586</td>\n",
       "      <td>0.534810</td>\n",
       "      <td>0.580189</td>\n",
       "      <td>0.485804</td>\n",
       "      <td>0.419795</td>\n",
       "      <td>0.520325</td>\n",
       "      <td>0.695971</td>\n",
       "      <td>0.504280</td>\n",
       "      <td>1.000000</td>\n",
       "    </tr>\n",
       "    <tr>\n",
       "      <th>max</th>\n",
       "      <td>1.000000</td>\n",
       "      <td>1.000000</td>\n",
       "      <td>1.000000</td>\n",
       "      <td>1.000000</td>\n",
       "      <td>1.000000</td>\n",
       "      <td>1.000000</td>\n",
       "      <td>1.000000</td>\n",
       "      <td>1.000000</td>\n",
       "      <td>1.000000</td>\n",
       "      <td>1.000000</td>\n",
       "      <td>1.000000</td>\n",
       "      <td>1.000000</td>\n",
       "      <td>1.000000</td>\n",
       "      <td>1.000000</td>\n",
       "    </tr>\n",
       "  </tbody>\n",
       "</table>\n",
       "</div>"
      ],
      "text/plain": [
       "           Alcool  Malic_Acid         Ash  Alcalinidade_po    Magnesio  \\\n",
       "count  178.000000  178.000000  178.000000       178.000000  178.000000   \n",
       "mean     0.518584    0.315484    0.538244         0.458502    0.323278   \n",
       "std      0.213639    0.220780    0.146708         0.172142    0.155244   \n",
       "min      0.000000    0.000000    0.000000         0.000000    0.000000   \n",
       "25%      0.350658    0.170455    0.454545         0.340206    0.195652   \n",
       "50%      0.531579    0.222332    0.534759         0.458763    0.304348   \n",
       "75%      0.696711    0.462945    0.640374         0.561856    0.402174   \n",
       "max      1.000000    1.000000    1.000000         1.000000    1.000000   \n",
       "\n",
       "       Total_Phenols  Flavanoids  Nonflavanoid_Phenols  Proanthocyanins  \\\n",
       "count     178.000000  178.000000            178.000000       178.000000   \n",
       "mean        0.453487    0.356386              0.437460         0.372523   \n",
       "std         0.215811    0.210730              0.234818         0.180555   \n",
       "min         0.000000    0.000000              0.000000         0.000000   \n",
       "25%         0.262931    0.182489              0.264151         0.264984   \n",
       "50%         0.474138    0.378692              0.396226         0.361199   \n",
       "75%         0.627586    0.534810              0.580189         0.485804   \n",
       "max         1.000000    1.000000              1.000000         1.000000   \n",
       "\n",
       "       Intesidade_de_color         Hue       OD280     Proline  \\\n",
       "count           178.000000  178.000000  178.000000  178.000000   \n",
       "mean              0.322363    0.388170    0.491460    0.334446   \n",
       "std               0.197806    0.185831    0.260070    0.224613   \n",
       "min               0.000000    0.000000    0.000000    0.000000   \n",
       "25%               0.165529    0.245935    0.244505    0.158702   \n",
       "50%               0.290956    0.394309    0.553114    0.282097   \n",
       "75%               0.419795    0.520325    0.695971    0.504280   \n",
       "max               1.000000    1.000000    1.000000    1.000000   \n",
       "\n",
       "       Customer_Segment  \n",
       "count        178.000000  \n",
       "mean           0.469101  \n",
       "std            0.387517  \n",
       "min            0.000000  \n",
       "25%            0.000000  \n",
       "50%            0.500000  \n",
       "75%            1.000000  \n",
       "max            1.000000  "
      ]
     },
     "execution_count": 20,
     "metadata": {},
     "output_type": "execute_result"
    }
   ],
   "source": [
    "# pegando o arrey e criando um Darafreme \n",
    "df = pd.DataFrame(np_df,columns = colunas)\n",
    "df.describe()"
   ]
  },
  {
   "cell_type": "code",
   "execution_count": 21,
   "id": "295b4314",
   "metadata": {},
   "outputs": [],
   "source": [
    "#fase de clusterização dos dados\n",
    "#introdução ao kmeans\n",
    "from sklearn.cluster import KMeans"
   ]
  },
  {
   "cell_type": "code",
   "execution_count": 30,
   "id": "11acd838",
   "metadata": {},
   "outputs": [
    {
     "data": {
      "text/plain": [
       "KMeans(n_clusters=3)"
      ]
     },
     "execution_count": 30,
     "metadata": {},
     "output_type": "execute_result"
    }
   ],
   "source": [
    "# Esse agrupador recebe como argumento para ele, o número de clusters.\n",
    "\n",
    "#Para realizar o primeiro agrupamento de teste, devemos instanciar um agrupador e aplicá-lo nos nossos dados, fazendo:\n",
    "\n",
    "agrupador3 = KMeans(n_clusters = 3)\n",
    "agrupador3.fit(df)"
   ]
  },
  {
   "cell_type": "code",
   "execution_count": 31,
   "id": "7a837cce",
   "metadata": {},
   "outputs": [
    {
     "data": {
      "text/plain": [
       "KMeans(n_clusters=4)"
      ]
     },
     "execution_count": 31,
     "metadata": {},
     "output_type": "execute_result"
    }
   ],
   "source": [
    "agrupador4 = KMeans(n_clusters = 4)\n",
    "agrupador4.fit(df)"
   ]
  },
  {
   "cell_type": "code",
   "execution_count": 32,
   "id": "57ed6dd3",
   "metadata": {},
   "outputs": [
    {
     "name": "stdout",
     "output_type": "stream",
     "text": [
      "[2 2 2 2 2 2 2 2 2 2 2 2 2 2 2 2 2 2 2 2 2 2 2 2 2 2 2 2 2 2 2 2 2 2 2 2 2\n",
      " 2 2 2 2 2 2 2 2 2 2 2 2 2 2 2 2 2 2 2 2 2 2 0 0 0 0 0 0 0 0 0 0 0 0 0 0 2\n",
      " 0 0 0 0 0 0 0 0 0 1 0 0 0 0 0 0 0 0 0 0 0 0 0 0 0 0 0 0 0 0 0 0 0 0 0 0 0\n",
      " 0 0 0 0 0 0 0 0 0 0 0 0 0 0 0 0 0 0 0 1 1 1 1 1 1 1 1 1 1 1 1 1 1 1 1 1 1\n",
      " 1 1 1 1 1 1 1 1 1 1 1 1 1 1 1 1 1 1 1 1 1 1 1 1 1 1 1 1 1 1]\n"
     ]
    }
   ],
   "source": [
    "#“labels” é o nome que as pessoas dão para o nome dos grupos. \n",
    "#Por exemplo: grupo 1, grupo 2, grupo 3 e grupo 4, que são as etiquetas, como os nossos grupos \n",
    "#foram etiquetados ou como eles foram separados.\n",
    "\n",
    "#Para visualizar os rótulos da nossa clusterização, ou seja, visualizar como ela foi realizada, podemos fazer:\n",
    "labels = agrupador3.labels_\n",
    "print(labels)"
   ]
  },
  {
   "cell_type": "code",
   "execution_count": 33,
   "id": "97db5a19",
   "metadata": {},
   "outputs": [
    {
     "name": "stdout",
     "output_type": "stream",
     "text": [
      "[1 1 1 1 1 1 1 1 1 1 1 1 1 1 1 1 1 1 1 1 1 1 1 1 1 1 1 1 1 1 1 1 1 1 1 1 1\n",
      " 1 1 1 1 1 1 1 1 1 1 1 1 1 1 1 1 1 1 1 1 1 1 2 2 2 2 3 2 3 3 3 2 3 2 3 3 3\n",
      " 3 2 3 2 3 3 3 3 2 2 3 3 2 2 2 2 2 2 2 3 3 3 3 3 3 3 3 2 3 2 3 2 2 2 3 3 3\n",
      " 3 2 2 2 2 3 3 2 3 3 3 3 3 3 3 3 2 3 2 0 0 0 0 0 0 0 0 0 0 0 0 0 0 0 0 0 0\n",
      " 0 0 0 0 0 0 0 0 0 0 0 0 0 0 0 0 0 0 0 0 0 0 0 0 0 0 0 0 0 0]\n"
     ]
    }
   ],
   "source": [
    "labels = agrupador4.labels_\n",
    "print(labels)"
   ]
  },
  {
   "cell_type": "code",
   "execution_count": null,
   "id": "ca286a47",
   "metadata": {},
   "outputs": [],
   "source": [
    "#criando um grafico \n",
    "#nós iremos criar uma “fig” através do “go.figure”. Esse “go” aqui significa “graph objects”, ou seja, “objetos gráficos”.\n",
    "#nós iremos adicionar um traço  “fig.add_trace(go.Scatter)”. Esse “Scatter” é aquele gráfico com as bolinhas\n",
    "\n",
    "#No eixo “x” eu vou colocar o nosso atributo intensidade de cor.\n",
    "#No eixo “y” eu vou colocar o álcool\n",
    "\n",
    "#mode = 'markers',\n",
    "#“dict”, um dicionário no qual nós iremos selecionar a cor da nossa bolinha de acordo com o label que ela foi selecionada, ou seja, o grupo que ela foi colocada.\n"
   ]
  },
  {
   "cell_type": "code",
   "execution_count": 35,
   "id": "e89061ac",
   "metadata": {},
   "outputs": [
    {
     "data": {
      "application/vnd.plotly.v1+json": {
       "config": {
        "plotlyServerURL": "https://plot.ly"
       },
       "data": [
        {
         "marker": {
          "color": [
           2,
           2,
           2,
           2,
           2,
           2,
           2,
           2,
           2,
           2,
           2,
           2,
           2,
           2,
           2,
           2,
           2,
           2,
           2,
           2,
           2,
           2,
           2,
           2,
           2,
           2,
           2,
           2,
           2,
           2,
           2,
           2,
           2,
           2,
           2,
           2,
           2,
           2,
           2,
           2,
           2,
           2,
           2,
           2,
           2,
           2,
           2,
           2,
           2,
           2,
           2,
           2,
           2,
           2,
           2,
           2,
           2,
           2,
           2,
           0,
           0,
           0,
           0,
           0,
           0,
           0,
           0,
           0,
           0,
           0,
           0,
           0,
           0,
           2,
           0,
           0,
           0,
           0,
           0,
           0,
           0,
           0,
           0,
           1,
           0,
           0,
           0,
           0,
           0,
           0,
           0,
           0,
           0,
           0,
           0,
           0,
           0,
           0,
           0,
           0,
           0,
           0,
           0,
           0,
           0,
           0,
           0,
           0,
           0,
           0,
           0,
           0,
           0,
           0,
           0,
           0,
           0,
           0,
           0,
           0,
           0,
           0,
           0,
           0,
           0,
           0,
           0,
           0,
           0,
           0,
           1,
           1,
           1,
           1,
           1,
           1,
           1,
           1,
           1,
           1,
           1,
           1,
           1,
           1,
           1,
           1,
           1,
           1,
           1,
           1,
           1,
           1,
           1,
           1,
           1,
           1,
           1,
           1,
           1,
           1,
           1,
           1,
           1,
           1,
           1,
           1,
           1,
           1,
           1,
           1,
           1,
           1,
           1,
           1,
           1,
           1,
           1,
           1
          ]
         },
         "mode": "markers",
         "text": [
          "1",
          "1",
          "1",
          "1",
          "1",
          "1",
          "1",
          "1",
          "1",
          "1",
          "1",
          "1",
          "1",
          "1",
          "1",
          "1",
          "1",
          "1",
          "1",
          "1",
          "1",
          "1",
          "1",
          "1",
          "1",
          "1",
          "1",
          "1",
          "1",
          "1",
          "1",
          "1",
          "1",
          "1",
          "1",
          "1",
          "1",
          "1",
          "1",
          "1",
          "1",
          "1",
          "1",
          "1",
          "1",
          "1",
          "1",
          "1",
          "1",
          "1",
          "1",
          "1",
          "1",
          "1",
          "1",
          "1",
          "1",
          "1",
          "1",
          "2",
          "2",
          "2",
          "2",
          "3",
          "2",
          "3",
          "3",
          "3",
          "2",
          "3",
          "2",
          "3",
          "3",
          "3",
          "3",
          "2",
          "3",
          "2",
          "3",
          "3",
          "3",
          "3",
          "2",
          "2",
          "3",
          "3",
          "2",
          "2",
          "2",
          "2",
          "2",
          "2",
          "2",
          "3",
          "3",
          "3",
          "3",
          "3",
          "3",
          "3",
          "3",
          "2",
          "3",
          "2",
          "3",
          "2",
          "2",
          "2",
          "3",
          "3",
          "3",
          "3",
          "2",
          "2",
          "2",
          "2",
          "3",
          "3",
          "2",
          "3",
          "3",
          "3",
          "3",
          "3",
          "3",
          "3",
          "3",
          "2",
          "3",
          "2",
          "0",
          "0",
          "0",
          "0",
          "0",
          "0",
          "0",
          "0",
          "0",
          "0",
          "0",
          "0",
          "0",
          "0",
          "0",
          "0",
          "0",
          "0",
          "0",
          "0",
          "0",
          "0",
          "0",
          "0",
          "0",
          "0",
          "0",
          "0",
          "0",
          "0",
          "0",
          "0",
          "0",
          "0",
          "0",
          "0",
          "0",
          "0",
          "0",
          "0",
          "0",
          "0",
          "0",
          "0",
          "0",
          "0",
          "0",
          "0"
         ],
         "type": "scatter",
         "x": [
          0.37201365187713303,
          0.26450511945392485,
          0.3754266211604095,
          0.5563139931740614,
          0.2593856655290102,
          0.46672354948805456,
          0.3387372013651877,
          0.3216723549488054,
          0.33447098976109213,
          0.5068259385665528,
          0.3813993174061433,
          0.31740614334470985,
          0.3686006825938566,
          0.3515358361774744,
          0.530716723549488,
          0.5136518771331058,
          0.4197952218430034,
          0.45392491467576784,
          0.6331058020477814,
          0.32593856655290093,
          0.3728668941979522,
          0.27474402730375425,
          0.21501706484641633,
          0.22610921501706485,
          0.19112627986348124,
          0.19624573378839588,
          0.3003412969283276,
          0.22781569965870305,
          0.27474402730375425,
          0.2918088737201365,
          0.37713310580204773,
          0.47952218430034127,
          0.21843003412969278,
          0.3515358361774744,
          0.24914675767918087,
          0.32593856655290093,
          0.28327645051194533,
          0.2534129692832764,
          0.20648464163822525,
          0.32593856655290093,
          0.41382252559726956,
          0.25597269624573377,
          0.3540955631399317,
          0.26279863481228666,
          0.3208191126279863,
          0.3378839590443686,
          0.30887372013651876,
          0.4112627986348122,
          0.4197952218430034,
          0.6501706484641638,
          0.5051194539249146,
          0.3686006825938566,
          0.4923208191126279,
          0.42832764505119447,
          0.3899317406143344,
          0.42406143344709896,
          0.43515358361774736,
          0.4027303754266211,
          0.4709897610921501,
          0.057167235494880536,
          0.1697952218430034,
          0.3813993174061433,
          0.21501706484641633,
          0.2704778156996587,
          0.14249146757679182,
          0.28327645051194533,
          0.3430034129692832,
          0.2901023890784982,
          0.16126279863481227,
          0.13395904436860068,
          0.1510238907849829,
          0.17918088737201363,
          0.2098976109215017,
          0.17662116040955633,
          0.16467576791808872,
          0.21501706484641633,
          0.28327645051194533,
          0.11689419795221842,
          0.18088737201365188,
          0.1100682593856655,
          0.10409556313993173,
          0.2235494880546075,
          0.07849829351535836,
          0.3003412969283276,
          0.1510238907849829,
          0.11433447098976109,
          0.09982935153583619,
          0.11262798634812286,
          0.1296928327645051,
          0.039249146757679175,
          0.09556313993174059,
          0.19795221843003413,
          0.1510238907849829,
          0.07423208191126278,
          0.16808873720136516,
          0.11262798634812286,
          0.10409556313993173,
          0.13822525597269622,
          0.27474402730375425,
          0.08703071672354946,
          0.1723549488054607,
          0.09982935153583619,
          0.1296928327645051,
          0.06655290102389079,
          0.1416382252559727,
          0.121160409556314,
          0.18088737201365188,
          0.1723549488054607,
          0.121160409556314,
          0.11689419795221842,
          0.13822525597269622,
          0.0614334470989761,
          0.21501706484641633,
          0.15358361774744028,
          0.13822525597269622,
          0.05290102389078497,
          0.057167235494880536,
          0.06655290102389079,
          0.18088737201365188,
          0,
          0.16808873720136516,
          0.4027303754266211,
          0.06825938566552901,
          0.11262798634812286,
          0.1296928327645051,
          0.12627986348122863,
          0.22696245733788395,
          0.14675767918088736,
          0.07167235494880546,
          0.11262798634812286,
          0.2406143344709897,
          0.3515358361774744,
          0.37713310580204773,
          0.31740614334470985,
          0.35580204778156993,
          0.49658703071672344,
          0.21928327645051196,
          0.31740614334470985,
          0.37713310580204773,
          0.31058020477815695,
          0.28327645051194533,
          0.3686006825938566,
          0.26194539249146753,
          0.26621160409556316,
          0.591296928327645,
          0.2320819112627986,
          0.30887372013651876,
          0.5435153583617747,
          0.6092150170648464,
          0.6928327645051195,
          0.6245733788395904,
          0.8122866894197953,
          0.49658703071672344,
          0.78839590443686,
          0.5392491467576791,
          0.5648464163822525,
          0.6595563139931739,
          0.530716723549488,
          1,
          0.893344709897611,
          0.5435153583617747,
          0.39249146757679176,
          0.3668941979522184,
          0.341296928327645,
          0.7081911262798635,
          0.4556313993174061,
          0.8020477815699658,
          0.7662116040955631,
          0.629692832764505,
          0.6160409556313993,
          0.3600682593856655,
          0.7354947952218429,
          0.7184300341296928,
          0.5477815699658702,
          0.5136518771331058,
          0.7610921501706485,
          0.6843003412969284,
          0.675767918088737
         ],
         "y": [
          0.8421052631578949,
          0.5710526315789473,
          0.5605263157894738,
          0.8789473684210525,
          0.5815789473684212,
          0.8342105263157893,
          0.8842105263157897,
          0.7973684210526317,
          1,
          0.744736842105263,
          0.8078947368421052,
          0.813157894736842,
          0.7157894736842105,
          0.9789473684210526,
          0.8815789473684212,
          0.6842105263157897,
          0.8605263157894739,
          0.736842105263158,
          0.831578947368421,
          0.686842105263158,
          0.7973684210526317,
          0.5,
          0.7052631578947371,
          0.4789473684210526,
          0.65,
          0.5315789473684213,
          0.6210526315789475,
          0.5973684210526318,
          0.7473684210526313,
          0.7868421052631578,
          0.7105263157894738,
          0.6710526315789475,
          0.6973684210526315,
          0.718421052631579,
          0.6526315789473685,
          0.6447368421052633,
          0.5921052631578946,
          0.5315789473684213,
          0.536842105263158,
          0.8394736842105265,
          0.6657894736842107,
          0.6263157894736843,
          0.7500000000000002,
          0.5815789473684212,
          0.5315789473684213,
          0.8368421052631582,
          0.8815789473684212,
          0.755263157894737,
          0.8078947368421052,
          0.7657894736842105,
          0.5315789473684213,
          0.736842105263158,
          0.7342105263157895,
          0.7210526315789473,
          0.7131578947368422,
          0.6657894736842107,
          0.8394736842105265,
          0.594736842105263,
          0.7078947368421055,
          0.3526315789473683,
          0.34210526315789486,
          0.42368421052631605,
          0.6947368421052632,
          0.3526315789473683,
          0.3000000000000001,
          0.3526315789473683,
          0.5473684210526315,
          0.3526315789473683,
          0.6078947368421053,
          0.31052631578947404,
          0.3315789473684209,
          0.744736842105263,
          0.6473684210526317,
          0.5157894736842107,
          0.2447368421052635,
          0.1657894736842107,
          0.5263157894736841,
          0.21315789473684219,
          0.34210526315789486,
          0.43947368421052624,
          0.25526315789473697,
          0.44473684210526343,
          0.27631578947368435,
          0.5315789473684213,
          0.21315789473684219,
          0.4315789473684211,
          0.2973684210526317,
          0.16315789473684233,
          0.16052631578947396,
          0.27631578947368435,
          0.27631578947368435,
          0.25526315789473697,
          0.43684210526315786,
          0.3315789473684209,
          0.15526315789473677,
          0.3789473684210529,
          0.2052631578947371,
          0.3315789473684209,
          0.3526315789473683,
          0.3315789473684209,
          0.27631578947368435,
          0.4131578947368421,
          0.34473684210526323,
          0.20789473684210547,
          0.38947368421052636,
          0.3657894736842106,
          0.3210526315789475,
          0.44473684210526343,
          0.31315789473684236,
          0.15263157894736842,
          0.11315789473684247,
          0.39210526315789473,
          0.1921052631578948,
          0.10000000000000019,
          0.27631578947368435,
          0,
          0.20789473684210547,
          0.3657894736842106,
          0.45789473684210524,
          0.25526315789473697,
          0.11052631578947364,
          0.13947368421052658,
          0.3657894736842106,
          0.5315789473684213,
          0.22105263157894728,
          0.273684210526316,
          0.368421052631579,
          0.1999999999999999,
          0.3526315789473683,
          0.2657894736842104,
          0.481578947368421,
          0.4868421052631582,
          0.4684210526315792,
          0.43947368421052624,
          0.38947368421052636,
          0.4131578947368421,
          0.3210526315789475,
          0.3947368421052631,
          0.6473684210526317,
          0.47631578947368425,
          0.5,
          0.613157894736842,
          0.6552631578947368,
          0.6815789473684208,
          0.3210526315789475,
          0.5605263157894738,
          0.7500000000000002,
          0.48421052631578937,
          0.6026315789473685,
          0.5394736842105264,
          0.65,
          0.46315789473684194,
          0.5473684210526315,
          0.5789473684210528,
          0.40789473684210537,
          0.5631578947368422,
          0.7394736842105263,
          0.3736842105263157,
          0.8710526315789473,
          0.6447368421052633,
          0.35,
          0.7,
          0.4789473684210526,
          0.5078947368421055,
          0.7236842105263157,
          0.7105263157894738,
          0.6368421052631578,
          0.4710526315789475,
          0.6710526315789475,
          0.623684210526316,
          0.30789473684210517,
          0.45789473684210524,
          0.8236842105263158,
          0.7052631578947371,
          0.623684210526316,
          0.5894736842105263,
          0.5631578947368422,
          0.8157894736842107
         ]
        }
       ],
       "layout": {
        "template": {
         "data": {
          "bar": [
           {
            "error_x": {
             "color": "#2a3f5f"
            },
            "error_y": {
             "color": "#2a3f5f"
            },
            "marker": {
             "line": {
              "color": "#E5ECF6",
              "width": 0.5
             },
             "pattern": {
              "fillmode": "overlay",
              "size": 10,
              "solidity": 0.2
             }
            },
            "type": "bar"
           }
          ],
          "barpolar": [
           {
            "marker": {
             "line": {
              "color": "#E5ECF6",
              "width": 0.5
             },
             "pattern": {
              "fillmode": "overlay",
              "size": 10,
              "solidity": 0.2
             }
            },
            "type": "barpolar"
           }
          ],
          "carpet": [
           {
            "aaxis": {
             "endlinecolor": "#2a3f5f",
             "gridcolor": "white",
             "linecolor": "white",
             "minorgridcolor": "white",
             "startlinecolor": "#2a3f5f"
            },
            "baxis": {
             "endlinecolor": "#2a3f5f",
             "gridcolor": "white",
             "linecolor": "white",
             "minorgridcolor": "white",
             "startlinecolor": "#2a3f5f"
            },
            "type": "carpet"
           }
          ],
          "choropleth": [
           {
            "colorbar": {
             "outlinewidth": 0,
             "ticks": ""
            },
            "type": "choropleth"
           }
          ],
          "contour": [
           {
            "colorbar": {
             "outlinewidth": 0,
             "ticks": ""
            },
            "colorscale": [
             [
              0,
              "#0d0887"
             ],
             [
              0.1111111111111111,
              "#46039f"
             ],
             [
              0.2222222222222222,
              "#7201a8"
             ],
             [
              0.3333333333333333,
              "#9c179e"
             ],
             [
              0.4444444444444444,
              "#bd3786"
             ],
             [
              0.5555555555555556,
              "#d8576b"
             ],
             [
              0.6666666666666666,
              "#ed7953"
             ],
             [
              0.7777777777777778,
              "#fb9f3a"
             ],
             [
              0.8888888888888888,
              "#fdca26"
             ],
             [
              1,
              "#f0f921"
             ]
            ],
            "type": "contour"
           }
          ],
          "contourcarpet": [
           {
            "colorbar": {
             "outlinewidth": 0,
             "ticks": ""
            },
            "type": "contourcarpet"
           }
          ],
          "heatmap": [
           {
            "colorbar": {
             "outlinewidth": 0,
             "ticks": ""
            },
            "colorscale": [
             [
              0,
              "#0d0887"
             ],
             [
              0.1111111111111111,
              "#46039f"
             ],
             [
              0.2222222222222222,
              "#7201a8"
             ],
             [
              0.3333333333333333,
              "#9c179e"
             ],
             [
              0.4444444444444444,
              "#bd3786"
             ],
             [
              0.5555555555555556,
              "#d8576b"
             ],
             [
              0.6666666666666666,
              "#ed7953"
             ],
             [
              0.7777777777777778,
              "#fb9f3a"
             ],
             [
              0.8888888888888888,
              "#fdca26"
             ],
             [
              1,
              "#f0f921"
             ]
            ],
            "type": "heatmap"
           }
          ],
          "heatmapgl": [
           {
            "colorbar": {
             "outlinewidth": 0,
             "ticks": ""
            },
            "colorscale": [
             [
              0,
              "#0d0887"
             ],
             [
              0.1111111111111111,
              "#46039f"
             ],
             [
              0.2222222222222222,
              "#7201a8"
             ],
             [
              0.3333333333333333,
              "#9c179e"
             ],
             [
              0.4444444444444444,
              "#bd3786"
             ],
             [
              0.5555555555555556,
              "#d8576b"
             ],
             [
              0.6666666666666666,
              "#ed7953"
             ],
             [
              0.7777777777777778,
              "#fb9f3a"
             ],
             [
              0.8888888888888888,
              "#fdca26"
             ],
             [
              1,
              "#f0f921"
             ]
            ],
            "type": "heatmapgl"
           }
          ],
          "histogram": [
           {
            "marker": {
             "pattern": {
              "fillmode": "overlay",
              "size": 10,
              "solidity": 0.2
             }
            },
            "type": "histogram"
           }
          ],
          "histogram2d": [
           {
            "colorbar": {
             "outlinewidth": 0,
             "ticks": ""
            },
            "colorscale": [
             [
              0,
              "#0d0887"
             ],
             [
              0.1111111111111111,
              "#46039f"
             ],
             [
              0.2222222222222222,
              "#7201a8"
             ],
             [
              0.3333333333333333,
              "#9c179e"
             ],
             [
              0.4444444444444444,
              "#bd3786"
             ],
             [
              0.5555555555555556,
              "#d8576b"
             ],
             [
              0.6666666666666666,
              "#ed7953"
             ],
             [
              0.7777777777777778,
              "#fb9f3a"
             ],
             [
              0.8888888888888888,
              "#fdca26"
             ],
             [
              1,
              "#f0f921"
             ]
            ],
            "type": "histogram2d"
           }
          ],
          "histogram2dcontour": [
           {
            "colorbar": {
             "outlinewidth": 0,
             "ticks": ""
            },
            "colorscale": [
             [
              0,
              "#0d0887"
             ],
             [
              0.1111111111111111,
              "#46039f"
             ],
             [
              0.2222222222222222,
              "#7201a8"
             ],
             [
              0.3333333333333333,
              "#9c179e"
             ],
             [
              0.4444444444444444,
              "#bd3786"
             ],
             [
              0.5555555555555556,
              "#d8576b"
             ],
             [
              0.6666666666666666,
              "#ed7953"
             ],
             [
              0.7777777777777778,
              "#fb9f3a"
             ],
             [
              0.8888888888888888,
              "#fdca26"
             ],
             [
              1,
              "#f0f921"
             ]
            ],
            "type": "histogram2dcontour"
           }
          ],
          "mesh3d": [
           {
            "colorbar": {
             "outlinewidth": 0,
             "ticks": ""
            },
            "type": "mesh3d"
           }
          ],
          "parcoords": [
           {
            "line": {
             "colorbar": {
              "outlinewidth": 0,
              "ticks": ""
             }
            },
            "type": "parcoords"
           }
          ],
          "pie": [
           {
            "automargin": true,
            "type": "pie"
           }
          ],
          "scatter": [
           {
            "marker": {
             "colorbar": {
              "outlinewidth": 0,
              "ticks": ""
             }
            },
            "type": "scatter"
           }
          ],
          "scatter3d": [
           {
            "line": {
             "colorbar": {
              "outlinewidth": 0,
              "ticks": ""
             }
            },
            "marker": {
             "colorbar": {
              "outlinewidth": 0,
              "ticks": ""
             }
            },
            "type": "scatter3d"
           }
          ],
          "scattercarpet": [
           {
            "marker": {
             "colorbar": {
              "outlinewidth": 0,
              "ticks": ""
             }
            },
            "type": "scattercarpet"
           }
          ],
          "scattergeo": [
           {
            "marker": {
             "colorbar": {
              "outlinewidth": 0,
              "ticks": ""
             }
            },
            "type": "scattergeo"
           }
          ],
          "scattergl": [
           {
            "marker": {
             "colorbar": {
              "outlinewidth": 0,
              "ticks": ""
             }
            },
            "type": "scattergl"
           }
          ],
          "scattermapbox": [
           {
            "marker": {
             "colorbar": {
              "outlinewidth": 0,
              "ticks": ""
             }
            },
            "type": "scattermapbox"
           }
          ],
          "scatterpolar": [
           {
            "marker": {
             "colorbar": {
              "outlinewidth": 0,
              "ticks": ""
             }
            },
            "type": "scatterpolar"
           }
          ],
          "scatterpolargl": [
           {
            "marker": {
             "colorbar": {
              "outlinewidth": 0,
              "ticks": ""
             }
            },
            "type": "scatterpolargl"
           }
          ],
          "scatterternary": [
           {
            "marker": {
             "colorbar": {
              "outlinewidth": 0,
              "ticks": ""
             }
            },
            "type": "scatterternary"
           }
          ],
          "surface": [
           {
            "colorbar": {
             "outlinewidth": 0,
             "ticks": ""
            },
            "colorscale": [
             [
              0,
              "#0d0887"
             ],
             [
              0.1111111111111111,
              "#46039f"
             ],
             [
              0.2222222222222222,
              "#7201a8"
             ],
             [
              0.3333333333333333,
              "#9c179e"
             ],
             [
              0.4444444444444444,
              "#bd3786"
             ],
             [
              0.5555555555555556,
              "#d8576b"
             ],
             [
              0.6666666666666666,
              "#ed7953"
             ],
             [
              0.7777777777777778,
              "#fb9f3a"
             ],
             [
              0.8888888888888888,
              "#fdca26"
             ],
             [
              1,
              "#f0f921"
             ]
            ],
            "type": "surface"
           }
          ],
          "table": [
           {
            "cells": {
             "fill": {
              "color": "#EBF0F8"
             },
             "line": {
              "color": "white"
             }
            },
            "header": {
             "fill": {
              "color": "#C8D4E3"
             },
             "line": {
              "color": "white"
             }
            },
            "type": "table"
           }
          ]
         },
         "layout": {
          "annotationdefaults": {
           "arrowcolor": "#2a3f5f",
           "arrowhead": 0,
           "arrowwidth": 1
          },
          "autotypenumbers": "strict",
          "coloraxis": {
           "colorbar": {
            "outlinewidth": 0,
            "ticks": ""
           }
          },
          "colorscale": {
           "diverging": [
            [
             0,
             "#8e0152"
            ],
            [
             0.1,
             "#c51b7d"
            ],
            [
             0.2,
             "#de77ae"
            ],
            [
             0.3,
             "#f1b6da"
            ],
            [
             0.4,
             "#fde0ef"
            ],
            [
             0.5,
             "#f7f7f7"
            ],
            [
             0.6,
             "#e6f5d0"
            ],
            [
             0.7,
             "#b8e186"
            ],
            [
             0.8,
             "#7fbc41"
            ],
            [
             0.9,
             "#4d9221"
            ],
            [
             1,
             "#276419"
            ]
           ],
           "sequential": [
            [
             0,
             "#0d0887"
            ],
            [
             0.1111111111111111,
             "#46039f"
            ],
            [
             0.2222222222222222,
             "#7201a8"
            ],
            [
             0.3333333333333333,
             "#9c179e"
            ],
            [
             0.4444444444444444,
             "#bd3786"
            ],
            [
             0.5555555555555556,
             "#d8576b"
            ],
            [
             0.6666666666666666,
             "#ed7953"
            ],
            [
             0.7777777777777778,
             "#fb9f3a"
            ],
            [
             0.8888888888888888,
             "#fdca26"
            ],
            [
             1,
             "#f0f921"
            ]
           ],
           "sequentialminus": [
            [
             0,
             "#0d0887"
            ],
            [
             0.1111111111111111,
             "#46039f"
            ],
            [
             0.2222222222222222,
             "#7201a8"
            ],
            [
             0.3333333333333333,
             "#9c179e"
            ],
            [
             0.4444444444444444,
             "#bd3786"
            ],
            [
             0.5555555555555556,
             "#d8576b"
            ],
            [
             0.6666666666666666,
             "#ed7953"
            ],
            [
             0.7777777777777778,
             "#fb9f3a"
            ],
            [
             0.8888888888888888,
             "#fdca26"
            ],
            [
             1,
             "#f0f921"
            ]
           ]
          },
          "colorway": [
           "#636efa",
           "#EF553B",
           "#00cc96",
           "#ab63fa",
           "#FFA15A",
           "#19d3f3",
           "#FF6692",
           "#B6E880",
           "#FF97FF",
           "#FECB52"
          ],
          "font": {
           "color": "#2a3f5f"
          },
          "geo": {
           "bgcolor": "white",
           "lakecolor": "white",
           "landcolor": "#E5ECF6",
           "showlakes": true,
           "showland": true,
           "subunitcolor": "white"
          },
          "hoverlabel": {
           "align": "left"
          },
          "hovermode": "closest",
          "mapbox": {
           "style": "light"
          },
          "paper_bgcolor": "white",
          "plot_bgcolor": "#E5ECF6",
          "polar": {
           "angularaxis": {
            "gridcolor": "white",
            "linecolor": "white",
            "ticks": ""
           },
           "bgcolor": "#E5ECF6",
           "radialaxis": {
            "gridcolor": "white",
            "linecolor": "white",
            "ticks": ""
           }
          },
          "scene": {
           "xaxis": {
            "backgroundcolor": "#E5ECF6",
            "gridcolor": "white",
            "gridwidth": 2,
            "linecolor": "white",
            "showbackground": true,
            "ticks": "",
            "zerolinecolor": "white"
           },
           "yaxis": {
            "backgroundcolor": "#E5ECF6",
            "gridcolor": "white",
            "gridwidth": 2,
            "linecolor": "white",
            "showbackground": true,
            "ticks": "",
            "zerolinecolor": "white"
           },
           "zaxis": {
            "backgroundcolor": "#E5ECF6",
            "gridcolor": "white",
            "gridwidth": 2,
            "linecolor": "white",
            "showbackground": true,
            "ticks": "",
            "zerolinecolor": "white"
           }
          },
          "shapedefaults": {
           "line": {
            "color": "#2a3f5f"
           }
          },
          "ternary": {
           "aaxis": {
            "gridcolor": "white",
            "linecolor": "white",
            "ticks": ""
           },
           "baxis": {
            "gridcolor": "white",
            "linecolor": "white",
            "ticks": ""
           },
           "bgcolor": "#E5ECF6",
           "caxis": {
            "gridcolor": "white",
            "linecolor": "white",
            "ticks": ""
           }
          },
          "title": {
           "x": 0.05
          },
          "xaxis": {
           "automargin": true,
           "gridcolor": "white",
           "linecolor": "white",
           "ticks": "",
           "title": {
            "standoff": 15
           },
           "zerolinecolor": "white",
           "zerolinewidth": 2
          },
          "yaxis": {
           "automargin": true,
           "gridcolor": "white",
           "linecolor": "white",
           "ticks": "",
           "title": {
            "standoff": 15
           },
           "zerolinecolor": "white",
           "zerolinewidth": 2
          }
         }
        }
       }
      },
      "text/html": [
       "<div>                            <div id=\"45f46c2d-3b55-43a2-b6c2-b5e7a13a2a93\" class=\"plotly-graph-div\" style=\"height:525px; width:100%;\"></div>            <script type=\"text/javascript\">                require([\"plotly\"], function(Plotly) {                    window.PLOTLYENV=window.PLOTLYENV || {};                                    if (document.getElementById(\"45f46c2d-3b55-43a2-b6c2-b5e7a13a2a93\")) {                    Plotly.newPlot(                        \"45f46c2d-3b55-43a2-b6c2-b5e7a13a2a93\",                        [{\"marker\":{\"color\":[2.0,2.0,2.0,2.0,2.0,2.0,2.0,2.0,2.0,2.0,2.0,2.0,2.0,2.0,2.0,2.0,2.0,2.0,2.0,2.0,2.0,2.0,2.0,2.0,2.0,2.0,2.0,2.0,2.0,2.0,2.0,2.0,2.0,2.0,2.0,2.0,2.0,2.0,2.0,2.0,2.0,2.0,2.0,2.0,2.0,2.0,2.0,2.0,2.0,2.0,2.0,2.0,2.0,2.0,2.0,2.0,2.0,2.0,2.0,0.0,0.0,0.0,0.0,0.0,0.0,0.0,0.0,0.0,0.0,0.0,0.0,0.0,0.0,2.0,0.0,0.0,0.0,0.0,0.0,0.0,0.0,0.0,0.0,1.0,0.0,0.0,0.0,0.0,0.0,0.0,0.0,0.0,0.0,0.0,0.0,0.0,0.0,0.0,0.0,0.0,0.0,0.0,0.0,0.0,0.0,0.0,0.0,0.0,0.0,0.0,0.0,0.0,0.0,0.0,0.0,0.0,0.0,0.0,0.0,0.0,0.0,0.0,0.0,0.0,0.0,0.0,0.0,0.0,0.0,0.0,1.0,1.0,1.0,1.0,1.0,1.0,1.0,1.0,1.0,1.0,1.0,1.0,1.0,1.0,1.0,1.0,1.0,1.0,1.0,1.0,1.0,1.0,1.0,1.0,1.0,1.0,1.0,1.0,1.0,1.0,1.0,1.0,1.0,1.0,1.0,1.0,1.0,1.0,1.0,1.0,1.0,1.0,1.0,1.0,1.0,1.0,1.0,1.0]},\"mode\":\"markers\",\"text\":[\"1\",\"1\",\"1\",\"1\",\"1\",\"1\",\"1\",\"1\",\"1\",\"1\",\"1\",\"1\",\"1\",\"1\",\"1\",\"1\",\"1\",\"1\",\"1\",\"1\",\"1\",\"1\",\"1\",\"1\",\"1\",\"1\",\"1\",\"1\",\"1\",\"1\",\"1\",\"1\",\"1\",\"1\",\"1\",\"1\",\"1\",\"1\",\"1\",\"1\",\"1\",\"1\",\"1\",\"1\",\"1\",\"1\",\"1\",\"1\",\"1\",\"1\",\"1\",\"1\",\"1\",\"1\",\"1\",\"1\",\"1\",\"1\",\"1\",\"2\",\"2\",\"2\",\"2\",\"3\",\"2\",\"3\",\"3\",\"3\",\"2\",\"3\",\"2\",\"3\",\"3\",\"3\",\"3\",\"2\",\"3\",\"2\",\"3\",\"3\",\"3\",\"3\",\"2\",\"2\",\"3\",\"3\",\"2\",\"2\",\"2\",\"2\",\"2\",\"2\",\"2\",\"3\",\"3\",\"3\",\"3\",\"3\",\"3\",\"3\",\"3\",\"2\",\"3\",\"2\",\"3\",\"2\",\"2\",\"2\",\"3\",\"3\",\"3\",\"3\",\"2\",\"2\",\"2\",\"2\",\"3\",\"3\",\"2\",\"3\",\"3\",\"3\",\"3\",\"3\",\"3\",\"3\",\"3\",\"2\",\"3\",\"2\",\"0\",\"0\",\"0\",\"0\",\"0\",\"0\",\"0\",\"0\",\"0\",\"0\",\"0\",\"0\",\"0\",\"0\",\"0\",\"0\",\"0\",\"0\",\"0\",\"0\",\"0\",\"0\",\"0\",\"0\",\"0\",\"0\",\"0\",\"0\",\"0\",\"0\",\"0\",\"0\",\"0\",\"0\",\"0\",\"0\",\"0\",\"0\",\"0\",\"0\",\"0\",\"0\",\"0\",\"0\",\"0\",\"0\",\"0\",\"0\"],\"type\":\"scatter\",\"x\":[0.37201365187713303,0.26450511945392485,0.3754266211604095,0.5563139931740614,0.2593856655290102,0.46672354948805456,0.3387372013651877,0.3216723549488054,0.33447098976109213,0.5068259385665528,0.3813993174061433,0.31740614334470985,0.3686006825938566,0.3515358361774744,0.530716723549488,0.5136518771331058,0.4197952218430034,0.45392491467576784,0.6331058020477814,0.32593856655290093,0.3728668941979522,0.27474402730375425,0.21501706484641633,0.22610921501706485,0.19112627986348124,0.19624573378839588,0.3003412969283276,0.22781569965870305,0.27474402730375425,0.2918088737201365,0.37713310580204773,0.47952218430034127,0.21843003412969278,0.3515358361774744,0.24914675767918087,0.32593856655290093,0.28327645051194533,0.2534129692832764,0.20648464163822525,0.32593856655290093,0.41382252559726956,0.25597269624573377,0.3540955631399317,0.26279863481228666,0.3208191126279863,0.3378839590443686,0.30887372013651876,0.4112627986348122,0.4197952218430034,0.6501706484641638,0.5051194539249146,0.3686006825938566,0.4923208191126279,0.42832764505119447,0.3899317406143344,0.42406143344709896,0.43515358361774736,0.4027303754266211,0.4709897610921501,0.057167235494880536,0.1697952218430034,0.3813993174061433,0.21501706484641633,0.2704778156996587,0.14249146757679182,0.28327645051194533,0.3430034129692832,0.2901023890784982,0.16126279863481227,0.13395904436860068,0.1510238907849829,0.17918088737201363,0.2098976109215017,0.17662116040955633,0.16467576791808872,0.21501706484641633,0.28327645051194533,0.11689419795221842,0.18088737201365188,0.1100682593856655,0.10409556313993173,0.2235494880546075,0.07849829351535836,0.3003412969283276,0.1510238907849829,0.11433447098976109,0.09982935153583619,0.11262798634812286,0.1296928327645051,0.039249146757679175,0.09556313993174059,0.19795221843003413,0.1510238907849829,0.07423208191126278,0.16808873720136516,0.11262798634812286,0.10409556313993173,0.13822525597269622,0.27474402730375425,0.08703071672354946,0.1723549488054607,0.09982935153583619,0.1296928327645051,0.06655290102389079,0.1416382252559727,0.121160409556314,0.18088737201365188,0.1723549488054607,0.121160409556314,0.11689419795221842,0.13822525597269622,0.0614334470989761,0.21501706484641633,0.15358361774744028,0.13822525597269622,0.05290102389078497,0.057167235494880536,0.06655290102389079,0.18088737201365188,0.0,0.16808873720136516,0.4027303754266211,0.06825938566552901,0.11262798634812286,0.1296928327645051,0.12627986348122863,0.22696245733788395,0.14675767918088736,0.07167235494880546,0.11262798634812286,0.2406143344709897,0.3515358361774744,0.37713310580204773,0.31740614334470985,0.35580204778156993,0.49658703071672344,0.21928327645051196,0.31740614334470985,0.37713310580204773,0.31058020477815695,0.28327645051194533,0.3686006825938566,0.26194539249146753,0.26621160409556316,0.591296928327645,0.2320819112627986,0.30887372013651876,0.5435153583617747,0.6092150170648464,0.6928327645051195,0.6245733788395904,0.8122866894197953,0.49658703071672344,0.78839590443686,0.5392491467576791,0.5648464163822525,0.6595563139931739,0.530716723549488,1.0,0.893344709897611,0.5435153583617747,0.39249146757679176,0.3668941979522184,0.341296928327645,0.7081911262798635,0.4556313993174061,0.8020477815699658,0.7662116040955631,0.629692832764505,0.6160409556313993,0.3600682593856655,0.7354947952218429,0.7184300341296928,0.5477815699658702,0.5136518771331058,0.7610921501706485,0.6843003412969284,0.675767918088737],\"y\":[0.8421052631578949,0.5710526315789473,0.5605263157894738,0.8789473684210525,0.5815789473684212,0.8342105263157893,0.8842105263157897,0.7973684210526317,1.0,0.744736842105263,0.8078947368421052,0.813157894736842,0.7157894736842105,0.9789473684210526,0.8815789473684212,0.6842105263157897,0.8605263157894739,0.736842105263158,0.831578947368421,0.686842105263158,0.7973684210526317,0.5,0.7052631578947371,0.4789473684210526,0.65,0.5315789473684213,0.6210526315789475,0.5973684210526318,0.7473684210526313,0.7868421052631578,0.7105263157894738,0.6710526315789475,0.6973684210526315,0.718421052631579,0.6526315789473685,0.6447368421052633,0.5921052631578946,0.5315789473684213,0.536842105263158,0.8394736842105265,0.6657894736842107,0.6263157894736843,0.7500000000000002,0.5815789473684212,0.5315789473684213,0.8368421052631582,0.8815789473684212,0.755263157894737,0.8078947368421052,0.7657894736842105,0.5315789473684213,0.736842105263158,0.7342105263157895,0.7210526315789473,0.7131578947368422,0.6657894736842107,0.8394736842105265,0.594736842105263,0.7078947368421055,0.3526315789473683,0.34210526315789486,0.42368421052631605,0.6947368421052632,0.3526315789473683,0.3000000000000001,0.3526315789473683,0.5473684210526315,0.3526315789473683,0.6078947368421053,0.31052631578947404,0.3315789473684209,0.744736842105263,0.6473684210526317,0.5157894736842107,0.2447368421052635,0.1657894736842107,0.5263157894736841,0.21315789473684219,0.34210526315789486,0.43947368421052624,0.25526315789473697,0.44473684210526343,0.27631578947368435,0.5315789473684213,0.21315789473684219,0.4315789473684211,0.2973684210526317,0.16315789473684233,0.16052631578947396,0.27631578947368435,0.27631578947368435,0.25526315789473697,0.43684210526315786,0.3315789473684209,0.15526315789473677,0.3789473684210529,0.2052631578947371,0.3315789473684209,0.3526315789473683,0.3315789473684209,0.27631578947368435,0.4131578947368421,0.34473684210526323,0.20789473684210547,0.38947368421052636,0.3657894736842106,0.3210526315789475,0.44473684210526343,0.31315789473684236,0.15263157894736842,0.11315789473684247,0.39210526315789473,0.1921052631578948,0.10000000000000019,0.27631578947368435,0.0,0.20789473684210547,0.3657894736842106,0.45789473684210524,0.25526315789473697,0.11052631578947364,0.13947368421052658,0.3657894736842106,0.5315789473684213,0.22105263157894728,0.273684210526316,0.368421052631579,0.1999999999999999,0.3526315789473683,0.2657894736842104,0.481578947368421,0.4868421052631582,0.4684210526315792,0.43947368421052624,0.38947368421052636,0.4131578947368421,0.3210526315789475,0.3947368421052631,0.6473684210526317,0.47631578947368425,0.5,0.613157894736842,0.6552631578947368,0.6815789473684208,0.3210526315789475,0.5605263157894738,0.7500000000000002,0.48421052631578937,0.6026315789473685,0.5394736842105264,0.65,0.46315789473684194,0.5473684210526315,0.5789473684210528,0.40789473684210537,0.5631578947368422,0.7394736842105263,0.3736842105263157,0.8710526315789473,0.6447368421052633,0.35,0.7,0.4789473684210526,0.5078947368421055,0.7236842105263157,0.7105263157894738,0.6368421052631578,0.4710526315789475,0.6710526315789475,0.623684210526316,0.30789473684210517,0.45789473684210524,0.8236842105263158,0.7052631578947371,0.623684210526316,0.5894736842105263,0.5631578947368422,0.8157894736842107]}],                        {\"template\":{\"data\":{\"bar\":[{\"error_x\":{\"color\":\"#2a3f5f\"},\"error_y\":{\"color\":\"#2a3f5f\"},\"marker\":{\"line\":{\"color\":\"#E5ECF6\",\"width\":0.5},\"pattern\":{\"fillmode\":\"overlay\",\"size\":10,\"solidity\":0.2}},\"type\":\"bar\"}],\"barpolar\":[{\"marker\":{\"line\":{\"color\":\"#E5ECF6\",\"width\":0.5},\"pattern\":{\"fillmode\":\"overlay\",\"size\":10,\"solidity\":0.2}},\"type\":\"barpolar\"}],\"carpet\":[{\"aaxis\":{\"endlinecolor\":\"#2a3f5f\",\"gridcolor\":\"white\",\"linecolor\":\"white\",\"minorgridcolor\":\"white\",\"startlinecolor\":\"#2a3f5f\"},\"baxis\":{\"endlinecolor\":\"#2a3f5f\",\"gridcolor\":\"white\",\"linecolor\":\"white\",\"minorgridcolor\":\"white\",\"startlinecolor\":\"#2a3f5f\"},\"type\":\"carpet\"}],\"choropleth\":[{\"colorbar\":{\"outlinewidth\":0,\"ticks\":\"\"},\"type\":\"choropleth\"}],\"contour\":[{\"colorbar\":{\"outlinewidth\":0,\"ticks\":\"\"},\"colorscale\":[[0.0,\"#0d0887\"],[0.1111111111111111,\"#46039f\"],[0.2222222222222222,\"#7201a8\"],[0.3333333333333333,\"#9c179e\"],[0.4444444444444444,\"#bd3786\"],[0.5555555555555556,\"#d8576b\"],[0.6666666666666666,\"#ed7953\"],[0.7777777777777778,\"#fb9f3a\"],[0.8888888888888888,\"#fdca26\"],[1.0,\"#f0f921\"]],\"type\":\"contour\"}],\"contourcarpet\":[{\"colorbar\":{\"outlinewidth\":0,\"ticks\":\"\"},\"type\":\"contourcarpet\"}],\"heatmap\":[{\"colorbar\":{\"outlinewidth\":0,\"ticks\":\"\"},\"colorscale\":[[0.0,\"#0d0887\"],[0.1111111111111111,\"#46039f\"],[0.2222222222222222,\"#7201a8\"],[0.3333333333333333,\"#9c179e\"],[0.4444444444444444,\"#bd3786\"],[0.5555555555555556,\"#d8576b\"],[0.6666666666666666,\"#ed7953\"],[0.7777777777777778,\"#fb9f3a\"],[0.8888888888888888,\"#fdca26\"],[1.0,\"#f0f921\"]],\"type\":\"heatmap\"}],\"heatmapgl\":[{\"colorbar\":{\"outlinewidth\":0,\"ticks\":\"\"},\"colorscale\":[[0.0,\"#0d0887\"],[0.1111111111111111,\"#46039f\"],[0.2222222222222222,\"#7201a8\"],[0.3333333333333333,\"#9c179e\"],[0.4444444444444444,\"#bd3786\"],[0.5555555555555556,\"#d8576b\"],[0.6666666666666666,\"#ed7953\"],[0.7777777777777778,\"#fb9f3a\"],[0.8888888888888888,\"#fdca26\"],[1.0,\"#f0f921\"]],\"type\":\"heatmapgl\"}],\"histogram\":[{\"marker\":{\"pattern\":{\"fillmode\":\"overlay\",\"size\":10,\"solidity\":0.2}},\"type\":\"histogram\"}],\"histogram2d\":[{\"colorbar\":{\"outlinewidth\":0,\"ticks\":\"\"},\"colorscale\":[[0.0,\"#0d0887\"],[0.1111111111111111,\"#46039f\"],[0.2222222222222222,\"#7201a8\"],[0.3333333333333333,\"#9c179e\"],[0.4444444444444444,\"#bd3786\"],[0.5555555555555556,\"#d8576b\"],[0.6666666666666666,\"#ed7953\"],[0.7777777777777778,\"#fb9f3a\"],[0.8888888888888888,\"#fdca26\"],[1.0,\"#f0f921\"]],\"type\":\"histogram2d\"}],\"histogram2dcontour\":[{\"colorbar\":{\"outlinewidth\":0,\"ticks\":\"\"},\"colorscale\":[[0.0,\"#0d0887\"],[0.1111111111111111,\"#46039f\"],[0.2222222222222222,\"#7201a8\"],[0.3333333333333333,\"#9c179e\"],[0.4444444444444444,\"#bd3786\"],[0.5555555555555556,\"#d8576b\"],[0.6666666666666666,\"#ed7953\"],[0.7777777777777778,\"#fb9f3a\"],[0.8888888888888888,\"#fdca26\"],[1.0,\"#f0f921\"]],\"type\":\"histogram2dcontour\"}],\"mesh3d\":[{\"colorbar\":{\"outlinewidth\":0,\"ticks\":\"\"},\"type\":\"mesh3d\"}],\"parcoords\":[{\"line\":{\"colorbar\":{\"outlinewidth\":0,\"ticks\":\"\"}},\"type\":\"parcoords\"}],\"pie\":[{\"automargin\":true,\"type\":\"pie\"}],\"scatter\":[{\"marker\":{\"colorbar\":{\"outlinewidth\":0,\"ticks\":\"\"}},\"type\":\"scatter\"}],\"scatter3d\":[{\"line\":{\"colorbar\":{\"outlinewidth\":0,\"ticks\":\"\"}},\"marker\":{\"colorbar\":{\"outlinewidth\":0,\"ticks\":\"\"}},\"type\":\"scatter3d\"}],\"scattercarpet\":[{\"marker\":{\"colorbar\":{\"outlinewidth\":0,\"ticks\":\"\"}},\"type\":\"scattercarpet\"}],\"scattergeo\":[{\"marker\":{\"colorbar\":{\"outlinewidth\":0,\"ticks\":\"\"}},\"type\":\"scattergeo\"}],\"scattergl\":[{\"marker\":{\"colorbar\":{\"outlinewidth\":0,\"ticks\":\"\"}},\"type\":\"scattergl\"}],\"scattermapbox\":[{\"marker\":{\"colorbar\":{\"outlinewidth\":0,\"ticks\":\"\"}},\"type\":\"scattermapbox\"}],\"scatterpolar\":[{\"marker\":{\"colorbar\":{\"outlinewidth\":0,\"ticks\":\"\"}},\"type\":\"scatterpolar\"}],\"scatterpolargl\":[{\"marker\":{\"colorbar\":{\"outlinewidth\":0,\"ticks\":\"\"}},\"type\":\"scatterpolargl\"}],\"scatterternary\":[{\"marker\":{\"colorbar\":{\"outlinewidth\":0,\"ticks\":\"\"}},\"type\":\"scatterternary\"}],\"surface\":[{\"colorbar\":{\"outlinewidth\":0,\"ticks\":\"\"},\"colorscale\":[[0.0,\"#0d0887\"],[0.1111111111111111,\"#46039f\"],[0.2222222222222222,\"#7201a8\"],[0.3333333333333333,\"#9c179e\"],[0.4444444444444444,\"#bd3786\"],[0.5555555555555556,\"#d8576b\"],[0.6666666666666666,\"#ed7953\"],[0.7777777777777778,\"#fb9f3a\"],[0.8888888888888888,\"#fdca26\"],[1.0,\"#f0f921\"]],\"type\":\"surface\"}],\"table\":[{\"cells\":{\"fill\":{\"color\":\"#EBF0F8\"},\"line\":{\"color\":\"white\"}},\"header\":{\"fill\":{\"color\":\"#C8D4E3\"},\"line\":{\"color\":\"white\"}},\"type\":\"table\"}]},\"layout\":{\"annotationdefaults\":{\"arrowcolor\":\"#2a3f5f\",\"arrowhead\":0,\"arrowwidth\":1},\"autotypenumbers\":\"strict\",\"coloraxis\":{\"colorbar\":{\"outlinewidth\":0,\"ticks\":\"\"}},\"colorscale\":{\"diverging\":[[0,\"#8e0152\"],[0.1,\"#c51b7d\"],[0.2,\"#de77ae\"],[0.3,\"#f1b6da\"],[0.4,\"#fde0ef\"],[0.5,\"#f7f7f7\"],[0.6,\"#e6f5d0\"],[0.7,\"#b8e186\"],[0.8,\"#7fbc41\"],[0.9,\"#4d9221\"],[1,\"#276419\"]],\"sequential\":[[0.0,\"#0d0887\"],[0.1111111111111111,\"#46039f\"],[0.2222222222222222,\"#7201a8\"],[0.3333333333333333,\"#9c179e\"],[0.4444444444444444,\"#bd3786\"],[0.5555555555555556,\"#d8576b\"],[0.6666666666666666,\"#ed7953\"],[0.7777777777777778,\"#fb9f3a\"],[0.8888888888888888,\"#fdca26\"],[1.0,\"#f0f921\"]],\"sequentialminus\":[[0.0,\"#0d0887\"],[0.1111111111111111,\"#46039f\"],[0.2222222222222222,\"#7201a8\"],[0.3333333333333333,\"#9c179e\"],[0.4444444444444444,\"#bd3786\"],[0.5555555555555556,\"#d8576b\"],[0.6666666666666666,\"#ed7953\"],[0.7777777777777778,\"#fb9f3a\"],[0.8888888888888888,\"#fdca26\"],[1.0,\"#f0f921\"]]},\"colorway\":[\"#636efa\",\"#EF553B\",\"#00cc96\",\"#ab63fa\",\"#FFA15A\",\"#19d3f3\",\"#FF6692\",\"#B6E880\",\"#FF97FF\",\"#FECB52\"],\"font\":{\"color\":\"#2a3f5f\"},\"geo\":{\"bgcolor\":\"white\",\"lakecolor\":\"white\",\"landcolor\":\"#E5ECF6\",\"showlakes\":true,\"showland\":true,\"subunitcolor\":\"white\"},\"hoverlabel\":{\"align\":\"left\"},\"hovermode\":\"closest\",\"mapbox\":{\"style\":\"light\"},\"paper_bgcolor\":\"white\",\"plot_bgcolor\":\"#E5ECF6\",\"polar\":{\"angularaxis\":{\"gridcolor\":\"white\",\"linecolor\":\"white\",\"ticks\":\"\"},\"bgcolor\":\"#E5ECF6\",\"radialaxis\":{\"gridcolor\":\"white\",\"linecolor\":\"white\",\"ticks\":\"\"}},\"scene\":{\"xaxis\":{\"backgroundcolor\":\"#E5ECF6\",\"gridcolor\":\"white\",\"gridwidth\":2,\"linecolor\":\"white\",\"showbackground\":true,\"ticks\":\"\",\"zerolinecolor\":\"white\"},\"yaxis\":{\"backgroundcolor\":\"#E5ECF6\",\"gridcolor\":\"white\",\"gridwidth\":2,\"linecolor\":\"white\",\"showbackground\":true,\"ticks\":\"\",\"zerolinecolor\":\"white\"},\"zaxis\":{\"backgroundcolor\":\"#E5ECF6\",\"gridcolor\":\"white\",\"gridwidth\":2,\"linecolor\":\"white\",\"showbackground\":true,\"ticks\":\"\",\"zerolinecolor\":\"white\"}},\"shapedefaults\":{\"line\":{\"color\":\"#2a3f5f\"}},\"ternary\":{\"aaxis\":{\"gridcolor\":\"white\",\"linecolor\":\"white\",\"ticks\":\"\"},\"baxis\":{\"gridcolor\":\"white\",\"linecolor\":\"white\",\"ticks\":\"\"},\"bgcolor\":\"#E5ECF6\",\"caxis\":{\"gridcolor\":\"white\",\"linecolor\":\"white\",\"ticks\":\"\"}},\"title\":{\"x\":0.05},\"xaxis\":{\"automargin\":true,\"gridcolor\":\"white\",\"linecolor\":\"white\",\"ticks\":\"\",\"title\":{\"standoff\":15},\"zerolinecolor\":\"white\",\"zerolinewidth\":2},\"yaxis\":{\"automargin\":true,\"gridcolor\":\"white\",\"linecolor\":\"white\",\"ticks\":\"\",\"title\":{\"standoff\":15},\"zerolinecolor\":\"white\",\"zerolinewidth\":2}}}},                        {\"responsive\": true}                    ).then(function(){\n",
       "                            \n",
       "var gd = document.getElementById('45f46c2d-3b55-43a2-b6c2-b5e7a13a2a93');\n",
       "var x = new MutationObserver(function (mutations, observer) {{\n",
       "        var display = window.getComputedStyle(gd).display;\n",
       "        if (!display || display === 'none') {{\n",
       "            console.log([gd, 'removed!']);\n",
       "            Plotly.purge(gd);\n",
       "            observer.disconnect();\n",
       "        }}\n",
       "}});\n",
       "\n",
       "// Listen for the removal of the full notebook cells\n",
       "var notebookContainer = gd.closest('#notebook-container');\n",
       "if (notebookContainer) {{\n",
       "    x.observe(notebookContainer, {childList: true});\n",
       "}}\n",
       "\n",
       "// Listen for the clearing of the current output cell\n",
       "var outputEl = gd.closest('.output');\n",
       "if (outputEl) {{\n",
       "    x.observe(outputEl, {childList: true});\n",
       "}}\n",
       "\n",
       "                        })                };                });            </script>        </div>"
      ]
     },
     "metadata": {},
     "output_type": "display_data"
    }
   ],
   "source": [
    "#Para visualizar os 4 clústeres em 2 dimensões, devemos iniciar instanciando uma figura e adicionando nela a forma que queremos desenhar:\n",
    "fig = go.Figure()\n",
    "#Podemos adicionar um traçado:\n",
    "fig.add_trace(go.Scatter(x = df['Intesidade_de_color'], y = df['Alcool'],\n",
    "                        mode = 'markers',\n",
    "                        marker = dict(color =  agrupador3.labels_.astype(np.float64)),\n",
    "                        text = labels))\n",
    "#E, então, mostrar a figura:\n",
    "fig.show()"
   ]
  },
  {
   "cell_type": "code",
   "execution_count": 34,
   "id": "7bbdfac7",
   "metadata": {},
   "outputs": [
    {
     "data": {
      "application/vnd.plotly.v1+json": {
       "config": {
        "plotlyServerURL": "https://plot.ly"
       },
       "data": [
        {
         "marker": {
          "color": [
           1,
           1,
           1,
           1,
           1,
           1,
           1,
           1,
           1,
           1,
           1,
           1,
           1,
           1,
           1,
           1,
           1,
           1,
           1,
           1,
           1,
           1,
           1,
           1,
           1,
           1,
           1,
           1,
           1,
           1,
           1,
           1,
           1,
           1,
           1,
           1,
           1,
           1,
           1,
           1,
           1,
           1,
           1,
           1,
           1,
           1,
           1,
           1,
           1,
           1,
           1,
           1,
           1,
           1,
           1,
           1,
           1,
           1,
           1,
           2,
           2,
           2,
           2,
           3,
           2,
           3,
           3,
           3,
           2,
           3,
           2,
           3,
           3,
           3,
           3,
           2,
           3,
           2,
           3,
           3,
           3,
           3,
           2,
           2,
           3,
           3,
           2,
           2,
           2,
           2,
           2,
           2,
           2,
           3,
           3,
           3,
           3,
           3,
           3,
           3,
           3,
           2,
           3,
           2,
           3,
           2,
           2,
           2,
           3,
           3,
           3,
           3,
           2,
           2,
           2,
           2,
           3,
           3,
           2,
           3,
           3,
           3,
           3,
           3,
           3,
           3,
           3,
           2,
           3,
           2,
           0,
           0,
           0,
           0,
           0,
           0,
           0,
           0,
           0,
           0,
           0,
           0,
           0,
           0,
           0,
           0,
           0,
           0,
           0,
           0,
           0,
           0,
           0,
           0,
           0,
           0,
           0,
           0,
           0,
           0,
           0,
           0,
           0,
           0,
           0,
           0,
           0,
           0,
           0,
           0,
           0,
           0,
           0,
           0,
           0,
           0,
           0,
           0
          ]
         },
         "mode": "markers",
         "text": [
          "1",
          "1",
          "1",
          "1",
          "1",
          "1",
          "1",
          "1",
          "1",
          "1",
          "1",
          "1",
          "1",
          "1",
          "1",
          "1",
          "1",
          "1",
          "1",
          "1",
          "1",
          "1",
          "1",
          "1",
          "1",
          "1",
          "1",
          "1",
          "1",
          "1",
          "1",
          "1",
          "1",
          "1",
          "1",
          "1",
          "1",
          "1",
          "1",
          "1",
          "1",
          "1",
          "1",
          "1",
          "1",
          "1",
          "1",
          "1",
          "1",
          "1",
          "1",
          "1",
          "1",
          "1",
          "1",
          "1",
          "1",
          "1",
          "1",
          "2",
          "2",
          "2",
          "2",
          "3",
          "2",
          "3",
          "3",
          "3",
          "2",
          "3",
          "2",
          "3",
          "3",
          "3",
          "3",
          "2",
          "3",
          "2",
          "3",
          "3",
          "3",
          "3",
          "2",
          "2",
          "3",
          "3",
          "2",
          "2",
          "2",
          "2",
          "2",
          "2",
          "2",
          "3",
          "3",
          "3",
          "3",
          "3",
          "3",
          "3",
          "3",
          "2",
          "3",
          "2",
          "3",
          "2",
          "2",
          "2",
          "3",
          "3",
          "3",
          "3",
          "2",
          "2",
          "2",
          "2",
          "3",
          "3",
          "2",
          "3",
          "3",
          "3",
          "3",
          "3",
          "3",
          "3",
          "3",
          "2",
          "3",
          "2",
          "0",
          "0",
          "0",
          "0",
          "0",
          "0",
          "0",
          "0",
          "0",
          "0",
          "0",
          "0",
          "0",
          "0",
          "0",
          "0",
          "0",
          "0",
          "0",
          "0",
          "0",
          "0",
          "0",
          "0",
          "0",
          "0",
          "0",
          "0",
          "0",
          "0",
          "0",
          "0",
          "0",
          "0",
          "0",
          "0",
          "0",
          "0",
          "0",
          "0",
          "0",
          "0",
          "0",
          "0",
          "0",
          "0",
          "0",
          "0"
         ],
         "type": "scatter",
         "x": [
          0.37201365187713303,
          0.26450511945392485,
          0.3754266211604095,
          0.5563139931740614,
          0.2593856655290102,
          0.46672354948805456,
          0.3387372013651877,
          0.3216723549488054,
          0.33447098976109213,
          0.5068259385665528,
          0.3813993174061433,
          0.31740614334470985,
          0.3686006825938566,
          0.3515358361774744,
          0.530716723549488,
          0.5136518771331058,
          0.4197952218430034,
          0.45392491467576784,
          0.6331058020477814,
          0.32593856655290093,
          0.3728668941979522,
          0.27474402730375425,
          0.21501706484641633,
          0.22610921501706485,
          0.19112627986348124,
          0.19624573378839588,
          0.3003412969283276,
          0.22781569965870305,
          0.27474402730375425,
          0.2918088737201365,
          0.37713310580204773,
          0.47952218430034127,
          0.21843003412969278,
          0.3515358361774744,
          0.24914675767918087,
          0.32593856655290093,
          0.28327645051194533,
          0.2534129692832764,
          0.20648464163822525,
          0.32593856655290093,
          0.41382252559726956,
          0.25597269624573377,
          0.3540955631399317,
          0.26279863481228666,
          0.3208191126279863,
          0.3378839590443686,
          0.30887372013651876,
          0.4112627986348122,
          0.4197952218430034,
          0.6501706484641638,
          0.5051194539249146,
          0.3686006825938566,
          0.4923208191126279,
          0.42832764505119447,
          0.3899317406143344,
          0.42406143344709896,
          0.43515358361774736,
          0.4027303754266211,
          0.4709897610921501,
          0.057167235494880536,
          0.1697952218430034,
          0.3813993174061433,
          0.21501706484641633,
          0.2704778156996587,
          0.14249146757679182,
          0.28327645051194533,
          0.3430034129692832,
          0.2901023890784982,
          0.16126279863481227,
          0.13395904436860068,
          0.1510238907849829,
          0.17918088737201363,
          0.2098976109215017,
          0.17662116040955633,
          0.16467576791808872,
          0.21501706484641633,
          0.28327645051194533,
          0.11689419795221842,
          0.18088737201365188,
          0.1100682593856655,
          0.10409556313993173,
          0.2235494880546075,
          0.07849829351535836,
          0.3003412969283276,
          0.1510238907849829,
          0.11433447098976109,
          0.09982935153583619,
          0.11262798634812286,
          0.1296928327645051,
          0.039249146757679175,
          0.09556313993174059,
          0.19795221843003413,
          0.1510238907849829,
          0.07423208191126278,
          0.16808873720136516,
          0.11262798634812286,
          0.10409556313993173,
          0.13822525597269622,
          0.27474402730375425,
          0.08703071672354946,
          0.1723549488054607,
          0.09982935153583619,
          0.1296928327645051,
          0.06655290102389079,
          0.1416382252559727,
          0.121160409556314,
          0.18088737201365188,
          0.1723549488054607,
          0.121160409556314,
          0.11689419795221842,
          0.13822525597269622,
          0.0614334470989761,
          0.21501706484641633,
          0.15358361774744028,
          0.13822525597269622,
          0.05290102389078497,
          0.057167235494880536,
          0.06655290102389079,
          0.18088737201365188,
          0,
          0.16808873720136516,
          0.4027303754266211,
          0.06825938566552901,
          0.11262798634812286,
          0.1296928327645051,
          0.12627986348122863,
          0.22696245733788395,
          0.14675767918088736,
          0.07167235494880546,
          0.11262798634812286,
          0.2406143344709897,
          0.3515358361774744,
          0.37713310580204773,
          0.31740614334470985,
          0.35580204778156993,
          0.49658703071672344,
          0.21928327645051196,
          0.31740614334470985,
          0.37713310580204773,
          0.31058020477815695,
          0.28327645051194533,
          0.3686006825938566,
          0.26194539249146753,
          0.26621160409556316,
          0.591296928327645,
          0.2320819112627986,
          0.30887372013651876,
          0.5435153583617747,
          0.6092150170648464,
          0.6928327645051195,
          0.6245733788395904,
          0.8122866894197953,
          0.49658703071672344,
          0.78839590443686,
          0.5392491467576791,
          0.5648464163822525,
          0.6595563139931739,
          0.530716723549488,
          1,
          0.893344709897611,
          0.5435153583617747,
          0.39249146757679176,
          0.3668941979522184,
          0.341296928327645,
          0.7081911262798635,
          0.4556313993174061,
          0.8020477815699658,
          0.7662116040955631,
          0.629692832764505,
          0.6160409556313993,
          0.3600682593856655,
          0.7354947952218429,
          0.7184300341296928,
          0.5477815699658702,
          0.5136518771331058,
          0.7610921501706485,
          0.6843003412969284,
          0.675767918088737
         ],
         "y": [
          0.8421052631578949,
          0.5710526315789473,
          0.5605263157894738,
          0.8789473684210525,
          0.5815789473684212,
          0.8342105263157893,
          0.8842105263157897,
          0.7973684210526317,
          1,
          0.744736842105263,
          0.8078947368421052,
          0.813157894736842,
          0.7157894736842105,
          0.9789473684210526,
          0.8815789473684212,
          0.6842105263157897,
          0.8605263157894739,
          0.736842105263158,
          0.831578947368421,
          0.686842105263158,
          0.7973684210526317,
          0.5,
          0.7052631578947371,
          0.4789473684210526,
          0.65,
          0.5315789473684213,
          0.6210526315789475,
          0.5973684210526318,
          0.7473684210526313,
          0.7868421052631578,
          0.7105263157894738,
          0.6710526315789475,
          0.6973684210526315,
          0.718421052631579,
          0.6526315789473685,
          0.6447368421052633,
          0.5921052631578946,
          0.5315789473684213,
          0.536842105263158,
          0.8394736842105265,
          0.6657894736842107,
          0.6263157894736843,
          0.7500000000000002,
          0.5815789473684212,
          0.5315789473684213,
          0.8368421052631582,
          0.8815789473684212,
          0.755263157894737,
          0.8078947368421052,
          0.7657894736842105,
          0.5315789473684213,
          0.736842105263158,
          0.7342105263157895,
          0.7210526315789473,
          0.7131578947368422,
          0.6657894736842107,
          0.8394736842105265,
          0.594736842105263,
          0.7078947368421055,
          0.3526315789473683,
          0.34210526315789486,
          0.42368421052631605,
          0.6947368421052632,
          0.3526315789473683,
          0.3000000000000001,
          0.3526315789473683,
          0.5473684210526315,
          0.3526315789473683,
          0.6078947368421053,
          0.31052631578947404,
          0.3315789473684209,
          0.744736842105263,
          0.6473684210526317,
          0.5157894736842107,
          0.2447368421052635,
          0.1657894736842107,
          0.5263157894736841,
          0.21315789473684219,
          0.34210526315789486,
          0.43947368421052624,
          0.25526315789473697,
          0.44473684210526343,
          0.27631578947368435,
          0.5315789473684213,
          0.21315789473684219,
          0.4315789473684211,
          0.2973684210526317,
          0.16315789473684233,
          0.16052631578947396,
          0.27631578947368435,
          0.27631578947368435,
          0.25526315789473697,
          0.43684210526315786,
          0.3315789473684209,
          0.15526315789473677,
          0.3789473684210529,
          0.2052631578947371,
          0.3315789473684209,
          0.3526315789473683,
          0.3315789473684209,
          0.27631578947368435,
          0.4131578947368421,
          0.34473684210526323,
          0.20789473684210547,
          0.38947368421052636,
          0.3657894736842106,
          0.3210526315789475,
          0.44473684210526343,
          0.31315789473684236,
          0.15263157894736842,
          0.11315789473684247,
          0.39210526315789473,
          0.1921052631578948,
          0.10000000000000019,
          0.27631578947368435,
          0,
          0.20789473684210547,
          0.3657894736842106,
          0.45789473684210524,
          0.25526315789473697,
          0.11052631578947364,
          0.13947368421052658,
          0.3657894736842106,
          0.5315789473684213,
          0.22105263157894728,
          0.273684210526316,
          0.368421052631579,
          0.1999999999999999,
          0.3526315789473683,
          0.2657894736842104,
          0.481578947368421,
          0.4868421052631582,
          0.4684210526315792,
          0.43947368421052624,
          0.38947368421052636,
          0.4131578947368421,
          0.3210526315789475,
          0.3947368421052631,
          0.6473684210526317,
          0.47631578947368425,
          0.5,
          0.613157894736842,
          0.6552631578947368,
          0.6815789473684208,
          0.3210526315789475,
          0.5605263157894738,
          0.7500000000000002,
          0.48421052631578937,
          0.6026315789473685,
          0.5394736842105264,
          0.65,
          0.46315789473684194,
          0.5473684210526315,
          0.5789473684210528,
          0.40789473684210537,
          0.5631578947368422,
          0.7394736842105263,
          0.3736842105263157,
          0.8710526315789473,
          0.6447368421052633,
          0.35,
          0.7,
          0.4789473684210526,
          0.5078947368421055,
          0.7236842105263157,
          0.7105263157894738,
          0.6368421052631578,
          0.4710526315789475,
          0.6710526315789475,
          0.623684210526316,
          0.30789473684210517,
          0.45789473684210524,
          0.8236842105263158,
          0.7052631578947371,
          0.623684210526316,
          0.5894736842105263,
          0.5631578947368422,
          0.8157894736842107
         ]
        }
       ],
       "layout": {
        "template": {
         "data": {
          "bar": [
           {
            "error_x": {
             "color": "#2a3f5f"
            },
            "error_y": {
             "color": "#2a3f5f"
            },
            "marker": {
             "line": {
              "color": "#E5ECF6",
              "width": 0.5
             },
             "pattern": {
              "fillmode": "overlay",
              "size": 10,
              "solidity": 0.2
             }
            },
            "type": "bar"
           }
          ],
          "barpolar": [
           {
            "marker": {
             "line": {
              "color": "#E5ECF6",
              "width": 0.5
             },
             "pattern": {
              "fillmode": "overlay",
              "size": 10,
              "solidity": 0.2
             }
            },
            "type": "barpolar"
           }
          ],
          "carpet": [
           {
            "aaxis": {
             "endlinecolor": "#2a3f5f",
             "gridcolor": "white",
             "linecolor": "white",
             "minorgridcolor": "white",
             "startlinecolor": "#2a3f5f"
            },
            "baxis": {
             "endlinecolor": "#2a3f5f",
             "gridcolor": "white",
             "linecolor": "white",
             "minorgridcolor": "white",
             "startlinecolor": "#2a3f5f"
            },
            "type": "carpet"
           }
          ],
          "choropleth": [
           {
            "colorbar": {
             "outlinewidth": 0,
             "ticks": ""
            },
            "type": "choropleth"
           }
          ],
          "contour": [
           {
            "colorbar": {
             "outlinewidth": 0,
             "ticks": ""
            },
            "colorscale": [
             [
              0,
              "#0d0887"
             ],
             [
              0.1111111111111111,
              "#46039f"
             ],
             [
              0.2222222222222222,
              "#7201a8"
             ],
             [
              0.3333333333333333,
              "#9c179e"
             ],
             [
              0.4444444444444444,
              "#bd3786"
             ],
             [
              0.5555555555555556,
              "#d8576b"
             ],
             [
              0.6666666666666666,
              "#ed7953"
             ],
             [
              0.7777777777777778,
              "#fb9f3a"
             ],
             [
              0.8888888888888888,
              "#fdca26"
             ],
             [
              1,
              "#f0f921"
             ]
            ],
            "type": "contour"
           }
          ],
          "contourcarpet": [
           {
            "colorbar": {
             "outlinewidth": 0,
             "ticks": ""
            },
            "type": "contourcarpet"
           }
          ],
          "heatmap": [
           {
            "colorbar": {
             "outlinewidth": 0,
             "ticks": ""
            },
            "colorscale": [
             [
              0,
              "#0d0887"
             ],
             [
              0.1111111111111111,
              "#46039f"
             ],
             [
              0.2222222222222222,
              "#7201a8"
             ],
             [
              0.3333333333333333,
              "#9c179e"
             ],
             [
              0.4444444444444444,
              "#bd3786"
             ],
             [
              0.5555555555555556,
              "#d8576b"
             ],
             [
              0.6666666666666666,
              "#ed7953"
             ],
             [
              0.7777777777777778,
              "#fb9f3a"
             ],
             [
              0.8888888888888888,
              "#fdca26"
             ],
             [
              1,
              "#f0f921"
             ]
            ],
            "type": "heatmap"
           }
          ],
          "heatmapgl": [
           {
            "colorbar": {
             "outlinewidth": 0,
             "ticks": ""
            },
            "colorscale": [
             [
              0,
              "#0d0887"
             ],
             [
              0.1111111111111111,
              "#46039f"
             ],
             [
              0.2222222222222222,
              "#7201a8"
             ],
             [
              0.3333333333333333,
              "#9c179e"
             ],
             [
              0.4444444444444444,
              "#bd3786"
             ],
             [
              0.5555555555555556,
              "#d8576b"
             ],
             [
              0.6666666666666666,
              "#ed7953"
             ],
             [
              0.7777777777777778,
              "#fb9f3a"
             ],
             [
              0.8888888888888888,
              "#fdca26"
             ],
             [
              1,
              "#f0f921"
             ]
            ],
            "type": "heatmapgl"
           }
          ],
          "histogram": [
           {
            "marker": {
             "pattern": {
              "fillmode": "overlay",
              "size": 10,
              "solidity": 0.2
             }
            },
            "type": "histogram"
           }
          ],
          "histogram2d": [
           {
            "colorbar": {
             "outlinewidth": 0,
             "ticks": ""
            },
            "colorscale": [
             [
              0,
              "#0d0887"
             ],
             [
              0.1111111111111111,
              "#46039f"
             ],
             [
              0.2222222222222222,
              "#7201a8"
             ],
             [
              0.3333333333333333,
              "#9c179e"
             ],
             [
              0.4444444444444444,
              "#bd3786"
             ],
             [
              0.5555555555555556,
              "#d8576b"
             ],
             [
              0.6666666666666666,
              "#ed7953"
             ],
             [
              0.7777777777777778,
              "#fb9f3a"
             ],
             [
              0.8888888888888888,
              "#fdca26"
             ],
             [
              1,
              "#f0f921"
             ]
            ],
            "type": "histogram2d"
           }
          ],
          "histogram2dcontour": [
           {
            "colorbar": {
             "outlinewidth": 0,
             "ticks": ""
            },
            "colorscale": [
             [
              0,
              "#0d0887"
             ],
             [
              0.1111111111111111,
              "#46039f"
             ],
             [
              0.2222222222222222,
              "#7201a8"
             ],
             [
              0.3333333333333333,
              "#9c179e"
             ],
             [
              0.4444444444444444,
              "#bd3786"
             ],
             [
              0.5555555555555556,
              "#d8576b"
             ],
             [
              0.6666666666666666,
              "#ed7953"
             ],
             [
              0.7777777777777778,
              "#fb9f3a"
             ],
             [
              0.8888888888888888,
              "#fdca26"
             ],
             [
              1,
              "#f0f921"
             ]
            ],
            "type": "histogram2dcontour"
           }
          ],
          "mesh3d": [
           {
            "colorbar": {
             "outlinewidth": 0,
             "ticks": ""
            },
            "type": "mesh3d"
           }
          ],
          "parcoords": [
           {
            "line": {
             "colorbar": {
              "outlinewidth": 0,
              "ticks": ""
             }
            },
            "type": "parcoords"
           }
          ],
          "pie": [
           {
            "automargin": true,
            "type": "pie"
           }
          ],
          "scatter": [
           {
            "marker": {
             "colorbar": {
              "outlinewidth": 0,
              "ticks": ""
             }
            },
            "type": "scatter"
           }
          ],
          "scatter3d": [
           {
            "line": {
             "colorbar": {
              "outlinewidth": 0,
              "ticks": ""
             }
            },
            "marker": {
             "colorbar": {
              "outlinewidth": 0,
              "ticks": ""
             }
            },
            "type": "scatter3d"
           }
          ],
          "scattercarpet": [
           {
            "marker": {
             "colorbar": {
              "outlinewidth": 0,
              "ticks": ""
             }
            },
            "type": "scattercarpet"
           }
          ],
          "scattergeo": [
           {
            "marker": {
             "colorbar": {
              "outlinewidth": 0,
              "ticks": ""
             }
            },
            "type": "scattergeo"
           }
          ],
          "scattergl": [
           {
            "marker": {
             "colorbar": {
              "outlinewidth": 0,
              "ticks": ""
             }
            },
            "type": "scattergl"
           }
          ],
          "scattermapbox": [
           {
            "marker": {
             "colorbar": {
              "outlinewidth": 0,
              "ticks": ""
             }
            },
            "type": "scattermapbox"
           }
          ],
          "scatterpolar": [
           {
            "marker": {
             "colorbar": {
              "outlinewidth": 0,
              "ticks": ""
             }
            },
            "type": "scatterpolar"
           }
          ],
          "scatterpolargl": [
           {
            "marker": {
             "colorbar": {
              "outlinewidth": 0,
              "ticks": ""
             }
            },
            "type": "scatterpolargl"
           }
          ],
          "scatterternary": [
           {
            "marker": {
             "colorbar": {
              "outlinewidth": 0,
              "ticks": ""
             }
            },
            "type": "scatterternary"
           }
          ],
          "surface": [
           {
            "colorbar": {
             "outlinewidth": 0,
             "ticks": ""
            },
            "colorscale": [
             [
              0,
              "#0d0887"
             ],
             [
              0.1111111111111111,
              "#46039f"
             ],
             [
              0.2222222222222222,
              "#7201a8"
             ],
             [
              0.3333333333333333,
              "#9c179e"
             ],
             [
              0.4444444444444444,
              "#bd3786"
             ],
             [
              0.5555555555555556,
              "#d8576b"
             ],
             [
              0.6666666666666666,
              "#ed7953"
             ],
             [
              0.7777777777777778,
              "#fb9f3a"
             ],
             [
              0.8888888888888888,
              "#fdca26"
             ],
             [
              1,
              "#f0f921"
             ]
            ],
            "type": "surface"
           }
          ],
          "table": [
           {
            "cells": {
             "fill": {
              "color": "#EBF0F8"
             },
             "line": {
              "color": "white"
             }
            },
            "header": {
             "fill": {
              "color": "#C8D4E3"
             },
             "line": {
              "color": "white"
             }
            },
            "type": "table"
           }
          ]
         },
         "layout": {
          "annotationdefaults": {
           "arrowcolor": "#2a3f5f",
           "arrowhead": 0,
           "arrowwidth": 1
          },
          "autotypenumbers": "strict",
          "coloraxis": {
           "colorbar": {
            "outlinewidth": 0,
            "ticks": ""
           }
          },
          "colorscale": {
           "diverging": [
            [
             0,
             "#8e0152"
            ],
            [
             0.1,
             "#c51b7d"
            ],
            [
             0.2,
             "#de77ae"
            ],
            [
             0.3,
             "#f1b6da"
            ],
            [
             0.4,
             "#fde0ef"
            ],
            [
             0.5,
             "#f7f7f7"
            ],
            [
             0.6,
             "#e6f5d0"
            ],
            [
             0.7,
             "#b8e186"
            ],
            [
             0.8,
             "#7fbc41"
            ],
            [
             0.9,
             "#4d9221"
            ],
            [
             1,
             "#276419"
            ]
           ],
           "sequential": [
            [
             0,
             "#0d0887"
            ],
            [
             0.1111111111111111,
             "#46039f"
            ],
            [
             0.2222222222222222,
             "#7201a8"
            ],
            [
             0.3333333333333333,
             "#9c179e"
            ],
            [
             0.4444444444444444,
             "#bd3786"
            ],
            [
             0.5555555555555556,
             "#d8576b"
            ],
            [
             0.6666666666666666,
             "#ed7953"
            ],
            [
             0.7777777777777778,
             "#fb9f3a"
            ],
            [
             0.8888888888888888,
             "#fdca26"
            ],
            [
             1,
             "#f0f921"
            ]
           ],
           "sequentialminus": [
            [
             0,
             "#0d0887"
            ],
            [
             0.1111111111111111,
             "#46039f"
            ],
            [
             0.2222222222222222,
             "#7201a8"
            ],
            [
             0.3333333333333333,
             "#9c179e"
            ],
            [
             0.4444444444444444,
             "#bd3786"
            ],
            [
             0.5555555555555556,
             "#d8576b"
            ],
            [
             0.6666666666666666,
             "#ed7953"
            ],
            [
             0.7777777777777778,
             "#fb9f3a"
            ],
            [
             0.8888888888888888,
             "#fdca26"
            ],
            [
             1,
             "#f0f921"
            ]
           ]
          },
          "colorway": [
           "#636efa",
           "#EF553B",
           "#00cc96",
           "#ab63fa",
           "#FFA15A",
           "#19d3f3",
           "#FF6692",
           "#B6E880",
           "#FF97FF",
           "#FECB52"
          ],
          "font": {
           "color": "#2a3f5f"
          },
          "geo": {
           "bgcolor": "white",
           "lakecolor": "white",
           "landcolor": "#E5ECF6",
           "showlakes": true,
           "showland": true,
           "subunitcolor": "white"
          },
          "hoverlabel": {
           "align": "left"
          },
          "hovermode": "closest",
          "mapbox": {
           "style": "light"
          },
          "paper_bgcolor": "white",
          "plot_bgcolor": "#E5ECF6",
          "polar": {
           "angularaxis": {
            "gridcolor": "white",
            "linecolor": "white",
            "ticks": ""
           },
           "bgcolor": "#E5ECF6",
           "radialaxis": {
            "gridcolor": "white",
            "linecolor": "white",
            "ticks": ""
           }
          },
          "scene": {
           "xaxis": {
            "backgroundcolor": "#E5ECF6",
            "gridcolor": "white",
            "gridwidth": 2,
            "linecolor": "white",
            "showbackground": true,
            "ticks": "",
            "zerolinecolor": "white"
           },
           "yaxis": {
            "backgroundcolor": "#E5ECF6",
            "gridcolor": "white",
            "gridwidth": 2,
            "linecolor": "white",
            "showbackground": true,
            "ticks": "",
            "zerolinecolor": "white"
           },
           "zaxis": {
            "backgroundcolor": "#E5ECF6",
            "gridcolor": "white",
            "gridwidth": 2,
            "linecolor": "white",
            "showbackground": true,
            "ticks": "",
            "zerolinecolor": "white"
           }
          },
          "shapedefaults": {
           "line": {
            "color": "#2a3f5f"
           }
          },
          "ternary": {
           "aaxis": {
            "gridcolor": "white",
            "linecolor": "white",
            "ticks": ""
           },
           "baxis": {
            "gridcolor": "white",
            "linecolor": "white",
            "ticks": ""
           },
           "bgcolor": "#E5ECF6",
           "caxis": {
            "gridcolor": "white",
            "linecolor": "white",
            "ticks": ""
           }
          },
          "title": {
           "x": 0.05
          },
          "xaxis": {
           "automargin": true,
           "gridcolor": "white",
           "linecolor": "white",
           "ticks": "",
           "title": {
            "standoff": 15
           },
           "zerolinecolor": "white",
           "zerolinewidth": 2
          },
          "yaxis": {
           "automargin": true,
           "gridcolor": "white",
           "linecolor": "white",
           "ticks": "",
           "title": {
            "standoff": 15
           },
           "zerolinecolor": "white",
           "zerolinewidth": 2
          }
         }
        }
       }
      },
      "text/html": [
       "<div>                            <div id=\"891e81bd-8efb-4417-85ed-70e7d7bd553c\" class=\"plotly-graph-div\" style=\"height:525px; width:100%;\"></div>            <script type=\"text/javascript\">                require([\"plotly\"], function(Plotly) {                    window.PLOTLYENV=window.PLOTLYENV || {};                                    if (document.getElementById(\"891e81bd-8efb-4417-85ed-70e7d7bd553c\")) {                    Plotly.newPlot(                        \"891e81bd-8efb-4417-85ed-70e7d7bd553c\",                        [{\"marker\":{\"color\":[1.0,1.0,1.0,1.0,1.0,1.0,1.0,1.0,1.0,1.0,1.0,1.0,1.0,1.0,1.0,1.0,1.0,1.0,1.0,1.0,1.0,1.0,1.0,1.0,1.0,1.0,1.0,1.0,1.0,1.0,1.0,1.0,1.0,1.0,1.0,1.0,1.0,1.0,1.0,1.0,1.0,1.0,1.0,1.0,1.0,1.0,1.0,1.0,1.0,1.0,1.0,1.0,1.0,1.0,1.0,1.0,1.0,1.0,1.0,2.0,2.0,2.0,2.0,3.0,2.0,3.0,3.0,3.0,2.0,3.0,2.0,3.0,3.0,3.0,3.0,2.0,3.0,2.0,3.0,3.0,3.0,3.0,2.0,2.0,3.0,3.0,2.0,2.0,2.0,2.0,2.0,2.0,2.0,3.0,3.0,3.0,3.0,3.0,3.0,3.0,3.0,2.0,3.0,2.0,3.0,2.0,2.0,2.0,3.0,3.0,3.0,3.0,2.0,2.0,2.0,2.0,3.0,3.0,2.0,3.0,3.0,3.0,3.0,3.0,3.0,3.0,3.0,2.0,3.0,2.0,0.0,0.0,0.0,0.0,0.0,0.0,0.0,0.0,0.0,0.0,0.0,0.0,0.0,0.0,0.0,0.0,0.0,0.0,0.0,0.0,0.0,0.0,0.0,0.0,0.0,0.0,0.0,0.0,0.0,0.0,0.0,0.0,0.0,0.0,0.0,0.0,0.0,0.0,0.0,0.0,0.0,0.0,0.0,0.0,0.0,0.0,0.0,0.0]},\"mode\":\"markers\",\"text\":[\"1\",\"1\",\"1\",\"1\",\"1\",\"1\",\"1\",\"1\",\"1\",\"1\",\"1\",\"1\",\"1\",\"1\",\"1\",\"1\",\"1\",\"1\",\"1\",\"1\",\"1\",\"1\",\"1\",\"1\",\"1\",\"1\",\"1\",\"1\",\"1\",\"1\",\"1\",\"1\",\"1\",\"1\",\"1\",\"1\",\"1\",\"1\",\"1\",\"1\",\"1\",\"1\",\"1\",\"1\",\"1\",\"1\",\"1\",\"1\",\"1\",\"1\",\"1\",\"1\",\"1\",\"1\",\"1\",\"1\",\"1\",\"1\",\"1\",\"2\",\"2\",\"2\",\"2\",\"3\",\"2\",\"3\",\"3\",\"3\",\"2\",\"3\",\"2\",\"3\",\"3\",\"3\",\"3\",\"2\",\"3\",\"2\",\"3\",\"3\",\"3\",\"3\",\"2\",\"2\",\"3\",\"3\",\"2\",\"2\",\"2\",\"2\",\"2\",\"2\",\"2\",\"3\",\"3\",\"3\",\"3\",\"3\",\"3\",\"3\",\"3\",\"2\",\"3\",\"2\",\"3\",\"2\",\"2\",\"2\",\"3\",\"3\",\"3\",\"3\",\"2\",\"2\",\"2\",\"2\",\"3\",\"3\",\"2\",\"3\",\"3\",\"3\",\"3\",\"3\",\"3\",\"3\",\"3\",\"2\",\"3\",\"2\",\"0\",\"0\",\"0\",\"0\",\"0\",\"0\",\"0\",\"0\",\"0\",\"0\",\"0\",\"0\",\"0\",\"0\",\"0\",\"0\",\"0\",\"0\",\"0\",\"0\",\"0\",\"0\",\"0\",\"0\",\"0\",\"0\",\"0\",\"0\",\"0\",\"0\",\"0\",\"0\",\"0\",\"0\",\"0\",\"0\",\"0\",\"0\",\"0\",\"0\",\"0\",\"0\",\"0\",\"0\",\"0\",\"0\",\"0\",\"0\"],\"type\":\"scatter\",\"x\":[0.37201365187713303,0.26450511945392485,0.3754266211604095,0.5563139931740614,0.2593856655290102,0.46672354948805456,0.3387372013651877,0.3216723549488054,0.33447098976109213,0.5068259385665528,0.3813993174061433,0.31740614334470985,0.3686006825938566,0.3515358361774744,0.530716723549488,0.5136518771331058,0.4197952218430034,0.45392491467576784,0.6331058020477814,0.32593856655290093,0.3728668941979522,0.27474402730375425,0.21501706484641633,0.22610921501706485,0.19112627986348124,0.19624573378839588,0.3003412969283276,0.22781569965870305,0.27474402730375425,0.2918088737201365,0.37713310580204773,0.47952218430034127,0.21843003412969278,0.3515358361774744,0.24914675767918087,0.32593856655290093,0.28327645051194533,0.2534129692832764,0.20648464163822525,0.32593856655290093,0.41382252559726956,0.25597269624573377,0.3540955631399317,0.26279863481228666,0.3208191126279863,0.3378839590443686,0.30887372013651876,0.4112627986348122,0.4197952218430034,0.6501706484641638,0.5051194539249146,0.3686006825938566,0.4923208191126279,0.42832764505119447,0.3899317406143344,0.42406143344709896,0.43515358361774736,0.4027303754266211,0.4709897610921501,0.057167235494880536,0.1697952218430034,0.3813993174061433,0.21501706484641633,0.2704778156996587,0.14249146757679182,0.28327645051194533,0.3430034129692832,0.2901023890784982,0.16126279863481227,0.13395904436860068,0.1510238907849829,0.17918088737201363,0.2098976109215017,0.17662116040955633,0.16467576791808872,0.21501706484641633,0.28327645051194533,0.11689419795221842,0.18088737201365188,0.1100682593856655,0.10409556313993173,0.2235494880546075,0.07849829351535836,0.3003412969283276,0.1510238907849829,0.11433447098976109,0.09982935153583619,0.11262798634812286,0.1296928327645051,0.039249146757679175,0.09556313993174059,0.19795221843003413,0.1510238907849829,0.07423208191126278,0.16808873720136516,0.11262798634812286,0.10409556313993173,0.13822525597269622,0.27474402730375425,0.08703071672354946,0.1723549488054607,0.09982935153583619,0.1296928327645051,0.06655290102389079,0.1416382252559727,0.121160409556314,0.18088737201365188,0.1723549488054607,0.121160409556314,0.11689419795221842,0.13822525597269622,0.0614334470989761,0.21501706484641633,0.15358361774744028,0.13822525597269622,0.05290102389078497,0.057167235494880536,0.06655290102389079,0.18088737201365188,0.0,0.16808873720136516,0.4027303754266211,0.06825938566552901,0.11262798634812286,0.1296928327645051,0.12627986348122863,0.22696245733788395,0.14675767918088736,0.07167235494880546,0.11262798634812286,0.2406143344709897,0.3515358361774744,0.37713310580204773,0.31740614334470985,0.35580204778156993,0.49658703071672344,0.21928327645051196,0.31740614334470985,0.37713310580204773,0.31058020477815695,0.28327645051194533,0.3686006825938566,0.26194539249146753,0.26621160409556316,0.591296928327645,0.2320819112627986,0.30887372013651876,0.5435153583617747,0.6092150170648464,0.6928327645051195,0.6245733788395904,0.8122866894197953,0.49658703071672344,0.78839590443686,0.5392491467576791,0.5648464163822525,0.6595563139931739,0.530716723549488,1.0,0.893344709897611,0.5435153583617747,0.39249146757679176,0.3668941979522184,0.341296928327645,0.7081911262798635,0.4556313993174061,0.8020477815699658,0.7662116040955631,0.629692832764505,0.6160409556313993,0.3600682593856655,0.7354947952218429,0.7184300341296928,0.5477815699658702,0.5136518771331058,0.7610921501706485,0.6843003412969284,0.675767918088737],\"y\":[0.8421052631578949,0.5710526315789473,0.5605263157894738,0.8789473684210525,0.5815789473684212,0.8342105263157893,0.8842105263157897,0.7973684210526317,1.0,0.744736842105263,0.8078947368421052,0.813157894736842,0.7157894736842105,0.9789473684210526,0.8815789473684212,0.6842105263157897,0.8605263157894739,0.736842105263158,0.831578947368421,0.686842105263158,0.7973684210526317,0.5,0.7052631578947371,0.4789473684210526,0.65,0.5315789473684213,0.6210526315789475,0.5973684210526318,0.7473684210526313,0.7868421052631578,0.7105263157894738,0.6710526315789475,0.6973684210526315,0.718421052631579,0.6526315789473685,0.6447368421052633,0.5921052631578946,0.5315789473684213,0.536842105263158,0.8394736842105265,0.6657894736842107,0.6263157894736843,0.7500000000000002,0.5815789473684212,0.5315789473684213,0.8368421052631582,0.8815789473684212,0.755263157894737,0.8078947368421052,0.7657894736842105,0.5315789473684213,0.736842105263158,0.7342105263157895,0.7210526315789473,0.7131578947368422,0.6657894736842107,0.8394736842105265,0.594736842105263,0.7078947368421055,0.3526315789473683,0.34210526315789486,0.42368421052631605,0.6947368421052632,0.3526315789473683,0.3000000000000001,0.3526315789473683,0.5473684210526315,0.3526315789473683,0.6078947368421053,0.31052631578947404,0.3315789473684209,0.744736842105263,0.6473684210526317,0.5157894736842107,0.2447368421052635,0.1657894736842107,0.5263157894736841,0.21315789473684219,0.34210526315789486,0.43947368421052624,0.25526315789473697,0.44473684210526343,0.27631578947368435,0.5315789473684213,0.21315789473684219,0.4315789473684211,0.2973684210526317,0.16315789473684233,0.16052631578947396,0.27631578947368435,0.27631578947368435,0.25526315789473697,0.43684210526315786,0.3315789473684209,0.15526315789473677,0.3789473684210529,0.2052631578947371,0.3315789473684209,0.3526315789473683,0.3315789473684209,0.27631578947368435,0.4131578947368421,0.34473684210526323,0.20789473684210547,0.38947368421052636,0.3657894736842106,0.3210526315789475,0.44473684210526343,0.31315789473684236,0.15263157894736842,0.11315789473684247,0.39210526315789473,0.1921052631578948,0.10000000000000019,0.27631578947368435,0.0,0.20789473684210547,0.3657894736842106,0.45789473684210524,0.25526315789473697,0.11052631578947364,0.13947368421052658,0.3657894736842106,0.5315789473684213,0.22105263157894728,0.273684210526316,0.368421052631579,0.1999999999999999,0.3526315789473683,0.2657894736842104,0.481578947368421,0.4868421052631582,0.4684210526315792,0.43947368421052624,0.38947368421052636,0.4131578947368421,0.3210526315789475,0.3947368421052631,0.6473684210526317,0.47631578947368425,0.5,0.613157894736842,0.6552631578947368,0.6815789473684208,0.3210526315789475,0.5605263157894738,0.7500000000000002,0.48421052631578937,0.6026315789473685,0.5394736842105264,0.65,0.46315789473684194,0.5473684210526315,0.5789473684210528,0.40789473684210537,0.5631578947368422,0.7394736842105263,0.3736842105263157,0.8710526315789473,0.6447368421052633,0.35,0.7,0.4789473684210526,0.5078947368421055,0.7236842105263157,0.7105263157894738,0.6368421052631578,0.4710526315789475,0.6710526315789475,0.623684210526316,0.30789473684210517,0.45789473684210524,0.8236842105263158,0.7052631578947371,0.623684210526316,0.5894736842105263,0.5631578947368422,0.8157894736842107]}],                        {\"template\":{\"data\":{\"bar\":[{\"error_x\":{\"color\":\"#2a3f5f\"},\"error_y\":{\"color\":\"#2a3f5f\"},\"marker\":{\"line\":{\"color\":\"#E5ECF6\",\"width\":0.5},\"pattern\":{\"fillmode\":\"overlay\",\"size\":10,\"solidity\":0.2}},\"type\":\"bar\"}],\"barpolar\":[{\"marker\":{\"line\":{\"color\":\"#E5ECF6\",\"width\":0.5},\"pattern\":{\"fillmode\":\"overlay\",\"size\":10,\"solidity\":0.2}},\"type\":\"barpolar\"}],\"carpet\":[{\"aaxis\":{\"endlinecolor\":\"#2a3f5f\",\"gridcolor\":\"white\",\"linecolor\":\"white\",\"minorgridcolor\":\"white\",\"startlinecolor\":\"#2a3f5f\"},\"baxis\":{\"endlinecolor\":\"#2a3f5f\",\"gridcolor\":\"white\",\"linecolor\":\"white\",\"minorgridcolor\":\"white\",\"startlinecolor\":\"#2a3f5f\"},\"type\":\"carpet\"}],\"choropleth\":[{\"colorbar\":{\"outlinewidth\":0,\"ticks\":\"\"},\"type\":\"choropleth\"}],\"contour\":[{\"colorbar\":{\"outlinewidth\":0,\"ticks\":\"\"},\"colorscale\":[[0.0,\"#0d0887\"],[0.1111111111111111,\"#46039f\"],[0.2222222222222222,\"#7201a8\"],[0.3333333333333333,\"#9c179e\"],[0.4444444444444444,\"#bd3786\"],[0.5555555555555556,\"#d8576b\"],[0.6666666666666666,\"#ed7953\"],[0.7777777777777778,\"#fb9f3a\"],[0.8888888888888888,\"#fdca26\"],[1.0,\"#f0f921\"]],\"type\":\"contour\"}],\"contourcarpet\":[{\"colorbar\":{\"outlinewidth\":0,\"ticks\":\"\"},\"type\":\"contourcarpet\"}],\"heatmap\":[{\"colorbar\":{\"outlinewidth\":0,\"ticks\":\"\"},\"colorscale\":[[0.0,\"#0d0887\"],[0.1111111111111111,\"#46039f\"],[0.2222222222222222,\"#7201a8\"],[0.3333333333333333,\"#9c179e\"],[0.4444444444444444,\"#bd3786\"],[0.5555555555555556,\"#d8576b\"],[0.6666666666666666,\"#ed7953\"],[0.7777777777777778,\"#fb9f3a\"],[0.8888888888888888,\"#fdca26\"],[1.0,\"#f0f921\"]],\"type\":\"heatmap\"}],\"heatmapgl\":[{\"colorbar\":{\"outlinewidth\":0,\"ticks\":\"\"},\"colorscale\":[[0.0,\"#0d0887\"],[0.1111111111111111,\"#46039f\"],[0.2222222222222222,\"#7201a8\"],[0.3333333333333333,\"#9c179e\"],[0.4444444444444444,\"#bd3786\"],[0.5555555555555556,\"#d8576b\"],[0.6666666666666666,\"#ed7953\"],[0.7777777777777778,\"#fb9f3a\"],[0.8888888888888888,\"#fdca26\"],[1.0,\"#f0f921\"]],\"type\":\"heatmapgl\"}],\"histogram\":[{\"marker\":{\"pattern\":{\"fillmode\":\"overlay\",\"size\":10,\"solidity\":0.2}},\"type\":\"histogram\"}],\"histogram2d\":[{\"colorbar\":{\"outlinewidth\":0,\"ticks\":\"\"},\"colorscale\":[[0.0,\"#0d0887\"],[0.1111111111111111,\"#46039f\"],[0.2222222222222222,\"#7201a8\"],[0.3333333333333333,\"#9c179e\"],[0.4444444444444444,\"#bd3786\"],[0.5555555555555556,\"#d8576b\"],[0.6666666666666666,\"#ed7953\"],[0.7777777777777778,\"#fb9f3a\"],[0.8888888888888888,\"#fdca26\"],[1.0,\"#f0f921\"]],\"type\":\"histogram2d\"}],\"histogram2dcontour\":[{\"colorbar\":{\"outlinewidth\":0,\"ticks\":\"\"},\"colorscale\":[[0.0,\"#0d0887\"],[0.1111111111111111,\"#46039f\"],[0.2222222222222222,\"#7201a8\"],[0.3333333333333333,\"#9c179e\"],[0.4444444444444444,\"#bd3786\"],[0.5555555555555556,\"#d8576b\"],[0.6666666666666666,\"#ed7953\"],[0.7777777777777778,\"#fb9f3a\"],[0.8888888888888888,\"#fdca26\"],[1.0,\"#f0f921\"]],\"type\":\"histogram2dcontour\"}],\"mesh3d\":[{\"colorbar\":{\"outlinewidth\":0,\"ticks\":\"\"},\"type\":\"mesh3d\"}],\"parcoords\":[{\"line\":{\"colorbar\":{\"outlinewidth\":0,\"ticks\":\"\"}},\"type\":\"parcoords\"}],\"pie\":[{\"automargin\":true,\"type\":\"pie\"}],\"scatter\":[{\"marker\":{\"colorbar\":{\"outlinewidth\":0,\"ticks\":\"\"}},\"type\":\"scatter\"}],\"scatter3d\":[{\"line\":{\"colorbar\":{\"outlinewidth\":0,\"ticks\":\"\"}},\"marker\":{\"colorbar\":{\"outlinewidth\":0,\"ticks\":\"\"}},\"type\":\"scatter3d\"}],\"scattercarpet\":[{\"marker\":{\"colorbar\":{\"outlinewidth\":0,\"ticks\":\"\"}},\"type\":\"scattercarpet\"}],\"scattergeo\":[{\"marker\":{\"colorbar\":{\"outlinewidth\":0,\"ticks\":\"\"}},\"type\":\"scattergeo\"}],\"scattergl\":[{\"marker\":{\"colorbar\":{\"outlinewidth\":0,\"ticks\":\"\"}},\"type\":\"scattergl\"}],\"scattermapbox\":[{\"marker\":{\"colorbar\":{\"outlinewidth\":0,\"ticks\":\"\"}},\"type\":\"scattermapbox\"}],\"scatterpolar\":[{\"marker\":{\"colorbar\":{\"outlinewidth\":0,\"ticks\":\"\"}},\"type\":\"scatterpolar\"}],\"scatterpolargl\":[{\"marker\":{\"colorbar\":{\"outlinewidth\":0,\"ticks\":\"\"}},\"type\":\"scatterpolargl\"}],\"scatterternary\":[{\"marker\":{\"colorbar\":{\"outlinewidth\":0,\"ticks\":\"\"}},\"type\":\"scatterternary\"}],\"surface\":[{\"colorbar\":{\"outlinewidth\":0,\"ticks\":\"\"},\"colorscale\":[[0.0,\"#0d0887\"],[0.1111111111111111,\"#46039f\"],[0.2222222222222222,\"#7201a8\"],[0.3333333333333333,\"#9c179e\"],[0.4444444444444444,\"#bd3786\"],[0.5555555555555556,\"#d8576b\"],[0.6666666666666666,\"#ed7953\"],[0.7777777777777778,\"#fb9f3a\"],[0.8888888888888888,\"#fdca26\"],[1.0,\"#f0f921\"]],\"type\":\"surface\"}],\"table\":[{\"cells\":{\"fill\":{\"color\":\"#EBF0F8\"},\"line\":{\"color\":\"white\"}},\"header\":{\"fill\":{\"color\":\"#C8D4E3\"},\"line\":{\"color\":\"white\"}},\"type\":\"table\"}]},\"layout\":{\"annotationdefaults\":{\"arrowcolor\":\"#2a3f5f\",\"arrowhead\":0,\"arrowwidth\":1},\"autotypenumbers\":\"strict\",\"coloraxis\":{\"colorbar\":{\"outlinewidth\":0,\"ticks\":\"\"}},\"colorscale\":{\"diverging\":[[0,\"#8e0152\"],[0.1,\"#c51b7d\"],[0.2,\"#de77ae\"],[0.3,\"#f1b6da\"],[0.4,\"#fde0ef\"],[0.5,\"#f7f7f7\"],[0.6,\"#e6f5d0\"],[0.7,\"#b8e186\"],[0.8,\"#7fbc41\"],[0.9,\"#4d9221\"],[1,\"#276419\"]],\"sequential\":[[0.0,\"#0d0887\"],[0.1111111111111111,\"#46039f\"],[0.2222222222222222,\"#7201a8\"],[0.3333333333333333,\"#9c179e\"],[0.4444444444444444,\"#bd3786\"],[0.5555555555555556,\"#d8576b\"],[0.6666666666666666,\"#ed7953\"],[0.7777777777777778,\"#fb9f3a\"],[0.8888888888888888,\"#fdca26\"],[1.0,\"#f0f921\"]],\"sequentialminus\":[[0.0,\"#0d0887\"],[0.1111111111111111,\"#46039f\"],[0.2222222222222222,\"#7201a8\"],[0.3333333333333333,\"#9c179e\"],[0.4444444444444444,\"#bd3786\"],[0.5555555555555556,\"#d8576b\"],[0.6666666666666666,\"#ed7953\"],[0.7777777777777778,\"#fb9f3a\"],[0.8888888888888888,\"#fdca26\"],[1.0,\"#f0f921\"]]},\"colorway\":[\"#636efa\",\"#EF553B\",\"#00cc96\",\"#ab63fa\",\"#FFA15A\",\"#19d3f3\",\"#FF6692\",\"#B6E880\",\"#FF97FF\",\"#FECB52\"],\"font\":{\"color\":\"#2a3f5f\"},\"geo\":{\"bgcolor\":\"white\",\"lakecolor\":\"white\",\"landcolor\":\"#E5ECF6\",\"showlakes\":true,\"showland\":true,\"subunitcolor\":\"white\"},\"hoverlabel\":{\"align\":\"left\"},\"hovermode\":\"closest\",\"mapbox\":{\"style\":\"light\"},\"paper_bgcolor\":\"white\",\"plot_bgcolor\":\"#E5ECF6\",\"polar\":{\"angularaxis\":{\"gridcolor\":\"white\",\"linecolor\":\"white\",\"ticks\":\"\"},\"bgcolor\":\"#E5ECF6\",\"radialaxis\":{\"gridcolor\":\"white\",\"linecolor\":\"white\",\"ticks\":\"\"}},\"scene\":{\"xaxis\":{\"backgroundcolor\":\"#E5ECF6\",\"gridcolor\":\"white\",\"gridwidth\":2,\"linecolor\":\"white\",\"showbackground\":true,\"ticks\":\"\",\"zerolinecolor\":\"white\"},\"yaxis\":{\"backgroundcolor\":\"#E5ECF6\",\"gridcolor\":\"white\",\"gridwidth\":2,\"linecolor\":\"white\",\"showbackground\":true,\"ticks\":\"\",\"zerolinecolor\":\"white\"},\"zaxis\":{\"backgroundcolor\":\"#E5ECF6\",\"gridcolor\":\"white\",\"gridwidth\":2,\"linecolor\":\"white\",\"showbackground\":true,\"ticks\":\"\",\"zerolinecolor\":\"white\"}},\"shapedefaults\":{\"line\":{\"color\":\"#2a3f5f\"}},\"ternary\":{\"aaxis\":{\"gridcolor\":\"white\",\"linecolor\":\"white\",\"ticks\":\"\"},\"baxis\":{\"gridcolor\":\"white\",\"linecolor\":\"white\",\"ticks\":\"\"},\"bgcolor\":\"#E5ECF6\",\"caxis\":{\"gridcolor\":\"white\",\"linecolor\":\"white\",\"ticks\":\"\"}},\"title\":{\"x\":0.05},\"xaxis\":{\"automargin\":true,\"gridcolor\":\"white\",\"linecolor\":\"white\",\"ticks\":\"\",\"title\":{\"standoff\":15},\"zerolinecolor\":\"white\",\"zerolinewidth\":2},\"yaxis\":{\"automargin\":true,\"gridcolor\":\"white\",\"linecolor\":\"white\",\"ticks\":\"\",\"title\":{\"standoff\":15},\"zerolinecolor\":\"white\",\"zerolinewidth\":2}}}},                        {\"responsive\": true}                    ).then(function(){\n",
       "                            \n",
       "var gd = document.getElementById('891e81bd-8efb-4417-85ed-70e7d7bd553c');\n",
       "var x = new MutationObserver(function (mutations, observer) {{\n",
       "        var display = window.getComputedStyle(gd).display;\n",
       "        if (!display || display === 'none') {{\n",
       "            console.log([gd, 'removed!']);\n",
       "            Plotly.purge(gd);\n",
       "            observer.disconnect();\n",
       "        }}\n",
       "}});\n",
       "\n",
       "// Listen for the removal of the full notebook cells\n",
       "var notebookContainer = gd.closest('#notebook-container');\n",
       "if (notebookContainer) {{\n",
       "    x.observe(notebookContainer, {childList: true});\n",
       "}}\n",
       "\n",
       "// Listen for the clearing of the current output cell\n",
       "var outputEl = gd.closest('.output');\n",
       "if (outputEl) {{\n",
       "    x.observe(outputEl, {childList: true});\n",
       "}}\n",
       "\n",
       "                        })                };                });            </script>        </div>"
      ]
     },
     "metadata": {},
     "output_type": "display_data"
    }
   ],
   "source": [
    "fig = go.Figure()\n",
    "fig.add_trace(go.Scatter(x = df['Intesidade_de_color'], y = df['Alcool'],\n",
    "                        mode = 'markers',\n",
    "                        marker = dict(color =  agrupador4.labels_.astype(np.float64)),\n",
    "                        text = labels))\n",
    "fig.show()"
   ]
  },
  {
   "cell_type": "code",
   "execution_count": 54,
   "id": "a27ac968",
   "metadata": {},
   "outputs": [
    {
     "data": {
      "application/vnd.plotly.v1+json": {
       "config": {
        "plotlyServerURL": "https://plot.ly"
       },
       "data": [
        {
         "marker": {
          "color": [
           1,
           1,
           1,
           1,
           1,
           1,
           1,
           1,
           1,
           1,
           1,
           1,
           1,
           1,
           1,
           1,
           1,
           1,
           1,
           1,
           1,
           1,
           1,
           1,
           1,
           1,
           1,
           1,
           1,
           1,
           1,
           1,
           1,
           1,
           1,
           1,
           1,
           1,
           1,
           1,
           1,
           1,
           1,
           1,
           1,
           1,
           1,
           1,
           1,
           1,
           1,
           1,
           1,
           1,
           1,
           1,
           1,
           1,
           1,
           2,
           2,
           2,
           2,
           3,
           2,
           3,
           3,
           3,
           2,
           3,
           2,
           3,
           3,
           3,
           3,
           2,
           3,
           2,
           3,
           3,
           3,
           3,
           2,
           2,
           3,
           3,
           2,
           2,
           2,
           2,
           2,
           2,
           2,
           3,
           3,
           3,
           3,
           3,
           3,
           3,
           3,
           2,
           3,
           2,
           3,
           2,
           2,
           2,
           3,
           3,
           3,
           3,
           2,
           2,
           2,
           2,
           3,
           3,
           2,
           3,
           3,
           3,
           3,
           3,
           3,
           3,
           3,
           2,
           3,
           2,
           0,
           0,
           0,
           0,
           0,
           0,
           0,
           0,
           0,
           0,
           0,
           0,
           0,
           0,
           0,
           0,
           0,
           0,
           0,
           0,
           0,
           0,
           0,
           0,
           0,
           0,
           0,
           0,
           0,
           0,
           0,
           0,
           0,
           0,
           0,
           0,
           0,
           0,
           0,
           0,
           0,
           0,
           0,
           0,
           0,
           0,
           0,
           0
          ]
         },
         "mode": "markers",
         "text": [
          "1",
          "1",
          "1",
          "1",
          "1",
          "1",
          "1",
          "1",
          "1",
          "1",
          "1",
          "1",
          "1",
          "1",
          "1",
          "1",
          "1",
          "1",
          "1",
          "1",
          "1",
          "1",
          "1",
          "1",
          "1",
          "1",
          "1",
          "1",
          "1",
          "1",
          "1",
          "1",
          "1",
          "1",
          "1",
          "1",
          "1",
          "1",
          "1",
          "1",
          "1",
          "1",
          "1",
          "1",
          "1",
          "1",
          "1",
          "1",
          "1",
          "1",
          "1",
          "1",
          "1",
          "1",
          "1",
          "1",
          "1",
          "1",
          "1",
          "2",
          "2",
          "2",
          "2",
          "3",
          "2",
          "3",
          "3",
          "3",
          "2",
          "3",
          "2",
          "3",
          "3",
          "3",
          "3",
          "2",
          "3",
          "2",
          "3",
          "3",
          "3",
          "3",
          "2",
          "2",
          "3",
          "3",
          "2",
          "2",
          "2",
          "2",
          "2",
          "2",
          "2",
          "3",
          "3",
          "3",
          "3",
          "3",
          "3",
          "3",
          "3",
          "2",
          "3",
          "2",
          "3",
          "2",
          "2",
          "2",
          "3",
          "3",
          "3",
          "3",
          "2",
          "2",
          "2",
          "2",
          "3",
          "3",
          "2",
          "3",
          "3",
          "3",
          "3",
          "3",
          "3",
          "3",
          "3",
          "2",
          "3",
          "2",
          "0",
          "0",
          "0",
          "0",
          "0",
          "0",
          "0",
          "0",
          "0",
          "0",
          "0",
          "0",
          "0",
          "0",
          "0",
          "0",
          "0",
          "0",
          "0",
          "0",
          "0",
          "0",
          "0",
          "0",
          "0",
          "0",
          "0",
          "0",
          "0",
          "0",
          "0",
          "0",
          "0",
          "0",
          "0",
          "0",
          "0",
          "0",
          "0",
          "0",
          "0",
          "0",
          "0",
          "0",
          "0",
          "0",
          "0",
          "0"
         ],
         "type": "scatter3d",
         "x": [
          0.37201365187713303,
          0.26450511945392485,
          0.3754266211604095,
          0.5563139931740614,
          0.2593856655290102,
          0.46672354948805456,
          0.3387372013651877,
          0.3216723549488054,
          0.33447098976109213,
          0.5068259385665528,
          0.3813993174061433,
          0.31740614334470985,
          0.3686006825938566,
          0.3515358361774744,
          0.530716723549488,
          0.5136518771331058,
          0.4197952218430034,
          0.45392491467576784,
          0.6331058020477814,
          0.32593856655290093,
          0.3728668941979522,
          0.27474402730375425,
          0.21501706484641633,
          0.22610921501706485,
          0.19112627986348124,
          0.19624573378839588,
          0.3003412969283276,
          0.22781569965870305,
          0.27474402730375425,
          0.2918088737201365,
          0.37713310580204773,
          0.47952218430034127,
          0.21843003412969278,
          0.3515358361774744,
          0.24914675767918087,
          0.32593856655290093,
          0.28327645051194533,
          0.2534129692832764,
          0.20648464163822525,
          0.32593856655290093,
          0.41382252559726956,
          0.25597269624573377,
          0.3540955631399317,
          0.26279863481228666,
          0.3208191126279863,
          0.3378839590443686,
          0.30887372013651876,
          0.4112627986348122,
          0.4197952218430034,
          0.6501706484641638,
          0.5051194539249146,
          0.3686006825938566,
          0.4923208191126279,
          0.42832764505119447,
          0.3899317406143344,
          0.42406143344709896,
          0.43515358361774736,
          0.4027303754266211,
          0.4709897610921501,
          0.057167235494880536,
          0.1697952218430034,
          0.3813993174061433,
          0.21501706484641633,
          0.2704778156996587,
          0.14249146757679182,
          0.28327645051194533,
          0.3430034129692832,
          0.2901023890784982,
          0.16126279863481227,
          0.13395904436860068,
          0.1510238907849829,
          0.17918088737201363,
          0.2098976109215017,
          0.17662116040955633,
          0.16467576791808872,
          0.21501706484641633,
          0.28327645051194533,
          0.11689419795221842,
          0.18088737201365188,
          0.1100682593856655,
          0.10409556313993173,
          0.2235494880546075,
          0.07849829351535836,
          0.3003412969283276,
          0.1510238907849829,
          0.11433447098976109,
          0.09982935153583619,
          0.11262798634812286,
          0.1296928327645051,
          0.039249146757679175,
          0.09556313993174059,
          0.19795221843003413,
          0.1510238907849829,
          0.07423208191126278,
          0.16808873720136516,
          0.11262798634812286,
          0.10409556313993173,
          0.13822525597269622,
          0.27474402730375425,
          0.08703071672354946,
          0.1723549488054607,
          0.09982935153583619,
          0.1296928327645051,
          0.06655290102389079,
          0.1416382252559727,
          0.121160409556314,
          0.18088737201365188,
          0.1723549488054607,
          0.121160409556314,
          0.11689419795221842,
          0.13822525597269622,
          0.0614334470989761,
          0.21501706484641633,
          0.15358361774744028,
          0.13822525597269622,
          0.05290102389078497,
          0.057167235494880536,
          0.06655290102389079,
          0.18088737201365188,
          0,
          0.16808873720136516,
          0.4027303754266211,
          0.06825938566552901,
          0.11262798634812286,
          0.1296928327645051,
          0.12627986348122863,
          0.22696245733788395,
          0.14675767918088736,
          0.07167235494880546,
          0.11262798634812286,
          0.2406143344709897,
          0.3515358361774744,
          0.37713310580204773,
          0.31740614334470985,
          0.35580204778156993,
          0.49658703071672344,
          0.21928327645051196,
          0.31740614334470985,
          0.37713310580204773,
          0.31058020477815695,
          0.28327645051194533,
          0.3686006825938566,
          0.26194539249146753,
          0.26621160409556316,
          0.591296928327645,
          0.2320819112627986,
          0.30887372013651876,
          0.5435153583617747,
          0.6092150170648464,
          0.6928327645051195,
          0.6245733788395904,
          0.8122866894197953,
          0.49658703071672344,
          0.78839590443686,
          0.5392491467576791,
          0.5648464163822525,
          0.6595563139931739,
          0.530716723549488,
          1,
          0.893344709897611,
          0.5435153583617747,
          0.39249146757679176,
          0.3668941979522184,
          0.341296928327645,
          0.7081911262798635,
          0.4556313993174061,
          0.8020477815699658,
          0.7662116040955631,
          0.629692832764505,
          0.6160409556313993,
          0.3600682593856655,
          0.7354947952218429,
          0.7184300341296928,
          0.5477815699658702,
          0.5136518771331058,
          0.7610921501706485,
          0.6843003412969284,
          0.675767918088737
         ],
         "y": [
          0.8421052631578949,
          0.5710526315789473,
          0.5605263157894738,
          0.8789473684210525,
          0.5815789473684212,
          0.8342105263157893,
          0.8842105263157897,
          0.7973684210526317,
          1,
          0.744736842105263,
          0.8078947368421052,
          0.813157894736842,
          0.7157894736842105,
          0.9789473684210526,
          0.8815789473684212,
          0.6842105263157897,
          0.8605263157894739,
          0.736842105263158,
          0.831578947368421,
          0.686842105263158,
          0.7973684210526317,
          0.5,
          0.7052631578947371,
          0.4789473684210526,
          0.65,
          0.5315789473684213,
          0.6210526315789475,
          0.5973684210526318,
          0.7473684210526313,
          0.7868421052631578,
          0.7105263157894738,
          0.6710526315789475,
          0.6973684210526315,
          0.718421052631579,
          0.6526315789473685,
          0.6447368421052633,
          0.5921052631578946,
          0.5315789473684213,
          0.536842105263158,
          0.8394736842105265,
          0.6657894736842107,
          0.6263157894736843,
          0.7500000000000002,
          0.5815789473684212,
          0.5315789473684213,
          0.8368421052631582,
          0.8815789473684212,
          0.755263157894737,
          0.8078947368421052,
          0.7657894736842105,
          0.5315789473684213,
          0.736842105263158,
          0.7342105263157895,
          0.7210526315789473,
          0.7131578947368422,
          0.6657894736842107,
          0.8394736842105265,
          0.594736842105263,
          0.7078947368421055,
          0.3526315789473683,
          0.34210526315789486,
          0.42368421052631605,
          0.6947368421052632,
          0.3526315789473683,
          0.3000000000000001,
          0.3526315789473683,
          0.5473684210526315,
          0.3526315789473683,
          0.6078947368421053,
          0.31052631578947404,
          0.3315789473684209,
          0.744736842105263,
          0.6473684210526317,
          0.5157894736842107,
          0.2447368421052635,
          0.1657894736842107,
          0.5263157894736841,
          0.21315789473684219,
          0.34210526315789486,
          0.43947368421052624,
          0.25526315789473697,
          0.44473684210526343,
          0.27631578947368435,
          0.5315789473684213,
          0.21315789473684219,
          0.4315789473684211,
          0.2973684210526317,
          0.16315789473684233,
          0.16052631578947396,
          0.27631578947368435,
          0.27631578947368435,
          0.25526315789473697,
          0.43684210526315786,
          0.3315789473684209,
          0.15526315789473677,
          0.3789473684210529,
          0.2052631578947371,
          0.3315789473684209,
          0.3526315789473683,
          0.3315789473684209,
          0.27631578947368435,
          0.4131578947368421,
          0.34473684210526323,
          0.20789473684210547,
          0.38947368421052636,
          0.3657894736842106,
          0.3210526315789475,
          0.44473684210526343,
          0.31315789473684236,
          0.15263157894736842,
          0.11315789473684247,
          0.39210526315789473,
          0.1921052631578948,
          0.10000000000000019,
          0.27631578947368435,
          0,
          0.20789473684210547,
          0.3657894736842106,
          0.45789473684210524,
          0.25526315789473697,
          0.11052631578947364,
          0.13947368421052658,
          0.3657894736842106,
          0.5315789473684213,
          0.22105263157894728,
          0.273684210526316,
          0.368421052631579,
          0.1999999999999999,
          0.3526315789473683,
          0.2657894736842104,
          0.481578947368421,
          0.4868421052631582,
          0.4684210526315792,
          0.43947368421052624,
          0.38947368421052636,
          0.4131578947368421,
          0.3210526315789475,
          0.3947368421052631,
          0.6473684210526317,
          0.47631578947368425,
          0.5,
          0.613157894736842,
          0.6552631578947368,
          0.6815789473684208,
          0.3210526315789475,
          0.5605263157894738,
          0.7500000000000002,
          0.48421052631578937,
          0.6026315789473685,
          0.5394736842105264,
          0.65,
          0.46315789473684194,
          0.5473684210526315,
          0.5789473684210528,
          0.40789473684210537,
          0.5631578947368422,
          0.7394736842105263,
          0.3736842105263157,
          0.8710526315789473,
          0.6447368421052633,
          0.35,
          0.7,
          0.4789473684210526,
          0.5078947368421055,
          0.7236842105263157,
          0.7105263157894738,
          0.6368421052631578,
          0.4710526315789475,
          0.6710526315789475,
          0.623684210526316,
          0.30789473684210517,
          0.45789473684210524,
          0.8236842105263158,
          0.7052631578947371,
          0.623684210526316,
          0.5894736842105263,
          0.5631578947368422,
          0.8157894736842107
         ],
         "z": [
          0.5613409415121255,
          0.550641940085592,
          0.6469329529243937,
          0.8573466476462197,
          0.325962910128388,
          0.8359486447931527,
          0.7218259629101283,
          0.7253922967189729,
          0.5470756062767475,
          0.5470756062767475,
          0.8787446504992867,
          0.7146932952924394,
          0.7432239657631954,
          0.6219686162624821,
          0.9051355206847361,
          0.7360912981455064,
          0.7146932952924394,
          0.6077032810271041,
          1,
          0.4044222539229672,
          0.35805991440798857,
          0.3509272467902996,
          0.5399429386590585,
          0.5256776034236804,
          0.4044222539229672,
          0.39372325249643364,
          0.6540656205420827,
          0.7182596291012838,
          0.4543509272467903,
          0.5399429386590585,
          0.7182596291012838,
          0.8823109843081313,
          0.5078459343794579,
          0.6825962910128388,
          0.5827389443651926,
          0.4579172610556348,
          0.42938659058487877,
          0.5898716119828816,
          0.5292439372325249,
          0.3437945791726106,
          0.36875891583452214,
          0.5399429386590585,
          0.5827389443651926,
          0.2867332382310984,
          0.43295292439372324,
          0.572039942938659,
          0.5613409415121255,
          0.5042796005706134,
          0.557774607703281,
          0.7004279600570613,
          0.6219686162624821,
          0.7039942938659058,
          0.6504992867332382,
          0.782453637660485,
          0.557774607703281,
          0.6005706134094151,
          0.49358059914407987,
          0.7075606276747504,
          0.7182596291012838,
          0.17261055634807418,
          0.2867332382310984,
          0.12268188302425106,
          0.25106990014265335,
          0.10128388017118402,
          0.05492154065620542,
          0.28530670470756064,
          0.15977175463623394,
          0.16547788873038516,
          0.33666191155492153,
          0.31383737517831667,
          0.4222539229671897,
          0.09415121255349501,
          0.1383737517831669,
          0.5042796005706134,
          0.43366619115549215,
          0.10699001426533523,
          0.08131241084165478,
          0.15834522111269614,
          0.33666191155492153,
          0.13195435092724678,
          0,
          0.31098430813124106,
          0.25106990014265335,
          0.16904422253922968,
          0.17261055634807418,
          0.12268188302425106,
          0.15477888730385164,
          0.20256776034236804,
          0.2867332382310984,
          0.24750356633380885,
          0.14407988587731813,
          0.12268188302425106,
          0.15477888730385164,
          0.008559201141226819,
          0.04778887303851641,
          0.47004279600570614,
          0.24750356633380885,
          0.10699001426533523,
          0.2724679029957204,
          0.0912981455064194,
          0.30813124108416545,
          0.20256776034236804,
          0.11412268188302425,
          0.09771754636233952,
          0.2810271041369472,
          0.026390870185449358,
          0.16547788873038516,
          0.14978601997146934,
          0.024251069900142655,
          0.2867332382310984,
          0.20256776034236804,
          0.033523537803138374,
          0.2346647646219686,
          0.11126961483594865,
          0.07631954350927246,
          0.0920114122681883,
          0.15477888730385164,
          0.04778887303851641,
          0.06704707560627675,
          0.20399429386590584,
          0.24750356633380885,
          0.13338088445078458,
          0.062054208273894434,
          0.07275320970042796,
          0.07275320970042796,
          0.07132667617689016,
          0.052781740370898715,
          0.1340941512125535,
          0.0456490727532097,
          0.21540656205420827,
          0.25106990014265335,
          0.1797432239657632,
          0.20114122681883023,
          0.2296718972895863,
          0.2653352353780314,
          0.29743223965763194,
          0.3152639087018545,
          0.16904422253922968,
          0.21540656205420827,
          0.2225392296718973,
          0.2296718972895863,
          0.35805991440798857,
          0.17261055634807418,
          0.19400855920114124,
          0.4115549215406562,
          0.39372325249643364,
          0.09771754636233952,
          0.24750356633380885,
          0.2653352353780314,
          0.19400855920114124,
          0.15834522111269614,
          0.14407988587731813,
          0.10485021398002853,
          0.2831669044222539,
          0.2582025677603424,
          0.318830242510699,
          0.14407988587731813,
          0.42938659058487877,
          0.2724679029957204,
          0.24393723252496433,
          0.17261055634807418,
          0.2867332382310984,
          0.20827389443651925,
          0.2831669044222539,
          0.24037089871611983,
          0.17261055634807418,
          0.29743223965763194,
          0.29029957203994294,
          0.33666191155492153,
          0.25106990014265335,
          0.16547788873038516,
          0.1369472182596291,
          0.2724679029957204,
          0.32952924393723254,
          0.33666191155492153,
          0.39728958630527816,
          0.4008559201141227,
          0.20114122681883023
         ]
        }
       ],
       "layout": {
        "scene": {
         "xaxis": {
          "title": {
           "text": "Intensidade de Cor"
          }
         },
         "yaxis": {
          "title": {
           "text": "Alcool"
          }
         },
         "zaxis": {
          "title": {
           "text": "Proline"
          }
         }
        },
        "template": {
         "data": {
          "bar": [
           {
            "error_x": {
             "color": "#2a3f5f"
            },
            "error_y": {
             "color": "#2a3f5f"
            },
            "marker": {
             "line": {
              "color": "#E5ECF6",
              "width": 0.5
             },
             "pattern": {
              "fillmode": "overlay",
              "size": 10,
              "solidity": 0.2
             }
            },
            "type": "bar"
           }
          ],
          "barpolar": [
           {
            "marker": {
             "line": {
              "color": "#E5ECF6",
              "width": 0.5
             },
             "pattern": {
              "fillmode": "overlay",
              "size": 10,
              "solidity": 0.2
             }
            },
            "type": "barpolar"
           }
          ],
          "carpet": [
           {
            "aaxis": {
             "endlinecolor": "#2a3f5f",
             "gridcolor": "white",
             "linecolor": "white",
             "minorgridcolor": "white",
             "startlinecolor": "#2a3f5f"
            },
            "baxis": {
             "endlinecolor": "#2a3f5f",
             "gridcolor": "white",
             "linecolor": "white",
             "minorgridcolor": "white",
             "startlinecolor": "#2a3f5f"
            },
            "type": "carpet"
           }
          ],
          "choropleth": [
           {
            "colorbar": {
             "outlinewidth": 0,
             "ticks": ""
            },
            "type": "choropleth"
           }
          ],
          "contour": [
           {
            "colorbar": {
             "outlinewidth": 0,
             "ticks": ""
            },
            "colorscale": [
             [
              0,
              "#0d0887"
             ],
             [
              0.1111111111111111,
              "#46039f"
             ],
             [
              0.2222222222222222,
              "#7201a8"
             ],
             [
              0.3333333333333333,
              "#9c179e"
             ],
             [
              0.4444444444444444,
              "#bd3786"
             ],
             [
              0.5555555555555556,
              "#d8576b"
             ],
             [
              0.6666666666666666,
              "#ed7953"
             ],
             [
              0.7777777777777778,
              "#fb9f3a"
             ],
             [
              0.8888888888888888,
              "#fdca26"
             ],
             [
              1,
              "#f0f921"
             ]
            ],
            "type": "contour"
           }
          ],
          "contourcarpet": [
           {
            "colorbar": {
             "outlinewidth": 0,
             "ticks": ""
            },
            "type": "contourcarpet"
           }
          ],
          "heatmap": [
           {
            "colorbar": {
             "outlinewidth": 0,
             "ticks": ""
            },
            "colorscale": [
             [
              0,
              "#0d0887"
             ],
             [
              0.1111111111111111,
              "#46039f"
             ],
             [
              0.2222222222222222,
              "#7201a8"
             ],
             [
              0.3333333333333333,
              "#9c179e"
             ],
             [
              0.4444444444444444,
              "#bd3786"
             ],
             [
              0.5555555555555556,
              "#d8576b"
             ],
             [
              0.6666666666666666,
              "#ed7953"
             ],
             [
              0.7777777777777778,
              "#fb9f3a"
             ],
             [
              0.8888888888888888,
              "#fdca26"
             ],
             [
              1,
              "#f0f921"
             ]
            ],
            "type": "heatmap"
           }
          ],
          "heatmapgl": [
           {
            "colorbar": {
             "outlinewidth": 0,
             "ticks": ""
            },
            "colorscale": [
             [
              0,
              "#0d0887"
             ],
             [
              0.1111111111111111,
              "#46039f"
             ],
             [
              0.2222222222222222,
              "#7201a8"
             ],
             [
              0.3333333333333333,
              "#9c179e"
             ],
             [
              0.4444444444444444,
              "#bd3786"
             ],
             [
              0.5555555555555556,
              "#d8576b"
             ],
             [
              0.6666666666666666,
              "#ed7953"
             ],
             [
              0.7777777777777778,
              "#fb9f3a"
             ],
             [
              0.8888888888888888,
              "#fdca26"
             ],
             [
              1,
              "#f0f921"
             ]
            ],
            "type": "heatmapgl"
           }
          ],
          "histogram": [
           {
            "marker": {
             "pattern": {
              "fillmode": "overlay",
              "size": 10,
              "solidity": 0.2
             }
            },
            "type": "histogram"
           }
          ],
          "histogram2d": [
           {
            "colorbar": {
             "outlinewidth": 0,
             "ticks": ""
            },
            "colorscale": [
             [
              0,
              "#0d0887"
             ],
             [
              0.1111111111111111,
              "#46039f"
             ],
             [
              0.2222222222222222,
              "#7201a8"
             ],
             [
              0.3333333333333333,
              "#9c179e"
             ],
             [
              0.4444444444444444,
              "#bd3786"
             ],
             [
              0.5555555555555556,
              "#d8576b"
             ],
             [
              0.6666666666666666,
              "#ed7953"
             ],
             [
              0.7777777777777778,
              "#fb9f3a"
             ],
             [
              0.8888888888888888,
              "#fdca26"
             ],
             [
              1,
              "#f0f921"
             ]
            ],
            "type": "histogram2d"
           }
          ],
          "histogram2dcontour": [
           {
            "colorbar": {
             "outlinewidth": 0,
             "ticks": ""
            },
            "colorscale": [
             [
              0,
              "#0d0887"
             ],
             [
              0.1111111111111111,
              "#46039f"
             ],
             [
              0.2222222222222222,
              "#7201a8"
             ],
             [
              0.3333333333333333,
              "#9c179e"
             ],
             [
              0.4444444444444444,
              "#bd3786"
             ],
             [
              0.5555555555555556,
              "#d8576b"
             ],
             [
              0.6666666666666666,
              "#ed7953"
             ],
             [
              0.7777777777777778,
              "#fb9f3a"
             ],
             [
              0.8888888888888888,
              "#fdca26"
             ],
             [
              1,
              "#f0f921"
             ]
            ],
            "type": "histogram2dcontour"
           }
          ],
          "mesh3d": [
           {
            "colorbar": {
             "outlinewidth": 0,
             "ticks": ""
            },
            "type": "mesh3d"
           }
          ],
          "parcoords": [
           {
            "line": {
             "colorbar": {
              "outlinewidth": 0,
              "ticks": ""
             }
            },
            "type": "parcoords"
           }
          ],
          "pie": [
           {
            "automargin": true,
            "type": "pie"
           }
          ],
          "scatter": [
           {
            "marker": {
             "colorbar": {
              "outlinewidth": 0,
              "ticks": ""
             }
            },
            "type": "scatter"
           }
          ],
          "scatter3d": [
           {
            "line": {
             "colorbar": {
              "outlinewidth": 0,
              "ticks": ""
             }
            },
            "marker": {
             "colorbar": {
              "outlinewidth": 0,
              "ticks": ""
             }
            },
            "type": "scatter3d"
           }
          ],
          "scattercarpet": [
           {
            "marker": {
             "colorbar": {
              "outlinewidth": 0,
              "ticks": ""
             }
            },
            "type": "scattercarpet"
           }
          ],
          "scattergeo": [
           {
            "marker": {
             "colorbar": {
              "outlinewidth": 0,
              "ticks": ""
             }
            },
            "type": "scattergeo"
           }
          ],
          "scattergl": [
           {
            "marker": {
             "colorbar": {
              "outlinewidth": 0,
              "ticks": ""
             }
            },
            "type": "scattergl"
           }
          ],
          "scattermapbox": [
           {
            "marker": {
             "colorbar": {
              "outlinewidth": 0,
              "ticks": ""
             }
            },
            "type": "scattermapbox"
           }
          ],
          "scatterpolar": [
           {
            "marker": {
             "colorbar": {
              "outlinewidth": 0,
              "ticks": ""
             }
            },
            "type": "scatterpolar"
           }
          ],
          "scatterpolargl": [
           {
            "marker": {
             "colorbar": {
              "outlinewidth": 0,
              "ticks": ""
             }
            },
            "type": "scatterpolargl"
           }
          ],
          "scatterternary": [
           {
            "marker": {
             "colorbar": {
              "outlinewidth": 0,
              "ticks": ""
             }
            },
            "type": "scatterternary"
           }
          ],
          "surface": [
           {
            "colorbar": {
             "outlinewidth": 0,
             "ticks": ""
            },
            "colorscale": [
             [
              0,
              "#0d0887"
             ],
             [
              0.1111111111111111,
              "#46039f"
             ],
             [
              0.2222222222222222,
              "#7201a8"
             ],
             [
              0.3333333333333333,
              "#9c179e"
             ],
             [
              0.4444444444444444,
              "#bd3786"
             ],
             [
              0.5555555555555556,
              "#d8576b"
             ],
             [
              0.6666666666666666,
              "#ed7953"
             ],
             [
              0.7777777777777778,
              "#fb9f3a"
             ],
             [
              0.8888888888888888,
              "#fdca26"
             ],
             [
              1,
              "#f0f921"
             ]
            ],
            "type": "surface"
           }
          ],
          "table": [
           {
            "cells": {
             "fill": {
              "color": "#EBF0F8"
             },
             "line": {
              "color": "white"
             }
            },
            "header": {
             "fill": {
              "color": "#C8D4E3"
             },
             "line": {
              "color": "white"
             }
            },
            "type": "table"
           }
          ]
         },
         "layout": {
          "annotationdefaults": {
           "arrowcolor": "#2a3f5f",
           "arrowhead": 0,
           "arrowwidth": 1
          },
          "autotypenumbers": "strict",
          "coloraxis": {
           "colorbar": {
            "outlinewidth": 0,
            "ticks": ""
           }
          },
          "colorscale": {
           "diverging": [
            [
             0,
             "#8e0152"
            ],
            [
             0.1,
             "#c51b7d"
            ],
            [
             0.2,
             "#de77ae"
            ],
            [
             0.3,
             "#f1b6da"
            ],
            [
             0.4,
             "#fde0ef"
            ],
            [
             0.5,
             "#f7f7f7"
            ],
            [
             0.6,
             "#e6f5d0"
            ],
            [
             0.7,
             "#b8e186"
            ],
            [
             0.8,
             "#7fbc41"
            ],
            [
             0.9,
             "#4d9221"
            ],
            [
             1,
             "#276419"
            ]
           ],
           "sequential": [
            [
             0,
             "#0d0887"
            ],
            [
             0.1111111111111111,
             "#46039f"
            ],
            [
             0.2222222222222222,
             "#7201a8"
            ],
            [
             0.3333333333333333,
             "#9c179e"
            ],
            [
             0.4444444444444444,
             "#bd3786"
            ],
            [
             0.5555555555555556,
             "#d8576b"
            ],
            [
             0.6666666666666666,
             "#ed7953"
            ],
            [
             0.7777777777777778,
             "#fb9f3a"
            ],
            [
             0.8888888888888888,
             "#fdca26"
            ],
            [
             1,
             "#f0f921"
            ]
           ],
           "sequentialminus": [
            [
             0,
             "#0d0887"
            ],
            [
             0.1111111111111111,
             "#46039f"
            ],
            [
             0.2222222222222222,
             "#7201a8"
            ],
            [
             0.3333333333333333,
             "#9c179e"
            ],
            [
             0.4444444444444444,
             "#bd3786"
            ],
            [
             0.5555555555555556,
             "#d8576b"
            ],
            [
             0.6666666666666666,
             "#ed7953"
            ],
            [
             0.7777777777777778,
             "#fb9f3a"
            ],
            [
             0.8888888888888888,
             "#fdca26"
            ],
            [
             1,
             "#f0f921"
            ]
           ]
          },
          "colorway": [
           "#636efa",
           "#EF553B",
           "#00cc96",
           "#ab63fa",
           "#FFA15A",
           "#19d3f3",
           "#FF6692",
           "#B6E880",
           "#FF97FF",
           "#FECB52"
          ],
          "font": {
           "color": "#2a3f5f"
          },
          "geo": {
           "bgcolor": "white",
           "lakecolor": "white",
           "landcolor": "#E5ECF6",
           "showlakes": true,
           "showland": true,
           "subunitcolor": "white"
          },
          "hoverlabel": {
           "align": "left"
          },
          "hovermode": "closest",
          "mapbox": {
           "style": "light"
          },
          "paper_bgcolor": "white",
          "plot_bgcolor": "#E5ECF6",
          "polar": {
           "angularaxis": {
            "gridcolor": "white",
            "linecolor": "white",
            "ticks": ""
           },
           "bgcolor": "#E5ECF6",
           "radialaxis": {
            "gridcolor": "white",
            "linecolor": "white",
            "ticks": ""
           }
          },
          "scene": {
           "xaxis": {
            "backgroundcolor": "#E5ECF6",
            "gridcolor": "white",
            "gridwidth": 2,
            "linecolor": "white",
            "showbackground": true,
            "ticks": "",
            "zerolinecolor": "white"
           },
           "yaxis": {
            "backgroundcolor": "#E5ECF6",
            "gridcolor": "white",
            "gridwidth": 2,
            "linecolor": "white",
            "showbackground": true,
            "ticks": "",
            "zerolinecolor": "white"
           },
           "zaxis": {
            "backgroundcolor": "#E5ECF6",
            "gridcolor": "white",
            "gridwidth": 2,
            "linecolor": "white",
            "showbackground": true,
            "ticks": "",
            "zerolinecolor": "white"
           }
          },
          "shapedefaults": {
           "line": {
            "color": "#2a3f5f"
           }
          },
          "ternary": {
           "aaxis": {
            "gridcolor": "white",
            "linecolor": "white",
            "ticks": ""
           },
           "baxis": {
            "gridcolor": "white",
            "linecolor": "white",
            "ticks": ""
           },
           "bgcolor": "#E5ECF6",
           "caxis": {
            "gridcolor": "white",
            "linecolor": "white",
            "ticks": ""
           }
          },
          "title": {
           "x": 0.05
          },
          "xaxis": {
           "automargin": true,
           "gridcolor": "white",
           "linecolor": "white",
           "ticks": "",
           "title": {
            "standoff": 15
           },
           "zerolinecolor": "white",
           "zerolinewidth": 2
          },
          "yaxis": {
           "automargin": true,
           "gridcolor": "white",
           "linecolor": "white",
           "ticks": "",
           "title": {
            "standoff": 15
           },
           "zerolinecolor": "white",
           "zerolinewidth": 2
          }
         }
        }
       }
      },
      "text/html": [
       "<div>                            <div id=\"24731146-2a4e-477d-b438-fe32a4eedb37\" class=\"plotly-graph-div\" style=\"height:525px; width:100%;\"></div>            <script type=\"text/javascript\">                require([\"plotly\"], function(Plotly) {                    window.PLOTLYENV=window.PLOTLYENV || {};                                    if (document.getElementById(\"24731146-2a4e-477d-b438-fe32a4eedb37\")) {                    Plotly.newPlot(                        \"24731146-2a4e-477d-b438-fe32a4eedb37\",                        [{\"marker\":{\"color\":[1.0,1.0,1.0,1.0,1.0,1.0,1.0,1.0,1.0,1.0,1.0,1.0,1.0,1.0,1.0,1.0,1.0,1.0,1.0,1.0,1.0,1.0,1.0,1.0,1.0,1.0,1.0,1.0,1.0,1.0,1.0,1.0,1.0,1.0,1.0,1.0,1.0,1.0,1.0,1.0,1.0,1.0,1.0,1.0,1.0,1.0,1.0,1.0,1.0,1.0,1.0,1.0,1.0,1.0,1.0,1.0,1.0,1.0,1.0,2.0,2.0,2.0,2.0,3.0,2.0,3.0,3.0,3.0,2.0,3.0,2.0,3.0,3.0,3.0,3.0,2.0,3.0,2.0,3.0,3.0,3.0,3.0,2.0,2.0,3.0,3.0,2.0,2.0,2.0,2.0,2.0,2.0,2.0,3.0,3.0,3.0,3.0,3.0,3.0,3.0,3.0,2.0,3.0,2.0,3.0,2.0,2.0,2.0,3.0,3.0,3.0,3.0,2.0,2.0,2.0,2.0,3.0,3.0,2.0,3.0,3.0,3.0,3.0,3.0,3.0,3.0,3.0,2.0,3.0,2.0,0.0,0.0,0.0,0.0,0.0,0.0,0.0,0.0,0.0,0.0,0.0,0.0,0.0,0.0,0.0,0.0,0.0,0.0,0.0,0.0,0.0,0.0,0.0,0.0,0.0,0.0,0.0,0.0,0.0,0.0,0.0,0.0,0.0,0.0,0.0,0.0,0.0,0.0,0.0,0.0,0.0,0.0,0.0,0.0,0.0,0.0,0.0,0.0]},\"mode\":\"markers\",\"text\":[\"1\",\"1\",\"1\",\"1\",\"1\",\"1\",\"1\",\"1\",\"1\",\"1\",\"1\",\"1\",\"1\",\"1\",\"1\",\"1\",\"1\",\"1\",\"1\",\"1\",\"1\",\"1\",\"1\",\"1\",\"1\",\"1\",\"1\",\"1\",\"1\",\"1\",\"1\",\"1\",\"1\",\"1\",\"1\",\"1\",\"1\",\"1\",\"1\",\"1\",\"1\",\"1\",\"1\",\"1\",\"1\",\"1\",\"1\",\"1\",\"1\",\"1\",\"1\",\"1\",\"1\",\"1\",\"1\",\"1\",\"1\",\"1\",\"1\",\"2\",\"2\",\"2\",\"2\",\"3\",\"2\",\"3\",\"3\",\"3\",\"2\",\"3\",\"2\",\"3\",\"3\",\"3\",\"3\",\"2\",\"3\",\"2\",\"3\",\"3\",\"3\",\"3\",\"2\",\"2\",\"3\",\"3\",\"2\",\"2\",\"2\",\"2\",\"2\",\"2\",\"2\",\"3\",\"3\",\"3\",\"3\",\"3\",\"3\",\"3\",\"3\",\"2\",\"3\",\"2\",\"3\",\"2\",\"2\",\"2\",\"3\",\"3\",\"3\",\"3\",\"2\",\"2\",\"2\",\"2\",\"3\",\"3\",\"2\",\"3\",\"3\",\"3\",\"3\",\"3\",\"3\",\"3\",\"3\",\"2\",\"3\",\"2\",\"0\",\"0\",\"0\",\"0\",\"0\",\"0\",\"0\",\"0\",\"0\",\"0\",\"0\",\"0\",\"0\",\"0\",\"0\",\"0\",\"0\",\"0\",\"0\",\"0\",\"0\",\"0\",\"0\",\"0\",\"0\",\"0\",\"0\",\"0\",\"0\",\"0\",\"0\",\"0\",\"0\",\"0\",\"0\",\"0\",\"0\",\"0\",\"0\",\"0\",\"0\",\"0\",\"0\",\"0\",\"0\",\"0\",\"0\",\"0\"],\"type\":\"scatter3d\",\"x\":[0.37201365187713303,0.26450511945392485,0.3754266211604095,0.5563139931740614,0.2593856655290102,0.46672354948805456,0.3387372013651877,0.3216723549488054,0.33447098976109213,0.5068259385665528,0.3813993174061433,0.31740614334470985,0.3686006825938566,0.3515358361774744,0.530716723549488,0.5136518771331058,0.4197952218430034,0.45392491467576784,0.6331058020477814,0.32593856655290093,0.3728668941979522,0.27474402730375425,0.21501706484641633,0.22610921501706485,0.19112627986348124,0.19624573378839588,0.3003412969283276,0.22781569965870305,0.27474402730375425,0.2918088737201365,0.37713310580204773,0.47952218430034127,0.21843003412969278,0.3515358361774744,0.24914675767918087,0.32593856655290093,0.28327645051194533,0.2534129692832764,0.20648464163822525,0.32593856655290093,0.41382252559726956,0.25597269624573377,0.3540955631399317,0.26279863481228666,0.3208191126279863,0.3378839590443686,0.30887372013651876,0.4112627986348122,0.4197952218430034,0.6501706484641638,0.5051194539249146,0.3686006825938566,0.4923208191126279,0.42832764505119447,0.3899317406143344,0.42406143344709896,0.43515358361774736,0.4027303754266211,0.4709897610921501,0.057167235494880536,0.1697952218430034,0.3813993174061433,0.21501706484641633,0.2704778156996587,0.14249146757679182,0.28327645051194533,0.3430034129692832,0.2901023890784982,0.16126279863481227,0.13395904436860068,0.1510238907849829,0.17918088737201363,0.2098976109215017,0.17662116040955633,0.16467576791808872,0.21501706484641633,0.28327645051194533,0.11689419795221842,0.18088737201365188,0.1100682593856655,0.10409556313993173,0.2235494880546075,0.07849829351535836,0.3003412969283276,0.1510238907849829,0.11433447098976109,0.09982935153583619,0.11262798634812286,0.1296928327645051,0.039249146757679175,0.09556313993174059,0.19795221843003413,0.1510238907849829,0.07423208191126278,0.16808873720136516,0.11262798634812286,0.10409556313993173,0.13822525597269622,0.27474402730375425,0.08703071672354946,0.1723549488054607,0.09982935153583619,0.1296928327645051,0.06655290102389079,0.1416382252559727,0.121160409556314,0.18088737201365188,0.1723549488054607,0.121160409556314,0.11689419795221842,0.13822525597269622,0.0614334470989761,0.21501706484641633,0.15358361774744028,0.13822525597269622,0.05290102389078497,0.057167235494880536,0.06655290102389079,0.18088737201365188,0.0,0.16808873720136516,0.4027303754266211,0.06825938566552901,0.11262798634812286,0.1296928327645051,0.12627986348122863,0.22696245733788395,0.14675767918088736,0.07167235494880546,0.11262798634812286,0.2406143344709897,0.3515358361774744,0.37713310580204773,0.31740614334470985,0.35580204778156993,0.49658703071672344,0.21928327645051196,0.31740614334470985,0.37713310580204773,0.31058020477815695,0.28327645051194533,0.3686006825938566,0.26194539249146753,0.26621160409556316,0.591296928327645,0.2320819112627986,0.30887372013651876,0.5435153583617747,0.6092150170648464,0.6928327645051195,0.6245733788395904,0.8122866894197953,0.49658703071672344,0.78839590443686,0.5392491467576791,0.5648464163822525,0.6595563139931739,0.530716723549488,1.0,0.893344709897611,0.5435153583617747,0.39249146757679176,0.3668941979522184,0.341296928327645,0.7081911262798635,0.4556313993174061,0.8020477815699658,0.7662116040955631,0.629692832764505,0.6160409556313993,0.3600682593856655,0.7354947952218429,0.7184300341296928,0.5477815699658702,0.5136518771331058,0.7610921501706485,0.6843003412969284,0.675767918088737],\"y\":[0.8421052631578949,0.5710526315789473,0.5605263157894738,0.8789473684210525,0.5815789473684212,0.8342105263157893,0.8842105263157897,0.7973684210526317,1.0,0.744736842105263,0.8078947368421052,0.813157894736842,0.7157894736842105,0.9789473684210526,0.8815789473684212,0.6842105263157897,0.8605263157894739,0.736842105263158,0.831578947368421,0.686842105263158,0.7973684210526317,0.5,0.7052631578947371,0.4789473684210526,0.65,0.5315789473684213,0.6210526315789475,0.5973684210526318,0.7473684210526313,0.7868421052631578,0.7105263157894738,0.6710526315789475,0.6973684210526315,0.718421052631579,0.6526315789473685,0.6447368421052633,0.5921052631578946,0.5315789473684213,0.536842105263158,0.8394736842105265,0.6657894736842107,0.6263157894736843,0.7500000000000002,0.5815789473684212,0.5315789473684213,0.8368421052631582,0.8815789473684212,0.755263157894737,0.8078947368421052,0.7657894736842105,0.5315789473684213,0.736842105263158,0.7342105263157895,0.7210526315789473,0.7131578947368422,0.6657894736842107,0.8394736842105265,0.594736842105263,0.7078947368421055,0.3526315789473683,0.34210526315789486,0.42368421052631605,0.6947368421052632,0.3526315789473683,0.3000000000000001,0.3526315789473683,0.5473684210526315,0.3526315789473683,0.6078947368421053,0.31052631578947404,0.3315789473684209,0.744736842105263,0.6473684210526317,0.5157894736842107,0.2447368421052635,0.1657894736842107,0.5263157894736841,0.21315789473684219,0.34210526315789486,0.43947368421052624,0.25526315789473697,0.44473684210526343,0.27631578947368435,0.5315789473684213,0.21315789473684219,0.4315789473684211,0.2973684210526317,0.16315789473684233,0.16052631578947396,0.27631578947368435,0.27631578947368435,0.25526315789473697,0.43684210526315786,0.3315789473684209,0.15526315789473677,0.3789473684210529,0.2052631578947371,0.3315789473684209,0.3526315789473683,0.3315789473684209,0.27631578947368435,0.4131578947368421,0.34473684210526323,0.20789473684210547,0.38947368421052636,0.3657894736842106,0.3210526315789475,0.44473684210526343,0.31315789473684236,0.15263157894736842,0.11315789473684247,0.39210526315789473,0.1921052631578948,0.10000000000000019,0.27631578947368435,0.0,0.20789473684210547,0.3657894736842106,0.45789473684210524,0.25526315789473697,0.11052631578947364,0.13947368421052658,0.3657894736842106,0.5315789473684213,0.22105263157894728,0.273684210526316,0.368421052631579,0.1999999999999999,0.3526315789473683,0.2657894736842104,0.481578947368421,0.4868421052631582,0.4684210526315792,0.43947368421052624,0.38947368421052636,0.4131578947368421,0.3210526315789475,0.3947368421052631,0.6473684210526317,0.47631578947368425,0.5,0.613157894736842,0.6552631578947368,0.6815789473684208,0.3210526315789475,0.5605263157894738,0.7500000000000002,0.48421052631578937,0.6026315789473685,0.5394736842105264,0.65,0.46315789473684194,0.5473684210526315,0.5789473684210528,0.40789473684210537,0.5631578947368422,0.7394736842105263,0.3736842105263157,0.8710526315789473,0.6447368421052633,0.35,0.7,0.4789473684210526,0.5078947368421055,0.7236842105263157,0.7105263157894738,0.6368421052631578,0.4710526315789475,0.6710526315789475,0.623684210526316,0.30789473684210517,0.45789473684210524,0.8236842105263158,0.7052631578947371,0.623684210526316,0.5894736842105263,0.5631578947368422,0.8157894736842107],\"z\":[0.5613409415121255,0.550641940085592,0.6469329529243937,0.8573466476462197,0.325962910128388,0.8359486447931527,0.7218259629101283,0.7253922967189729,0.5470756062767475,0.5470756062767475,0.8787446504992867,0.7146932952924394,0.7432239657631954,0.6219686162624821,0.9051355206847361,0.7360912981455064,0.7146932952924394,0.6077032810271041,1.0,0.4044222539229672,0.35805991440798857,0.3509272467902996,0.5399429386590585,0.5256776034236804,0.4044222539229672,0.39372325249643364,0.6540656205420827,0.7182596291012838,0.4543509272467903,0.5399429386590585,0.7182596291012838,0.8823109843081313,0.5078459343794579,0.6825962910128388,0.5827389443651926,0.4579172610556348,0.42938659058487877,0.5898716119828816,0.5292439372325249,0.3437945791726106,0.36875891583452214,0.5399429386590585,0.5827389443651926,0.2867332382310984,0.43295292439372324,0.572039942938659,0.5613409415121255,0.5042796005706134,0.557774607703281,0.7004279600570613,0.6219686162624821,0.7039942938659058,0.6504992867332382,0.782453637660485,0.557774607703281,0.6005706134094151,0.49358059914407987,0.7075606276747504,0.7182596291012838,0.17261055634807418,0.2867332382310984,0.12268188302425106,0.25106990014265335,0.10128388017118402,0.05492154065620542,0.28530670470756064,0.15977175463623394,0.16547788873038516,0.33666191155492153,0.31383737517831667,0.4222539229671897,0.09415121255349501,0.1383737517831669,0.5042796005706134,0.43366619115549215,0.10699001426533523,0.08131241084165478,0.15834522111269614,0.33666191155492153,0.13195435092724678,0.0,0.31098430813124106,0.25106990014265335,0.16904422253922968,0.17261055634807418,0.12268188302425106,0.15477888730385164,0.20256776034236804,0.2867332382310984,0.24750356633380885,0.14407988587731813,0.12268188302425106,0.15477888730385164,0.008559201141226819,0.04778887303851641,0.47004279600570614,0.24750356633380885,0.10699001426533523,0.2724679029957204,0.0912981455064194,0.30813124108416545,0.20256776034236804,0.11412268188302425,0.09771754636233952,0.2810271041369472,0.026390870185449358,0.16547788873038516,0.14978601997146934,0.024251069900142655,0.2867332382310984,0.20256776034236804,0.033523537803138374,0.2346647646219686,0.11126961483594865,0.07631954350927246,0.0920114122681883,0.15477888730385164,0.04778887303851641,0.06704707560627675,0.20399429386590584,0.24750356633380885,0.13338088445078458,0.062054208273894434,0.07275320970042796,0.07275320970042796,0.07132667617689016,0.052781740370898715,0.1340941512125535,0.0456490727532097,0.21540656205420827,0.25106990014265335,0.1797432239657632,0.20114122681883023,0.2296718972895863,0.2653352353780314,0.29743223965763194,0.3152639087018545,0.16904422253922968,0.21540656205420827,0.2225392296718973,0.2296718972895863,0.35805991440798857,0.17261055634807418,0.19400855920114124,0.4115549215406562,0.39372325249643364,0.09771754636233952,0.24750356633380885,0.2653352353780314,0.19400855920114124,0.15834522111269614,0.14407988587731813,0.10485021398002853,0.2831669044222539,0.2582025677603424,0.318830242510699,0.14407988587731813,0.42938659058487877,0.2724679029957204,0.24393723252496433,0.17261055634807418,0.2867332382310984,0.20827389443651925,0.2831669044222539,0.24037089871611983,0.17261055634807418,0.29743223965763194,0.29029957203994294,0.33666191155492153,0.25106990014265335,0.16547788873038516,0.1369472182596291,0.2724679029957204,0.32952924393723254,0.33666191155492153,0.39728958630527816,0.4008559201141227,0.20114122681883023]}],                        {\"scene\":{\"xaxis\":{\"title\":{\"text\":\"Intensidade de Cor\"}},\"yaxis\":{\"title\":{\"text\":\"Alcool\"}},\"zaxis\":{\"title\":{\"text\":\"Proline\"}}},\"template\":{\"data\":{\"bar\":[{\"error_x\":{\"color\":\"#2a3f5f\"},\"error_y\":{\"color\":\"#2a3f5f\"},\"marker\":{\"line\":{\"color\":\"#E5ECF6\",\"width\":0.5},\"pattern\":{\"fillmode\":\"overlay\",\"size\":10,\"solidity\":0.2}},\"type\":\"bar\"}],\"barpolar\":[{\"marker\":{\"line\":{\"color\":\"#E5ECF6\",\"width\":0.5},\"pattern\":{\"fillmode\":\"overlay\",\"size\":10,\"solidity\":0.2}},\"type\":\"barpolar\"}],\"carpet\":[{\"aaxis\":{\"endlinecolor\":\"#2a3f5f\",\"gridcolor\":\"white\",\"linecolor\":\"white\",\"minorgridcolor\":\"white\",\"startlinecolor\":\"#2a3f5f\"},\"baxis\":{\"endlinecolor\":\"#2a3f5f\",\"gridcolor\":\"white\",\"linecolor\":\"white\",\"minorgridcolor\":\"white\",\"startlinecolor\":\"#2a3f5f\"},\"type\":\"carpet\"}],\"choropleth\":[{\"colorbar\":{\"outlinewidth\":0,\"ticks\":\"\"},\"type\":\"choropleth\"}],\"contour\":[{\"colorbar\":{\"outlinewidth\":0,\"ticks\":\"\"},\"colorscale\":[[0.0,\"#0d0887\"],[0.1111111111111111,\"#46039f\"],[0.2222222222222222,\"#7201a8\"],[0.3333333333333333,\"#9c179e\"],[0.4444444444444444,\"#bd3786\"],[0.5555555555555556,\"#d8576b\"],[0.6666666666666666,\"#ed7953\"],[0.7777777777777778,\"#fb9f3a\"],[0.8888888888888888,\"#fdca26\"],[1.0,\"#f0f921\"]],\"type\":\"contour\"}],\"contourcarpet\":[{\"colorbar\":{\"outlinewidth\":0,\"ticks\":\"\"},\"type\":\"contourcarpet\"}],\"heatmap\":[{\"colorbar\":{\"outlinewidth\":0,\"ticks\":\"\"},\"colorscale\":[[0.0,\"#0d0887\"],[0.1111111111111111,\"#46039f\"],[0.2222222222222222,\"#7201a8\"],[0.3333333333333333,\"#9c179e\"],[0.4444444444444444,\"#bd3786\"],[0.5555555555555556,\"#d8576b\"],[0.6666666666666666,\"#ed7953\"],[0.7777777777777778,\"#fb9f3a\"],[0.8888888888888888,\"#fdca26\"],[1.0,\"#f0f921\"]],\"type\":\"heatmap\"}],\"heatmapgl\":[{\"colorbar\":{\"outlinewidth\":0,\"ticks\":\"\"},\"colorscale\":[[0.0,\"#0d0887\"],[0.1111111111111111,\"#46039f\"],[0.2222222222222222,\"#7201a8\"],[0.3333333333333333,\"#9c179e\"],[0.4444444444444444,\"#bd3786\"],[0.5555555555555556,\"#d8576b\"],[0.6666666666666666,\"#ed7953\"],[0.7777777777777778,\"#fb9f3a\"],[0.8888888888888888,\"#fdca26\"],[1.0,\"#f0f921\"]],\"type\":\"heatmapgl\"}],\"histogram\":[{\"marker\":{\"pattern\":{\"fillmode\":\"overlay\",\"size\":10,\"solidity\":0.2}},\"type\":\"histogram\"}],\"histogram2d\":[{\"colorbar\":{\"outlinewidth\":0,\"ticks\":\"\"},\"colorscale\":[[0.0,\"#0d0887\"],[0.1111111111111111,\"#46039f\"],[0.2222222222222222,\"#7201a8\"],[0.3333333333333333,\"#9c179e\"],[0.4444444444444444,\"#bd3786\"],[0.5555555555555556,\"#d8576b\"],[0.6666666666666666,\"#ed7953\"],[0.7777777777777778,\"#fb9f3a\"],[0.8888888888888888,\"#fdca26\"],[1.0,\"#f0f921\"]],\"type\":\"histogram2d\"}],\"histogram2dcontour\":[{\"colorbar\":{\"outlinewidth\":0,\"ticks\":\"\"},\"colorscale\":[[0.0,\"#0d0887\"],[0.1111111111111111,\"#46039f\"],[0.2222222222222222,\"#7201a8\"],[0.3333333333333333,\"#9c179e\"],[0.4444444444444444,\"#bd3786\"],[0.5555555555555556,\"#d8576b\"],[0.6666666666666666,\"#ed7953\"],[0.7777777777777778,\"#fb9f3a\"],[0.8888888888888888,\"#fdca26\"],[1.0,\"#f0f921\"]],\"type\":\"histogram2dcontour\"}],\"mesh3d\":[{\"colorbar\":{\"outlinewidth\":0,\"ticks\":\"\"},\"type\":\"mesh3d\"}],\"parcoords\":[{\"line\":{\"colorbar\":{\"outlinewidth\":0,\"ticks\":\"\"}},\"type\":\"parcoords\"}],\"pie\":[{\"automargin\":true,\"type\":\"pie\"}],\"scatter\":[{\"marker\":{\"colorbar\":{\"outlinewidth\":0,\"ticks\":\"\"}},\"type\":\"scatter\"}],\"scatter3d\":[{\"line\":{\"colorbar\":{\"outlinewidth\":0,\"ticks\":\"\"}},\"marker\":{\"colorbar\":{\"outlinewidth\":0,\"ticks\":\"\"}},\"type\":\"scatter3d\"}],\"scattercarpet\":[{\"marker\":{\"colorbar\":{\"outlinewidth\":0,\"ticks\":\"\"}},\"type\":\"scattercarpet\"}],\"scattergeo\":[{\"marker\":{\"colorbar\":{\"outlinewidth\":0,\"ticks\":\"\"}},\"type\":\"scattergeo\"}],\"scattergl\":[{\"marker\":{\"colorbar\":{\"outlinewidth\":0,\"ticks\":\"\"}},\"type\":\"scattergl\"}],\"scattermapbox\":[{\"marker\":{\"colorbar\":{\"outlinewidth\":0,\"ticks\":\"\"}},\"type\":\"scattermapbox\"}],\"scatterpolar\":[{\"marker\":{\"colorbar\":{\"outlinewidth\":0,\"ticks\":\"\"}},\"type\":\"scatterpolar\"}],\"scatterpolargl\":[{\"marker\":{\"colorbar\":{\"outlinewidth\":0,\"ticks\":\"\"}},\"type\":\"scatterpolargl\"}],\"scatterternary\":[{\"marker\":{\"colorbar\":{\"outlinewidth\":0,\"ticks\":\"\"}},\"type\":\"scatterternary\"}],\"surface\":[{\"colorbar\":{\"outlinewidth\":0,\"ticks\":\"\"},\"colorscale\":[[0.0,\"#0d0887\"],[0.1111111111111111,\"#46039f\"],[0.2222222222222222,\"#7201a8\"],[0.3333333333333333,\"#9c179e\"],[0.4444444444444444,\"#bd3786\"],[0.5555555555555556,\"#d8576b\"],[0.6666666666666666,\"#ed7953\"],[0.7777777777777778,\"#fb9f3a\"],[0.8888888888888888,\"#fdca26\"],[1.0,\"#f0f921\"]],\"type\":\"surface\"}],\"table\":[{\"cells\":{\"fill\":{\"color\":\"#EBF0F8\"},\"line\":{\"color\":\"white\"}},\"header\":{\"fill\":{\"color\":\"#C8D4E3\"},\"line\":{\"color\":\"white\"}},\"type\":\"table\"}]},\"layout\":{\"annotationdefaults\":{\"arrowcolor\":\"#2a3f5f\",\"arrowhead\":0,\"arrowwidth\":1},\"autotypenumbers\":\"strict\",\"coloraxis\":{\"colorbar\":{\"outlinewidth\":0,\"ticks\":\"\"}},\"colorscale\":{\"diverging\":[[0,\"#8e0152\"],[0.1,\"#c51b7d\"],[0.2,\"#de77ae\"],[0.3,\"#f1b6da\"],[0.4,\"#fde0ef\"],[0.5,\"#f7f7f7\"],[0.6,\"#e6f5d0\"],[0.7,\"#b8e186\"],[0.8,\"#7fbc41\"],[0.9,\"#4d9221\"],[1,\"#276419\"]],\"sequential\":[[0.0,\"#0d0887\"],[0.1111111111111111,\"#46039f\"],[0.2222222222222222,\"#7201a8\"],[0.3333333333333333,\"#9c179e\"],[0.4444444444444444,\"#bd3786\"],[0.5555555555555556,\"#d8576b\"],[0.6666666666666666,\"#ed7953\"],[0.7777777777777778,\"#fb9f3a\"],[0.8888888888888888,\"#fdca26\"],[1.0,\"#f0f921\"]],\"sequentialminus\":[[0.0,\"#0d0887\"],[0.1111111111111111,\"#46039f\"],[0.2222222222222222,\"#7201a8\"],[0.3333333333333333,\"#9c179e\"],[0.4444444444444444,\"#bd3786\"],[0.5555555555555556,\"#d8576b\"],[0.6666666666666666,\"#ed7953\"],[0.7777777777777778,\"#fb9f3a\"],[0.8888888888888888,\"#fdca26\"],[1.0,\"#f0f921\"]]},\"colorway\":[\"#636efa\",\"#EF553B\",\"#00cc96\",\"#ab63fa\",\"#FFA15A\",\"#19d3f3\",\"#FF6692\",\"#B6E880\",\"#FF97FF\",\"#FECB52\"],\"font\":{\"color\":\"#2a3f5f\"},\"geo\":{\"bgcolor\":\"white\",\"lakecolor\":\"white\",\"landcolor\":\"#E5ECF6\",\"showlakes\":true,\"showland\":true,\"subunitcolor\":\"white\"},\"hoverlabel\":{\"align\":\"left\"},\"hovermode\":\"closest\",\"mapbox\":{\"style\":\"light\"},\"paper_bgcolor\":\"white\",\"plot_bgcolor\":\"#E5ECF6\",\"polar\":{\"angularaxis\":{\"gridcolor\":\"white\",\"linecolor\":\"white\",\"ticks\":\"\"},\"bgcolor\":\"#E5ECF6\",\"radialaxis\":{\"gridcolor\":\"white\",\"linecolor\":\"white\",\"ticks\":\"\"}},\"scene\":{\"xaxis\":{\"backgroundcolor\":\"#E5ECF6\",\"gridcolor\":\"white\",\"gridwidth\":2,\"linecolor\":\"white\",\"showbackground\":true,\"ticks\":\"\",\"zerolinecolor\":\"white\"},\"yaxis\":{\"backgroundcolor\":\"#E5ECF6\",\"gridcolor\":\"white\",\"gridwidth\":2,\"linecolor\":\"white\",\"showbackground\":true,\"ticks\":\"\",\"zerolinecolor\":\"white\"},\"zaxis\":{\"backgroundcolor\":\"#E5ECF6\",\"gridcolor\":\"white\",\"gridwidth\":2,\"linecolor\":\"white\",\"showbackground\":true,\"ticks\":\"\",\"zerolinecolor\":\"white\"}},\"shapedefaults\":{\"line\":{\"color\":\"#2a3f5f\"}},\"ternary\":{\"aaxis\":{\"gridcolor\":\"white\",\"linecolor\":\"white\",\"ticks\":\"\"},\"baxis\":{\"gridcolor\":\"white\",\"linecolor\":\"white\",\"ticks\":\"\"},\"bgcolor\":\"#E5ECF6\",\"caxis\":{\"gridcolor\":\"white\",\"linecolor\":\"white\",\"ticks\":\"\"}},\"title\":{\"x\":0.05},\"xaxis\":{\"automargin\":true,\"gridcolor\":\"white\",\"linecolor\":\"white\",\"ticks\":\"\",\"title\":{\"standoff\":15},\"zerolinecolor\":\"white\",\"zerolinewidth\":2},\"yaxis\":{\"automargin\":true,\"gridcolor\":\"white\",\"linecolor\":\"white\",\"ticks\":\"\",\"title\":{\"standoff\":15},\"zerolinecolor\":\"white\",\"zerolinewidth\":2}}}},                        {\"responsive\": true}                    ).then(function(){\n",
       "                            \n",
       "var gd = document.getElementById('24731146-2a4e-477d-b438-fe32a4eedb37');\n",
       "var x = new MutationObserver(function (mutations, observer) {{\n",
       "        var display = window.getComputedStyle(gd).display;\n",
       "        if (!display || display === 'none') {{\n",
       "            console.log([gd, 'removed!']);\n",
       "            Plotly.purge(gd);\n",
       "            observer.disconnect();\n",
       "        }}\n",
       "}});\n",
       "\n",
       "// Listen for the removal of the full notebook cells\n",
       "var notebookContainer = gd.closest('#notebook-container');\n",
       "if (notebookContainer) {{\n",
       "    x.observe(notebookContainer, {childList: true});\n",
       "}}\n",
       "\n",
       "// Listen for the clearing of the current output cell\n",
       "var outputEl = gd.closest('.output');\n",
       "if (outputEl) {{\n",
       "    x.observe(outputEl, {childList: true});\n",
       "}}\n",
       "\n",
       "                        })                };                });            </script>        </div>"
      ]
     },
     "metadata": {},
     "output_type": "display_data"
    }
   ],
   "source": [
    "#Para visualizar os 3 clústeres em 3 dimensões, utilizaremos uma função do plotly chamado scatter3d, \n",
    "#que desenha um gráfico de três dimensões:\n",
    "\n",
    "fig = go.Figure()\n",
    "fig.add_trace(go.Scatter3d(  x = df['Intesidade_de_color'],\n",
    "                             y = df['Alcool'],\n",
    "                             z = df['Proline'],\n",
    "                        mode = 'markers',\n",
    "                        marker = dict(color = labels.astype(np.float64)),\n",
    "                        text = labels))\n",
    "\n",
    "# Podemos adicionar o nome dos eixos ao nosso gráfico, de modo que fique mais claro de entender o que está sendo \n",
    "# representado nele. Para fazer isso, podemos utilizar a propriedade axis dos layouts. \n",
    "# Iremos então atualizar o layout (update_layout). Alteraremos o atributo scene passando para ele \n",
    "# um dicionário com o nome dos eixos. Depois disso, atualizaremos a figura usando fig.show():\n",
    "\n",
    "fig.update_layout(scene = dict(\n",
    "    xaxis_title = 'Intensidade de Cor',\n",
    "    yaxis_title = 'Alcool',\n",
    "    zaxis_title = 'Proline'\n",
    "))\n",
    "\n",
    "fig.show()"
   ]
  },
  {
   "cell_type": "code",
   "execution_count": 53,
   "id": "3a337c88",
   "metadata": {},
   "outputs": [
    {
     "data": {
      "text/html": [
       "<div>\n",
       "<style scoped>\n",
       "    .dataframe tbody tr th:only-of-type {\n",
       "        vertical-align: middle;\n",
       "    }\n",
       "\n",
       "    .dataframe tbody tr th {\n",
       "        vertical-align: top;\n",
       "    }\n",
       "\n",
       "    .dataframe thead th {\n",
       "        text-align: right;\n",
       "    }\n",
       "</style>\n",
       "<table border=\"1\" class=\"dataframe\">\n",
       "  <thead>\n",
       "    <tr style=\"text-align: right;\">\n",
       "      <th></th>\n",
       "      <th>Alcool</th>\n",
       "      <th>Malic_Acid</th>\n",
       "      <th>Ash</th>\n",
       "      <th>Alcalinidade_po</th>\n",
       "      <th>Magnesio</th>\n",
       "      <th>Total_Phenols</th>\n",
       "      <th>Flavanoids</th>\n",
       "      <th>Nonflavanoid_Phenols</th>\n",
       "      <th>Proanthocyanins</th>\n",
       "      <th>Intesidade_de_color</th>\n",
       "      <th>Hue</th>\n",
       "      <th>OD280</th>\n",
       "      <th>Proline</th>\n",
       "      <th>Customer_Segment</th>\n",
       "    </tr>\n",
       "  </thead>\n",
       "  <tbody>\n",
       "    <tr>\n",
       "      <th>0</th>\n",
       "      <td>0.322960</td>\n",
       "      <td>0.230939</td>\n",
       "      <td>0.469813</td>\n",
       "      <td>0.487823</td>\n",
       "      <td>0.261342</td>\n",
       "      <td>0.438831</td>\n",
       "      <td>0.366294</td>\n",
       "      <td>0.438337</td>\n",
       "      <td>0.383486</td>\n",
       "      <td>0.151704</td>\n",
       "      <td>0.468081</td>\n",
       "      <td>0.555396</td>\n",
       "      <td>0.167494</td>\n",
       "      <td>0.500000</td>\n",
       "    </tr>\n",
       "    <tr>\n",
       "      <th>1</th>\n",
       "      <td>0.558324</td>\n",
       "      <td>0.514721</td>\n",
       "      <td>0.574703</td>\n",
       "      <td>0.558700</td>\n",
       "      <td>0.315439</td>\n",
       "      <td>0.240746</td>\n",
       "      <td>0.096616</td>\n",
       "      <td>0.605314</td>\n",
       "      <td>0.237559</td>\n",
       "      <td>0.517343</td>\n",
       "      <td>0.167413</td>\n",
       "      <td>0.153921</td>\n",
       "      <td>0.249323</td>\n",
       "      <td>0.989796</td>\n",
       "    </tr>\n",
       "    <tr>\n",
       "      <th>2</th>\n",
       "      <td>0.711096</td>\n",
       "      <td>0.250000</td>\n",
       "      <td>0.587166</td>\n",
       "      <td>0.342955</td>\n",
       "      <td>0.400906</td>\n",
       "      <td>0.644080</td>\n",
       "      <td>0.557138</td>\n",
       "      <td>0.299371</td>\n",
       "      <td>0.470137</td>\n",
       "      <td>0.359386</td>\n",
       "      <td>0.476558</td>\n",
       "      <td>0.693590</td>\n",
       "      <td>0.595958</td>\n",
       "      <td>0.008333</td>\n",
       "    </tr>\n",
       "  </tbody>\n",
       "</table>\n",
       "</div>"
      ],
      "text/plain": [
       "     Alcool  Malic_Acid       Ash  Alcalinidade_po  Magnesio  Total_Phenols  \\\n",
       "0  0.322960    0.230939  0.469813         0.487823  0.261342       0.438831   \n",
       "1  0.558324    0.514721  0.574703         0.558700  0.315439       0.240746   \n",
       "2  0.711096    0.250000  0.587166         0.342955  0.400906       0.644080   \n",
       "\n",
       "   Flavanoids  Nonflavanoid_Phenols  Proanthocyanins  Intesidade_de_color  \\\n",
       "0    0.366294              0.438337         0.383486             0.151704   \n",
       "1    0.096616              0.605314         0.237559             0.517343   \n",
       "2    0.557138              0.299371         0.470137             0.359386   \n",
       "\n",
       "        Hue     OD280   Proline  Customer_Segment  \n",
       "0  0.468081  0.555396  0.167494          0.500000  \n",
       "1  0.167413  0.153921  0.249323          0.989796  \n",
       "2  0.476558  0.693590  0.595958          0.008333  "
      ]
     },
     "execution_count": 53,
     "metadata": {},
     "output_type": "execute_result"
    }
   ],
   "source": [
    "# O centro dos clusters\n",
    "#Podemos adicionar os centros dos clústeres. Eles nos dão uma boa visão de como o centro de um cluster, \n",
    "#ou seja, o centro daquele grupo está disposto. Para isso, podemos fazer:\n",
    "\n",
    "centros = pd.DataFrame(agrupador3.cluster_centers_)\n",
    "centros.columns = colunas\n",
    "centros.head()"
   ]
  },
  {
   "cell_type": "code",
   "execution_count": 47,
   "id": "3d3fff68",
   "metadata": {},
   "outputs": [
    {
     "data": {
      "text/html": [
       "<div>\n",
       "<style scoped>\n",
       "    .dataframe tbody tr th:only-of-type {\n",
       "        vertical-align: middle;\n",
       "    }\n",
       "\n",
       "    .dataframe tbody tr th {\n",
       "        vertical-align: top;\n",
       "    }\n",
       "\n",
       "    .dataframe thead th {\n",
       "        text-align: right;\n",
       "    }\n",
       "</style>\n",
       "<table border=\"1\" class=\"dataframe\">\n",
       "  <thead>\n",
       "    <tr style=\"text-align: right;\">\n",
       "      <th></th>\n",
       "      <th>Alcool</th>\n",
       "      <th>Malic_Acid</th>\n",
       "      <th>Ash</th>\n",
       "      <th>Alcalinidade_po</th>\n",
       "      <th>Magnesio</th>\n",
       "      <th>Total_Phenols</th>\n",
       "      <th>Flavanoids</th>\n",
       "      <th>Nonflavanoid_Phenols</th>\n",
       "      <th>Proanthocyanins</th>\n",
       "      <th>Intesidade_de_color</th>\n",
       "      <th>Hue</th>\n",
       "      <th>OD280</th>\n",
       "      <th>Proline</th>\n",
       "      <th>Customer_Segment</th>\n",
       "    </tr>\n",
       "  </thead>\n",
       "  <tbody>\n",
       "    <tr>\n",
       "      <th>0</th>\n",
       "      <td>0.558882</td>\n",
       "      <td>0.512599</td>\n",
       "      <td>0.575980</td>\n",
       "      <td>0.557560</td>\n",
       "      <td>0.318614</td>\n",
       "      <td>0.240948</td>\n",
       "      <td>0.093135</td>\n",
       "      <td>0.599057</td>\n",
       "      <td>0.234556</td>\n",
       "      <td>0.521864</td>\n",
       "      <td>0.164804</td>\n",
       "      <td>0.151480</td>\n",
       "      <td>0.250996</td>\n",
       "      <td>1.000000e+00</td>\n",
       "    </tr>\n",
       "    <tr>\n",
       "      <th>1</th>\n",
       "      <td>0.714407</td>\n",
       "      <td>0.251122</td>\n",
       "      <td>0.585879</td>\n",
       "      <td>0.331819</td>\n",
       "      <td>0.394989</td>\n",
       "      <td>0.641438</td>\n",
       "      <td>0.557463</td>\n",
       "      <td>0.301887</td>\n",
       "      <td>0.469818</td>\n",
       "      <td>0.362483</td>\n",
       "      <td>0.473198</td>\n",
       "      <td>0.691501</td>\n",
       "      <td>0.597512</td>\n",
       "      <td>-6.661338e-16</td>\n",
       "    </tr>\n",
       "    <tr>\n",
       "      <th>2</th>\n",
       "      <td>0.311667</td>\n",
       "      <td>0.217523</td>\n",
       "      <td>0.485918</td>\n",
       "      <td>0.495704</td>\n",
       "      <td>0.214130</td>\n",
       "      <td>0.313793</td>\n",
       "      <td>0.266878</td>\n",
       "      <td>0.623270</td>\n",
       "      <td>0.266667</td>\n",
       "      <td>0.148521</td>\n",
       "      <td>0.483089</td>\n",
       "      <td>0.431258</td>\n",
       "      <td>0.173942</td>\n",
       "      <td>5.000000e-01</td>\n",
       "    </tr>\n",
       "    <tr>\n",
       "      <th>3</th>\n",
       "      <td>0.341014</td>\n",
       "      <td>0.249012</td>\n",
       "      <td>0.463806</td>\n",
       "      <td>0.497611</td>\n",
       "      <td>0.305408</td>\n",
       "      <td>0.534062</td>\n",
       "      <td>0.440722</td>\n",
       "      <td>0.307409</td>\n",
       "      <td>0.471493</td>\n",
       "      <td>0.158266</td>\n",
       "      <td>0.457862</td>\n",
       "      <td>0.645671</td>\n",
       "      <td>0.171027</td>\n",
       "      <td>5.000000e-01</td>\n",
       "    </tr>\n",
       "  </tbody>\n",
       "</table>\n",
       "</div>"
      ],
      "text/plain": [
       "     Alcool  Malic_Acid       Ash  Alcalinidade_po  Magnesio  Total_Phenols  \\\n",
       "0  0.558882    0.512599  0.575980         0.557560  0.318614       0.240948   \n",
       "1  0.714407    0.251122  0.585879         0.331819  0.394989       0.641438   \n",
       "2  0.311667    0.217523  0.485918         0.495704  0.214130       0.313793   \n",
       "3  0.341014    0.249012  0.463806         0.497611  0.305408       0.534062   \n",
       "\n",
       "   Flavanoids  Nonflavanoid_Phenols  Proanthocyanins  Intesidade_de_color  \\\n",
       "0    0.093135              0.599057         0.234556             0.521864   \n",
       "1    0.557463              0.301887         0.469818             0.362483   \n",
       "2    0.266878              0.623270         0.266667             0.148521   \n",
       "3    0.440722              0.307409         0.471493             0.158266   \n",
       "\n",
       "        Hue     OD280   Proline  Customer_Segment  \n",
       "0  0.164804  0.151480  0.250996      1.000000e+00  \n",
       "1  0.473198  0.691501  0.597512     -6.661338e-16  \n",
       "2  0.483089  0.431258  0.173942      5.000000e-01  \n",
       "3  0.457862  0.645671  0.171027      5.000000e-01  "
      ]
     },
     "execution_count": 47,
     "metadata": {},
     "output_type": "execute_result"
    }
   ],
   "source": [
    "# O centro dos clusters\n",
    "centros = pd.DataFrame(agrupador4.cluster_centers_)\n",
    "centros.columns = colunas\n",
    "centros.head()"
   ]
  },
  {
   "cell_type": "code",
   "execution_count": 50,
   "id": "e5c3f0ca",
   "metadata": {},
   "outputs": [
    {
     "data": {
      "application/vnd.plotly.v1+json": {
       "config": {
        "plotlyServerURL": "https://plot.ly"
       },
       "data": [
        {
         "marker": {
          "color": [
           1,
           1,
           1,
           1,
           1,
           1,
           1,
           1,
           1,
           1,
           1,
           1,
           1,
           1,
           1,
           1,
           1,
           1,
           1,
           1,
           1,
           1,
           1,
           1,
           1,
           1,
           1,
           1,
           1,
           1,
           1,
           1,
           1,
           1,
           1,
           1,
           1,
           1,
           1,
           1,
           1,
           1,
           1,
           1,
           1,
           1,
           1,
           1,
           1,
           1,
           1,
           1,
           1,
           1,
           1,
           1,
           1,
           1,
           1,
           2,
           2,
           2,
           2,
           3,
           2,
           3,
           3,
           3,
           2,
           3,
           2,
           3,
           3,
           3,
           3,
           2,
           3,
           2,
           3,
           3,
           3,
           3,
           2,
           2,
           3,
           3,
           2,
           2,
           2,
           2,
           2,
           2,
           2,
           3,
           3,
           3,
           3,
           3,
           3,
           3,
           3,
           2,
           3,
           2,
           3,
           2,
           2,
           2,
           3,
           3,
           3,
           3,
           2,
           2,
           2,
           2,
           3,
           3,
           2,
           3,
           3,
           3,
           3,
           3,
           3,
           3,
           3,
           2,
           3,
           2,
           0,
           0,
           0,
           0,
           0,
           0,
           0,
           0,
           0,
           0,
           0,
           0,
           0,
           0,
           0,
           0,
           0,
           0,
           0,
           0,
           0,
           0,
           0,
           0,
           0,
           0,
           0,
           0,
           0,
           0,
           0,
           0,
           0,
           0,
           0,
           0,
           0,
           0,
           0,
           0,
           0,
           0,
           0,
           0,
           0,
           0,
           0,
           0
          ]
         },
         "mode": "markers",
         "text": [
          "1",
          "1",
          "1",
          "1",
          "1",
          "1",
          "1",
          "1",
          "1",
          "1",
          "1",
          "1",
          "1",
          "1",
          "1",
          "1",
          "1",
          "1",
          "1",
          "1",
          "1",
          "1",
          "1",
          "1",
          "1",
          "1",
          "1",
          "1",
          "1",
          "1",
          "1",
          "1",
          "1",
          "1",
          "1",
          "1",
          "1",
          "1",
          "1",
          "1",
          "1",
          "1",
          "1",
          "1",
          "1",
          "1",
          "1",
          "1",
          "1",
          "1",
          "1",
          "1",
          "1",
          "1",
          "1",
          "1",
          "1",
          "1",
          "1",
          "2",
          "2",
          "2",
          "2",
          "3",
          "2",
          "3",
          "3",
          "3",
          "2",
          "3",
          "2",
          "3",
          "3",
          "3",
          "3",
          "2",
          "3",
          "2",
          "3",
          "3",
          "3",
          "3",
          "2",
          "2",
          "3",
          "3",
          "2",
          "2",
          "2",
          "2",
          "2",
          "2",
          "2",
          "3",
          "3",
          "3",
          "3",
          "3",
          "3",
          "3",
          "3",
          "2",
          "3",
          "2",
          "3",
          "2",
          "2",
          "2",
          "3",
          "3",
          "3",
          "3",
          "2",
          "2",
          "2",
          "2",
          "3",
          "3",
          "2",
          "3",
          "3",
          "3",
          "3",
          "3",
          "3",
          "3",
          "3",
          "2",
          "3",
          "2",
          "0",
          "0",
          "0",
          "0",
          "0",
          "0",
          "0",
          "0",
          "0",
          "0",
          "0",
          "0",
          "0",
          "0",
          "0",
          "0",
          "0",
          "0",
          "0",
          "0",
          "0",
          "0",
          "0",
          "0",
          "0",
          "0",
          "0",
          "0",
          "0",
          "0",
          "0",
          "0",
          "0",
          "0",
          "0",
          "0",
          "0",
          "0",
          "0",
          "0",
          "0",
          "0",
          "0",
          "0",
          "0",
          "0",
          "0",
          "0"
         ],
         "type": "scatter3d",
         "x": [
          0.37201365187713303,
          0.26450511945392485,
          0.3754266211604095,
          0.5563139931740614,
          0.2593856655290102,
          0.46672354948805456,
          0.3387372013651877,
          0.3216723549488054,
          0.33447098976109213,
          0.5068259385665528,
          0.3813993174061433,
          0.31740614334470985,
          0.3686006825938566,
          0.3515358361774744,
          0.530716723549488,
          0.5136518771331058,
          0.4197952218430034,
          0.45392491467576784,
          0.6331058020477814,
          0.32593856655290093,
          0.3728668941979522,
          0.27474402730375425,
          0.21501706484641633,
          0.22610921501706485,
          0.19112627986348124,
          0.19624573378839588,
          0.3003412969283276,
          0.22781569965870305,
          0.27474402730375425,
          0.2918088737201365,
          0.37713310580204773,
          0.47952218430034127,
          0.21843003412969278,
          0.3515358361774744,
          0.24914675767918087,
          0.32593856655290093,
          0.28327645051194533,
          0.2534129692832764,
          0.20648464163822525,
          0.32593856655290093,
          0.41382252559726956,
          0.25597269624573377,
          0.3540955631399317,
          0.26279863481228666,
          0.3208191126279863,
          0.3378839590443686,
          0.30887372013651876,
          0.4112627986348122,
          0.4197952218430034,
          0.6501706484641638,
          0.5051194539249146,
          0.3686006825938566,
          0.4923208191126279,
          0.42832764505119447,
          0.3899317406143344,
          0.42406143344709896,
          0.43515358361774736,
          0.4027303754266211,
          0.4709897610921501,
          0.057167235494880536,
          0.1697952218430034,
          0.3813993174061433,
          0.21501706484641633,
          0.2704778156996587,
          0.14249146757679182,
          0.28327645051194533,
          0.3430034129692832,
          0.2901023890784982,
          0.16126279863481227,
          0.13395904436860068,
          0.1510238907849829,
          0.17918088737201363,
          0.2098976109215017,
          0.17662116040955633,
          0.16467576791808872,
          0.21501706484641633,
          0.28327645051194533,
          0.11689419795221842,
          0.18088737201365188,
          0.1100682593856655,
          0.10409556313993173,
          0.2235494880546075,
          0.07849829351535836,
          0.3003412969283276,
          0.1510238907849829,
          0.11433447098976109,
          0.09982935153583619,
          0.11262798634812286,
          0.1296928327645051,
          0.039249146757679175,
          0.09556313993174059,
          0.19795221843003413,
          0.1510238907849829,
          0.07423208191126278,
          0.16808873720136516,
          0.11262798634812286,
          0.10409556313993173,
          0.13822525597269622,
          0.27474402730375425,
          0.08703071672354946,
          0.1723549488054607,
          0.09982935153583619,
          0.1296928327645051,
          0.06655290102389079,
          0.1416382252559727,
          0.121160409556314,
          0.18088737201365188,
          0.1723549488054607,
          0.121160409556314,
          0.11689419795221842,
          0.13822525597269622,
          0.0614334470989761,
          0.21501706484641633,
          0.15358361774744028,
          0.13822525597269622,
          0.05290102389078497,
          0.057167235494880536,
          0.06655290102389079,
          0.18088737201365188,
          0,
          0.16808873720136516,
          0.4027303754266211,
          0.06825938566552901,
          0.11262798634812286,
          0.1296928327645051,
          0.12627986348122863,
          0.22696245733788395,
          0.14675767918088736,
          0.07167235494880546,
          0.11262798634812286,
          0.2406143344709897,
          0.3515358361774744,
          0.37713310580204773,
          0.31740614334470985,
          0.35580204778156993,
          0.49658703071672344,
          0.21928327645051196,
          0.31740614334470985,
          0.37713310580204773,
          0.31058020477815695,
          0.28327645051194533,
          0.3686006825938566,
          0.26194539249146753,
          0.26621160409556316,
          0.591296928327645,
          0.2320819112627986,
          0.30887372013651876,
          0.5435153583617747,
          0.6092150170648464,
          0.6928327645051195,
          0.6245733788395904,
          0.8122866894197953,
          0.49658703071672344,
          0.78839590443686,
          0.5392491467576791,
          0.5648464163822525,
          0.6595563139931739,
          0.530716723549488,
          1,
          0.893344709897611,
          0.5435153583617747,
          0.39249146757679176,
          0.3668941979522184,
          0.341296928327645,
          0.7081911262798635,
          0.4556313993174061,
          0.8020477815699658,
          0.7662116040955631,
          0.629692832764505,
          0.6160409556313993,
          0.3600682593856655,
          0.7354947952218429,
          0.7184300341296928,
          0.5477815699658702,
          0.5136518771331058,
          0.7610921501706485,
          0.6843003412969284,
          0.675767918088737
         ],
         "y": [
          0.8421052631578949,
          0.5710526315789473,
          0.5605263157894738,
          0.8789473684210525,
          0.5815789473684212,
          0.8342105263157893,
          0.8842105263157897,
          0.7973684210526317,
          1,
          0.744736842105263,
          0.8078947368421052,
          0.813157894736842,
          0.7157894736842105,
          0.9789473684210526,
          0.8815789473684212,
          0.6842105263157897,
          0.8605263157894739,
          0.736842105263158,
          0.831578947368421,
          0.686842105263158,
          0.7973684210526317,
          0.5,
          0.7052631578947371,
          0.4789473684210526,
          0.65,
          0.5315789473684213,
          0.6210526315789475,
          0.5973684210526318,
          0.7473684210526313,
          0.7868421052631578,
          0.7105263157894738,
          0.6710526315789475,
          0.6973684210526315,
          0.718421052631579,
          0.6526315789473685,
          0.6447368421052633,
          0.5921052631578946,
          0.5315789473684213,
          0.536842105263158,
          0.8394736842105265,
          0.6657894736842107,
          0.6263157894736843,
          0.7500000000000002,
          0.5815789473684212,
          0.5315789473684213,
          0.8368421052631582,
          0.8815789473684212,
          0.755263157894737,
          0.8078947368421052,
          0.7657894736842105,
          0.5315789473684213,
          0.736842105263158,
          0.7342105263157895,
          0.7210526315789473,
          0.7131578947368422,
          0.6657894736842107,
          0.8394736842105265,
          0.594736842105263,
          0.7078947368421055,
          0.3526315789473683,
          0.34210526315789486,
          0.42368421052631605,
          0.6947368421052632,
          0.3526315789473683,
          0.3000000000000001,
          0.3526315789473683,
          0.5473684210526315,
          0.3526315789473683,
          0.6078947368421053,
          0.31052631578947404,
          0.3315789473684209,
          0.744736842105263,
          0.6473684210526317,
          0.5157894736842107,
          0.2447368421052635,
          0.1657894736842107,
          0.5263157894736841,
          0.21315789473684219,
          0.34210526315789486,
          0.43947368421052624,
          0.25526315789473697,
          0.44473684210526343,
          0.27631578947368435,
          0.5315789473684213,
          0.21315789473684219,
          0.4315789473684211,
          0.2973684210526317,
          0.16315789473684233,
          0.16052631578947396,
          0.27631578947368435,
          0.27631578947368435,
          0.25526315789473697,
          0.43684210526315786,
          0.3315789473684209,
          0.15526315789473677,
          0.3789473684210529,
          0.2052631578947371,
          0.3315789473684209,
          0.3526315789473683,
          0.3315789473684209,
          0.27631578947368435,
          0.4131578947368421,
          0.34473684210526323,
          0.20789473684210547,
          0.38947368421052636,
          0.3657894736842106,
          0.3210526315789475,
          0.44473684210526343,
          0.31315789473684236,
          0.15263157894736842,
          0.11315789473684247,
          0.39210526315789473,
          0.1921052631578948,
          0.10000000000000019,
          0.27631578947368435,
          0,
          0.20789473684210547,
          0.3657894736842106,
          0.45789473684210524,
          0.25526315789473697,
          0.11052631578947364,
          0.13947368421052658,
          0.3657894736842106,
          0.5315789473684213,
          0.22105263157894728,
          0.273684210526316,
          0.368421052631579,
          0.1999999999999999,
          0.3526315789473683,
          0.2657894736842104,
          0.481578947368421,
          0.4868421052631582,
          0.4684210526315792,
          0.43947368421052624,
          0.38947368421052636,
          0.4131578947368421,
          0.3210526315789475,
          0.3947368421052631,
          0.6473684210526317,
          0.47631578947368425,
          0.5,
          0.613157894736842,
          0.6552631578947368,
          0.6815789473684208,
          0.3210526315789475,
          0.5605263157894738,
          0.7500000000000002,
          0.48421052631578937,
          0.6026315789473685,
          0.5394736842105264,
          0.65,
          0.46315789473684194,
          0.5473684210526315,
          0.5789473684210528,
          0.40789473684210537,
          0.5631578947368422,
          0.7394736842105263,
          0.3736842105263157,
          0.8710526315789473,
          0.6447368421052633,
          0.35,
          0.7,
          0.4789473684210526,
          0.5078947368421055,
          0.7236842105263157,
          0.7105263157894738,
          0.6368421052631578,
          0.4710526315789475,
          0.6710526315789475,
          0.623684210526316,
          0.30789473684210517,
          0.45789473684210524,
          0.8236842105263158,
          0.7052631578947371,
          0.623684210526316,
          0.5894736842105263,
          0.5631578947368422,
          0.8157894736842107
         ],
         "z": [
          0.5613409415121255,
          0.550641940085592,
          0.6469329529243937,
          0.8573466476462197,
          0.325962910128388,
          0.8359486447931527,
          0.7218259629101283,
          0.7253922967189729,
          0.5470756062767475,
          0.5470756062767475,
          0.8787446504992867,
          0.7146932952924394,
          0.7432239657631954,
          0.6219686162624821,
          0.9051355206847361,
          0.7360912981455064,
          0.7146932952924394,
          0.6077032810271041,
          1,
          0.4044222539229672,
          0.35805991440798857,
          0.3509272467902996,
          0.5399429386590585,
          0.5256776034236804,
          0.4044222539229672,
          0.39372325249643364,
          0.6540656205420827,
          0.7182596291012838,
          0.4543509272467903,
          0.5399429386590585,
          0.7182596291012838,
          0.8823109843081313,
          0.5078459343794579,
          0.6825962910128388,
          0.5827389443651926,
          0.4579172610556348,
          0.42938659058487877,
          0.5898716119828816,
          0.5292439372325249,
          0.3437945791726106,
          0.36875891583452214,
          0.5399429386590585,
          0.5827389443651926,
          0.2867332382310984,
          0.43295292439372324,
          0.572039942938659,
          0.5613409415121255,
          0.5042796005706134,
          0.557774607703281,
          0.7004279600570613,
          0.6219686162624821,
          0.7039942938659058,
          0.6504992867332382,
          0.782453637660485,
          0.557774607703281,
          0.6005706134094151,
          0.49358059914407987,
          0.7075606276747504,
          0.7182596291012838,
          0.17261055634807418,
          0.2867332382310984,
          0.12268188302425106,
          0.25106990014265335,
          0.10128388017118402,
          0.05492154065620542,
          0.28530670470756064,
          0.15977175463623394,
          0.16547788873038516,
          0.33666191155492153,
          0.31383737517831667,
          0.4222539229671897,
          0.09415121255349501,
          0.1383737517831669,
          0.5042796005706134,
          0.43366619115549215,
          0.10699001426533523,
          0.08131241084165478,
          0.15834522111269614,
          0.33666191155492153,
          0.13195435092724678,
          0,
          0.31098430813124106,
          0.25106990014265335,
          0.16904422253922968,
          0.17261055634807418,
          0.12268188302425106,
          0.15477888730385164,
          0.20256776034236804,
          0.2867332382310984,
          0.24750356633380885,
          0.14407988587731813,
          0.12268188302425106,
          0.15477888730385164,
          0.008559201141226819,
          0.04778887303851641,
          0.47004279600570614,
          0.24750356633380885,
          0.10699001426533523,
          0.2724679029957204,
          0.0912981455064194,
          0.30813124108416545,
          0.20256776034236804,
          0.11412268188302425,
          0.09771754636233952,
          0.2810271041369472,
          0.026390870185449358,
          0.16547788873038516,
          0.14978601997146934,
          0.024251069900142655,
          0.2867332382310984,
          0.20256776034236804,
          0.033523537803138374,
          0.2346647646219686,
          0.11126961483594865,
          0.07631954350927246,
          0.0920114122681883,
          0.15477888730385164,
          0.04778887303851641,
          0.06704707560627675,
          0.20399429386590584,
          0.24750356633380885,
          0.13338088445078458,
          0.062054208273894434,
          0.07275320970042796,
          0.07275320970042796,
          0.07132667617689016,
          0.052781740370898715,
          0.1340941512125535,
          0.0456490727532097,
          0.21540656205420827,
          0.25106990014265335,
          0.1797432239657632,
          0.20114122681883023,
          0.2296718972895863,
          0.2653352353780314,
          0.29743223965763194,
          0.3152639087018545,
          0.16904422253922968,
          0.21540656205420827,
          0.2225392296718973,
          0.2296718972895863,
          0.35805991440798857,
          0.17261055634807418,
          0.19400855920114124,
          0.4115549215406562,
          0.39372325249643364,
          0.09771754636233952,
          0.24750356633380885,
          0.2653352353780314,
          0.19400855920114124,
          0.15834522111269614,
          0.14407988587731813,
          0.10485021398002853,
          0.2831669044222539,
          0.2582025677603424,
          0.318830242510699,
          0.14407988587731813,
          0.42938659058487877,
          0.2724679029957204,
          0.24393723252496433,
          0.17261055634807418,
          0.2867332382310984,
          0.20827389443651925,
          0.2831669044222539,
          0.24037089871611983,
          0.17261055634807418,
          0.29743223965763194,
          0.29029957203994294,
          0.33666191155492153,
          0.25106990014265335,
          0.16547788873038516,
          0.1369472182596291,
          0.2724679029957204,
          0.32952924393723254,
          0.33666191155492153,
          0.39728958630527816,
          0.4008559201141227,
          0.20114122681883023
         ]
        },
        {
         "marker": {
          "color": "red"
         },
         "mode": "markers",
         "text": [
          "0",
          "1",
          "2"
         ],
         "type": "scatter3d",
         "x": [
          0.15170401147549095,
          0.5173434544124816,
          0.3593856655290102
         ],
         "y": [
          0.3229595728451564,
          0.5583243823845327,
          0.7110964912280703
         ],
         "z": [
          0.1674936426223408,
          0.24932312439954585,
          0.5959581550166428
         ]
        },
        {
         "marker": {
          "color": "red"
         },
         "mode": "markers",
         "text": [
          "0",
          "1",
          "2"
         ],
         "type": "scatter3d",
         "x": [
          0.5218643326934016,
          0.3624833690056111,
          0.14852104664391352,
          0.158266045117789
         ],
         "y": [
          0.5588815789473685,
          0.7144067796610171,
          0.31166666666666676,
          0.34101412066752257
         ],
         "z": [
          0.25099560152163575,
          0.5975120288208129,
          0.17394198763670946,
          0.17102745207195288
         ]
        },
        {
         "marker": {
          "color": "red"
         },
         "mode": "markers",
         "text": [
          "0",
          "1",
          "2"
         ],
         "type": "scatter3d",
         "x": [
          0.15170401147549095,
          0.5173434544124816,
          0.3593856655290102
         ],
         "y": [
          0.3229595728451564,
          0.5583243823845327,
          0.7110964912280703
         ],
         "z": [
          0.1674936426223408,
          0.24932312439954585,
          0.5959581550166428
         ]
        }
       ],
       "layout": {
        "scene": {
         "xaxis": {
          "title": {
           "text": "Intensidade de Cor"
          }
         },
         "yaxis": {
          "title": {
           "text": "Alcool"
          }
         },
         "zaxis": {
          "title": {
           "text": "Proline"
          }
         }
        },
        "template": {
         "data": {
          "bar": [
           {
            "error_x": {
             "color": "#2a3f5f"
            },
            "error_y": {
             "color": "#2a3f5f"
            },
            "marker": {
             "line": {
              "color": "#E5ECF6",
              "width": 0.5
             },
             "pattern": {
              "fillmode": "overlay",
              "size": 10,
              "solidity": 0.2
             }
            },
            "type": "bar"
           }
          ],
          "barpolar": [
           {
            "marker": {
             "line": {
              "color": "#E5ECF6",
              "width": 0.5
             },
             "pattern": {
              "fillmode": "overlay",
              "size": 10,
              "solidity": 0.2
             }
            },
            "type": "barpolar"
           }
          ],
          "carpet": [
           {
            "aaxis": {
             "endlinecolor": "#2a3f5f",
             "gridcolor": "white",
             "linecolor": "white",
             "minorgridcolor": "white",
             "startlinecolor": "#2a3f5f"
            },
            "baxis": {
             "endlinecolor": "#2a3f5f",
             "gridcolor": "white",
             "linecolor": "white",
             "minorgridcolor": "white",
             "startlinecolor": "#2a3f5f"
            },
            "type": "carpet"
           }
          ],
          "choropleth": [
           {
            "colorbar": {
             "outlinewidth": 0,
             "ticks": ""
            },
            "type": "choropleth"
           }
          ],
          "contour": [
           {
            "colorbar": {
             "outlinewidth": 0,
             "ticks": ""
            },
            "colorscale": [
             [
              0,
              "#0d0887"
             ],
             [
              0.1111111111111111,
              "#46039f"
             ],
             [
              0.2222222222222222,
              "#7201a8"
             ],
             [
              0.3333333333333333,
              "#9c179e"
             ],
             [
              0.4444444444444444,
              "#bd3786"
             ],
             [
              0.5555555555555556,
              "#d8576b"
             ],
             [
              0.6666666666666666,
              "#ed7953"
             ],
             [
              0.7777777777777778,
              "#fb9f3a"
             ],
             [
              0.8888888888888888,
              "#fdca26"
             ],
             [
              1,
              "#f0f921"
             ]
            ],
            "type": "contour"
           }
          ],
          "contourcarpet": [
           {
            "colorbar": {
             "outlinewidth": 0,
             "ticks": ""
            },
            "type": "contourcarpet"
           }
          ],
          "heatmap": [
           {
            "colorbar": {
             "outlinewidth": 0,
             "ticks": ""
            },
            "colorscale": [
             [
              0,
              "#0d0887"
             ],
             [
              0.1111111111111111,
              "#46039f"
             ],
             [
              0.2222222222222222,
              "#7201a8"
             ],
             [
              0.3333333333333333,
              "#9c179e"
             ],
             [
              0.4444444444444444,
              "#bd3786"
             ],
             [
              0.5555555555555556,
              "#d8576b"
             ],
             [
              0.6666666666666666,
              "#ed7953"
             ],
             [
              0.7777777777777778,
              "#fb9f3a"
             ],
             [
              0.8888888888888888,
              "#fdca26"
             ],
             [
              1,
              "#f0f921"
             ]
            ],
            "type": "heatmap"
           }
          ],
          "heatmapgl": [
           {
            "colorbar": {
             "outlinewidth": 0,
             "ticks": ""
            },
            "colorscale": [
             [
              0,
              "#0d0887"
             ],
             [
              0.1111111111111111,
              "#46039f"
             ],
             [
              0.2222222222222222,
              "#7201a8"
             ],
             [
              0.3333333333333333,
              "#9c179e"
             ],
             [
              0.4444444444444444,
              "#bd3786"
             ],
             [
              0.5555555555555556,
              "#d8576b"
             ],
             [
              0.6666666666666666,
              "#ed7953"
             ],
             [
              0.7777777777777778,
              "#fb9f3a"
             ],
             [
              0.8888888888888888,
              "#fdca26"
             ],
             [
              1,
              "#f0f921"
             ]
            ],
            "type": "heatmapgl"
           }
          ],
          "histogram": [
           {
            "marker": {
             "pattern": {
              "fillmode": "overlay",
              "size": 10,
              "solidity": 0.2
             }
            },
            "type": "histogram"
           }
          ],
          "histogram2d": [
           {
            "colorbar": {
             "outlinewidth": 0,
             "ticks": ""
            },
            "colorscale": [
             [
              0,
              "#0d0887"
             ],
             [
              0.1111111111111111,
              "#46039f"
             ],
             [
              0.2222222222222222,
              "#7201a8"
             ],
             [
              0.3333333333333333,
              "#9c179e"
             ],
             [
              0.4444444444444444,
              "#bd3786"
             ],
             [
              0.5555555555555556,
              "#d8576b"
             ],
             [
              0.6666666666666666,
              "#ed7953"
             ],
             [
              0.7777777777777778,
              "#fb9f3a"
             ],
             [
              0.8888888888888888,
              "#fdca26"
             ],
             [
              1,
              "#f0f921"
             ]
            ],
            "type": "histogram2d"
           }
          ],
          "histogram2dcontour": [
           {
            "colorbar": {
             "outlinewidth": 0,
             "ticks": ""
            },
            "colorscale": [
             [
              0,
              "#0d0887"
             ],
             [
              0.1111111111111111,
              "#46039f"
             ],
             [
              0.2222222222222222,
              "#7201a8"
             ],
             [
              0.3333333333333333,
              "#9c179e"
             ],
             [
              0.4444444444444444,
              "#bd3786"
             ],
             [
              0.5555555555555556,
              "#d8576b"
             ],
             [
              0.6666666666666666,
              "#ed7953"
             ],
             [
              0.7777777777777778,
              "#fb9f3a"
             ],
             [
              0.8888888888888888,
              "#fdca26"
             ],
             [
              1,
              "#f0f921"
             ]
            ],
            "type": "histogram2dcontour"
           }
          ],
          "mesh3d": [
           {
            "colorbar": {
             "outlinewidth": 0,
             "ticks": ""
            },
            "type": "mesh3d"
           }
          ],
          "parcoords": [
           {
            "line": {
             "colorbar": {
              "outlinewidth": 0,
              "ticks": ""
             }
            },
            "type": "parcoords"
           }
          ],
          "pie": [
           {
            "automargin": true,
            "type": "pie"
           }
          ],
          "scatter": [
           {
            "marker": {
             "colorbar": {
              "outlinewidth": 0,
              "ticks": ""
             }
            },
            "type": "scatter"
           }
          ],
          "scatter3d": [
           {
            "line": {
             "colorbar": {
              "outlinewidth": 0,
              "ticks": ""
             }
            },
            "marker": {
             "colorbar": {
              "outlinewidth": 0,
              "ticks": ""
             }
            },
            "type": "scatter3d"
           }
          ],
          "scattercarpet": [
           {
            "marker": {
             "colorbar": {
              "outlinewidth": 0,
              "ticks": ""
             }
            },
            "type": "scattercarpet"
           }
          ],
          "scattergeo": [
           {
            "marker": {
             "colorbar": {
              "outlinewidth": 0,
              "ticks": ""
             }
            },
            "type": "scattergeo"
           }
          ],
          "scattergl": [
           {
            "marker": {
             "colorbar": {
              "outlinewidth": 0,
              "ticks": ""
             }
            },
            "type": "scattergl"
           }
          ],
          "scattermapbox": [
           {
            "marker": {
             "colorbar": {
              "outlinewidth": 0,
              "ticks": ""
             }
            },
            "type": "scattermapbox"
           }
          ],
          "scatterpolar": [
           {
            "marker": {
             "colorbar": {
              "outlinewidth": 0,
              "ticks": ""
             }
            },
            "type": "scatterpolar"
           }
          ],
          "scatterpolargl": [
           {
            "marker": {
             "colorbar": {
              "outlinewidth": 0,
              "ticks": ""
             }
            },
            "type": "scatterpolargl"
           }
          ],
          "scatterternary": [
           {
            "marker": {
             "colorbar": {
              "outlinewidth": 0,
              "ticks": ""
             }
            },
            "type": "scatterternary"
           }
          ],
          "surface": [
           {
            "colorbar": {
             "outlinewidth": 0,
             "ticks": ""
            },
            "colorscale": [
             [
              0,
              "#0d0887"
             ],
             [
              0.1111111111111111,
              "#46039f"
             ],
             [
              0.2222222222222222,
              "#7201a8"
             ],
             [
              0.3333333333333333,
              "#9c179e"
             ],
             [
              0.4444444444444444,
              "#bd3786"
             ],
             [
              0.5555555555555556,
              "#d8576b"
             ],
             [
              0.6666666666666666,
              "#ed7953"
             ],
             [
              0.7777777777777778,
              "#fb9f3a"
             ],
             [
              0.8888888888888888,
              "#fdca26"
             ],
             [
              1,
              "#f0f921"
             ]
            ],
            "type": "surface"
           }
          ],
          "table": [
           {
            "cells": {
             "fill": {
              "color": "#EBF0F8"
             },
             "line": {
              "color": "white"
             }
            },
            "header": {
             "fill": {
              "color": "#C8D4E3"
             },
             "line": {
              "color": "white"
             }
            },
            "type": "table"
           }
          ]
         },
         "layout": {
          "annotationdefaults": {
           "arrowcolor": "#2a3f5f",
           "arrowhead": 0,
           "arrowwidth": 1
          },
          "autotypenumbers": "strict",
          "coloraxis": {
           "colorbar": {
            "outlinewidth": 0,
            "ticks": ""
           }
          },
          "colorscale": {
           "diverging": [
            [
             0,
             "#8e0152"
            ],
            [
             0.1,
             "#c51b7d"
            ],
            [
             0.2,
             "#de77ae"
            ],
            [
             0.3,
             "#f1b6da"
            ],
            [
             0.4,
             "#fde0ef"
            ],
            [
             0.5,
             "#f7f7f7"
            ],
            [
             0.6,
             "#e6f5d0"
            ],
            [
             0.7,
             "#b8e186"
            ],
            [
             0.8,
             "#7fbc41"
            ],
            [
             0.9,
             "#4d9221"
            ],
            [
             1,
             "#276419"
            ]
           ],
           "sequential": [
            [
             0,
             "#0d0887"
            ],
            [
             0.1111111111111111,
             "#46039f"
            ],
            [
             0.2222222222222222,
             "#7201a8"
            ],
            [
             0.3333333333333333,
             "#9c179e"
            ],
            [
             0.4444444444444444,
             "#bd3786"
            ],
            [
             0.5555555555555556,
             "#d8576b"
            ],
            [
             0.6666666666666666,
             "#ed7953"
            ],
            [
             0.7777777777777778,
             "#fb9f3a"
            ],
            [
             0.8888888888888888,
             "#fdca26"
            ],
            [
             1,
             "#f0f921"
            ]
           ],
           "sequentialminus": [
            [
             0,
             "#0d0887"
            ],
            [
             0.1111111111111111,
             "#46039f"
            ],
            [
             0.2222222222222222,
             "#7201a8"
            ],
            [
             0.3333333333333333,
             "#9c179e"
            ],
            [
             0.4444444444444444,
             "#bd3786"
            ],
            [
             0.5555555555555556,
             "#d8576b"
            ],
            [
             0.6666666666666666,
             "#ed7953"
            ],
            [
             0.7777777777777778,
             "#fb9f3a"
            ],
            [
             0.8888888888888888,
             "#fdca26"
            ],
            [
             1,
             "#f0f921"
            ]
           ]
          },
          "colorway": [
           "#636efa",
           "#EF553B",
           "#00cc96",
           "#ab63fa",
           "#FFA15A",
           "#19d3f3",
           "#FF6692",
           "#B6E880",
           "#FF97FF",
           "#FECB52"
          ],
          "font": {
           "color": "#2a3f5f"
          },
          "geo": {
           "bgcolor": "white",
           "lakecolor": "white",
           "landcolor": "#E5ECF6",
           "showlakes": true,
           "showland": true,
           "subunitcolor": "white"
          },
          "hoverlabel": {
           "align": "left"
          },
          "hovermode": "closest",
          "mapbox": {
           "style": "light"
          },
          "paper_bgcolor": "white",
          "plot_bgcolor": "#E5ECF6",
          "polar": {
           "angularaxis": {
            "gridcolor": "white",
            "linecolor": "white",
            "ticks": ""
           },
           "bgcolor": "#E5ECF6",
           "radialaxis": {
            "gridcolor": "white",
            "linecolor": "white",
            "ticks": ""
           }
          },
          "scene": {
           "xaxis": {
            "backgroundcolor": "#E5ECF6",
            "gridcolor": "white",
            "gridwidth": 2,
            "linecolor": "white",
            "showbackground": true,
            "ticks": "",
            "zerolinecolor": "white"
           },
           "yaxis": {
            "backgroundcolor": "#E5ECF6",
            "gridcolor": "white",
            "gridwidth": 2,
            "linecolor": "white",
            "showbackground": true,
            "ticks": "",
            "zerolinecolor": "white"
           },
           "zaxis": {
            "backgroundcolor": "#E5ECF6",
            "gridcolor": "white",
            "gridwidth": 2,
            "linecolor": "white",
            "showbackground": true,
            "ticks": "",
            "zerolinecolor": "white"
           }
          },
          "shapedefaults": {
           "line": {
            "color": "#2a3f5f"
           }
          },
          "ternary": {
           "aaxis": {
            "gridcolor": "white",
            "linecolor": "white",
            "ticks": ""
           },
           "baxis": {
            "gridcolor": "white",
            "linecolor": "white",
            "ticks": ""
           },
           "bgcolor": "#E5ECF6",
           "caxis": {
            "gridcolor": "white",
            "linecolor": "white",
            "ticks": ""
           }
          },
          "title": {
           "x": 0.05
          },
          "xaxis": {
           "automargin": true,
           "gridcolor": "white",
           "linecolor": "white",
           "ticks": "",
           "title": {
            "standoff": 15
           },
           "zerolinecolor": "white",
           "zerolinewidth": 2
          },
          "yaxis": {
           "automargin": true,
           "gridcolor": "white",
           "linecolor": "white",
           "ticks": "",
           "title": {
            "standoff": 15
           },
           "zerolinecolor": "white",
           "zerolinewidth": 2
          }
         }
        }
       }
      },
      "text/html": [
       "<div>                            <div id=\"e0ec664d-37d0-424f-87d6-3aa53e9ab63a\" class=\"plotly-graph-div\" style=\"height:525px; width:100%;\"></div>            <script type=\"text/javascript\">                require([\"plotly\"], function(Plotly) {                    window.PLOTLYENV=window.PLOTLYENV || {};                                    if (document.getElementById(\"e0ec664d-37d0-424f-87d6-3aa53e9ab63a\")) {                    Plotly.newPlot(                        \"e0ec664d-37d0-424f-87d6-3aa53e9ab63a\",                        [{\"marker\":{\"color\":[1.0,1.0,1.0,1.0,1.0,1.0,1.0,1.0,1.0,1.0,1.0,1.0,1.0,1.0,1.0,1.0,1.0,1.0,1.0,1.0,1.0,1.0,1.0,1.0,1.0,1.0,1.0,1.0,1.0,1.0,1.0,1.0,1.0,1.0,1.0,1.0,1.0,1.0,1.0,1.0,1.0,1.0,1.0,1.0,1.0,1.0,1.0,1.0,1.0,1.0,1.0,1.0,1.0,1.0,1.0,1.0,1.0,1.0,1.0,2.0,2.0,2.0,2.0,3.0,2.0,3.0,3.0,3.0,2.0,3.0,2.0,3.0,3.0,3.0,3.0,2.0,3.0,2.0,3.0,3.0,3.0,3.0,2.0,2.0,3.0,3.0,2.0,2.0,2.0,2.0,2.0,2.0,2.0,3.0,3.0,3.0,3.0,3.0,3.0,3.0,3.0,2.0,3.0,2.0,3.0,2.0,2.0,2.0,3.0,3.0,3.0,3.0,2.0,2.0,2.0,2.0,3.0,3.0,2.0,3.0,3.0,3.0,3.0,3.0,3.0,3.0,3.0,2.0,3.0,2.0,0.0,0.0,0.0,0.0,0.0,0.0,0.0,0.0,0.0,0.0,0.0,0.0,0.0,0.0,0.0,0.0,0.0,0.0,0.0,0.0,0.0,0.0,0.0,0.0,0.0,0.0,0.0,0.0,0.0,0.0,0.0,0.0,0.0,0.0,0.0,0.0,0.0,0.0,0.0,0.0,0.0,0.0,0.0,0.0,0.0,0.0,0.0,0.0]},\"mode\":\"markers\",\"text\":[\"1\",\"1\",\"1\",\"1\",\"1\",\"1\",\"1\",\"1\",\"1\",\"1\",\"1\",\"1\",\"1\",\"1\",\"1\",\"1\",\"1\",\"1\",\"1\",\"1\",\"1\",\"1\",\"1\",\"1\",\"1\",\"1\",\"1\",\"1\",\"1\",\"1\",\"1\",\"1\",\"1\",\"1\",\"1\",\"1\",\"1\",\"1\",\"1\",\"1\",\"1\",\"1\",\"1\",\"1\",\"1\",\"1\",\"1\",\"1\",\"1\",\"1\",\"1\",\"1\",\"1\",\"1\",\"1\",\"1\",\"1\",\"1\",\"1\",\"2\",\"2\",\"2\",\"2\",\"3\",\"2\",\"3\",\"3\",\"3\",\"2\",\"3\",\"2\",\"3\",\"3\",\"3\",\"3\",\"2\",\"3\",\"2\",\"3\",\"3\",\"3\",\"3\",\"2\",\"2\",\"3\",\"3\",\"2\",\"2\",\"2\",\"2\",\"2\",\"2\",\"2\",\"3\",\"3\",\"3\",\"3\",\"3\",\"3\",\"3\",\"3\",\"2\",\"3\",\"2\",\"3\",\"2\",\"2\",\"2\",\"3\",\"3\",\"3\",\"3\",\"2\",\"2\",\"2\",\"2\",\"3\",\"3\",\"2\",\"3\",\"3\",\"3\",\"3\",\"3\",\"3\",\"3\",\"3\",\"2\",\"3\",\"2\",\"0\",\"0\",\"0\",\"0\",\"0\",\"0\",\"0\",\"0\",\"0\",\"0\",\"0\",\"0\",\"0\",\"0\",\"0\",\"0\",\"0\",\"0\",\"0\",\"0\",\"0\",\"0\",\"0\",\"0\",\"0\",\"0\",\"0\",\"0\",\"0\",\"0\",\"0\",\"0\",\"0\",\"0\",\"0\",\"0\",\"0\",\"0\",\"0\",\"0\",\"0\",\"0\",\"0\",\"0\",\"0\",\"0\",\"0\",\"0\"],\"type\":\"scatter3d\",\"x\":[0.37201365187713303,0.26450511945392485,0.3754266211604095,0.5563139931740614,0.2593856655290102,0.46672354948805456,0.3387372013651877,0.3216723549488054,0.33447098976109213,0.5068259385665528,0.3813993174061433,0.31740614334470985,0.3686006825938566,0.3515358361774744,0.530716723549488,0.5136518771331058,0.4197952218430034,0.45392491467576784,0.6331058020477814,0.32593856655290093,0.3728668941979522,0.27474402730375425,0.21501706484641633,0.22610921501706485,0.19112627986348124,0.19624573378839588,0.3003412969283276,0.22781569965870305,0.27474402730375425,0.2918088737201365,0.37713310580204773,0.47952218430034127,0.21843003412969278,0.3515358361774744,0.24914675767918087,0.32593856655290093,0.28327645051194533,0.2534129692832764,0.20648464163822525,0.32593856655290093,0.41382252559726956,0.25597269624573377,0.3540955631399317,0.26279863481228666,0.3208191126279863,0.3378839590443686,0.30887372013651876,0.4112627986348122,0.4197952218430034,0.6501706484641638,0.5051194539249146,0.3686006825938566,0.4923208191126279,0.42832764505119447,0.3899317406143344,0.42406143344709896,0.43515358361774736,0.4027303754266211,0.4709897610921501,0.057167235494880536,0.1697952218430034,0.3813993174061433,0.21501706484641633,0.2704778156996587,0.14249146757679182,0.28327645051194533,0.3430034129692832,0.2901023890784982,0.16126279863481227,0.13395904436860068,0.1510238907849829,0.17918088737201363,0.2098976109215017,0.17662116040955633,0.16467576791808872,0.21501706484641633,0.28327645051194533,0.11689419795221842,0.18088737201365188,0.1100682593856655,0.10409556313993173,0.2235494880546075,0.07849829351535836,0.3003412969283276,0.1510238907849829,0.11433447098976109,0.09982935153583619,0.11262798634812286,0.1296928327645051,0.039249146757679175,0.09556313993174059,0.19795221843003413,0.1510238907849829,0.07423208191126278,0.16808873720136516,0.11262798634812286,0.10409556313993173,0.13822525597269622,0.27474402730375425,0.08703071672354946,0.1723549488054607,0.09982935153583619,0.1296928327645051,0.06655290102389079,0.1416382252559727,0.121160409556314,0.18088737201365188,0.1723549488054607,0.121160409556314,0.11689419795221842,0.13822525597269622,0.0614334470989761,0.21501706484641633,0.15358361774744028,0.13822525597269622,0.05290102389078497,0.057167235494880536,0.06655290102389079,0.18088737201365188,0.0,0.16808873720136516,0.4027303754266211,0.06825938566552901,0.11262798634812286,0.1296928327645051,0.12627986348122863,0.22696245733788395,0.14675767918088736,0.07167235494880546,0.11262798634812286,0.2406143344709897,0.3515358361774744,0.37713310580204773,0.31740614334470985,0.35580204778156993,0.49658703071672344,0.21928327645051196,0.31740614334470985,0.37713310580204773,0.31058020477815695,0.28327645051194533,0.3686006825938566,0.26194539249146753,0.26621160409556316,0.591296928327645,0.2320819112627986,0.30887372013651876,0.5435153583617747,0.6092150170648464,0.6928327645051195,0.6245733788395904,0.8122866894197953,0.49658703071672344,0.78839590443686,0.5392491467576791,0.5648464163822525,0.6595563139931739,0.530716723549488,1.0,0.893344709897611,0.5435153583617747,0.39249146757679176,0.3668941979522184,0.341296928327645,0.7081911262798635,0.4556313993174061,0.8020477815699658,0.7662116040955631,0.629692832764505,0.6160409556313993,0.3600682593856655,0.7354947952218429,0.7184300341296928,0.5477815699658702,0.5136518771331058,0.7610921501706485,0.6843003412969284,0.675767918088737],\"y\":[0.8421052631578949,0.5710526315789473,0.5605263157894738,0.8789473684210525,0.5815789473684212,0.8342105263157893,0.8842105263157897,0.7973684210526317,1.0,0.744736842105263,0.8078947368421052,0.813157894736842,0.7157894736842105,0.9789473684210526,0.8815789473684212,0.6842105263157897,0.8605263157894739,0.736842105263158,0.831578947368421,0.686842105263158,0.7973684210526317,0.5,0.7052631578947371,0.4789473684210526,0.65,0.5315789473684213,0.6210526315789475,0.5973684210526318,0.7473684210526313,0.7868421052631578,0.7105263157894738,0.6710526315789475,0.6973684210526315,0.718421052631579,0.6526315789473685,0.6447368421052633,0.5921052631578946,0.5315789473684213,0.536842105263158,0.8394736842105265,0.6657894736842107,0.6263157894736843,0.7500000000000002,0.5815789473684212,0.5315789473684213,0.8368421052631582,0.8815789473684212,0.755263157894737,0.8078947368421052,0.7657894736842105,0.5315789473684213,0.736842105263158,0.7342105263157895,0.7210526315789473,0.7131578947368422,0.6657894736842107,0.8394736842105265,0.594736842105263,0.7078947368421055,0.3526315789473683,0.34210526315789486,0.42368421052631605,0.6947368421052632,0.3526315789473683,0.3000000000000001,0.3526315789473683,0.5473684210526315,0.3526315789473683,0.6078947368421053,0.31052631578947404,0.3315789473684209,0.744736842105263,0.6473684210526317,0.5157894736842107,0.2447368421052635,0.1657894736842107,0.5263157894736841,0.21315789473684219,0.34210526315789486,0.43947368421052624,0.25526315789473697,0.44473684210526343,0.27631578947368435,0.5315789473684213,0.21315789473684219,0.4315789473684211,0.2973684210526317,0.16315789473684233,0.16052631578947396,0.27631578947368435,0.27631578947368435,0.25526315789473697,0.43684210526315786,0.3315789473684209,0.15526315789473677,0.3789473684210529,0.2052631578947371,0.3315789473684209,0.3526315789473683,0.3315789473684209,0.27631578947368435,0.4131578947368421,0.34473684210526323,0.20789473684210547,0.38947368421052636,0.3657894736842106,0.3210526315789475,0.44473684210526343,0.31315789473684236,0.15263157894736842,0.11315789473684247,0.39210526315789473,0.1921052631578948,0.10000000000000019,0.27631578947368435,0.0,0.20789473684210547,0.3657894736842106,0.45789473684210524,0.25526315789473697,0.11052631578947364,0.13947368421052658,0.3657894736842106,0.5315789473684213,0.22105263157894728,0.273684210526316,0.368421052631579,0.1999999999999999,0.3526315789473683,0.2657894736842104,0.481578947368421,0.4868421052631582,0.4684210526315792,0.43947368421052624,0.38947368421052636,0.4131578947368421,0.3210526315789475,0.3947368421052631,0.6473684210526317,0.47631578947368425,0.5,0.613157894736842,0.6552631578947368,0.6815789473684208,0.3210526315789475,0.5605263157894738,0.7500000000000002,0.48421052631578937,0.6026315789473685,0.5394736842105264,0.65,0.46315789473684194,0.5473684210526315,0.5789473684210528,0.40789473684210537,0.5631578947368422,0.7394736842105263,0.3736842105263157,0.8710526315789473,0.6447368421052633,0.35,0.7,0.4789473684210526,0.5078947368421055,0.7236842105263157,0.7105263157894738,0.6368421052631578,0.4710526315789475,0.6710526315789475,0.623684210526316,0.30789473684210517,0.45789473684210524,0.8236842105263158,0.7052631578947371,0.623684210526316,0.5894736842105263,0.5631578947368422,0.8157894736842107],\"z\":[0.5613409415121255,0.550641940085592,0.6469329529243937,0.8573466476462197,0.325962910128388,0.8359486447931527,0.7218259629101283,0.7253922967189729,0.5470756062767475,0.5470756062767475,0.8787446504992867,0.7146932952924394,0.7432239657631954,0.6219686162624821,0.9051355206847361,0.7360912981455064,0.7146932952924394,0.6077032810271041,1.0,0.4044222539229672,0.35805991440798857,0.3509272467902996,0.5399429386590585,0.5256776034236804,0.4044222539229672,0.39372325249643364,0.6540656205420827,0.7182596291012838,0.4543509272467903,0.5399429386590585,0.7182596291012838,0.8823109843081313,0.5078459343794579,0.6825962910128388,0.5827389443651926,0.4579172610556348,0.42938659058487877,0.5898716119828816,0.5292439372325249,0.3437945791726106,0.36875891583452214,0.5399429386590585,0.5827389443651926,0.2867332382310984,0.43295292439372324,0.572039942938659,0.5613409415121255,0.5042796005706134,0.557774607703281,0.7004279600570613,0.6219686162624821,0.7039942938659058,0.6504992867332382,0.782453637660485,0.557774607703281,0.6005706134094151,0.49358059914407987,0.7075606276747504,0.7182596291012838,0.17261055634807418,0.2867332382310984,0.12268188302425106,0.25106990014265335,0.10128388017118402,0.05492154065620542,0.28530670470756064,0.15977175463623394,0.16547788873038516,0.33666191155492153,0.31383737517831667,0.4222539229671897,0.09415121255349501,0.1383737517831669,0.5042796005706134,0.43366619115549215,0.10699001426533523,0.08131241084165478,0.15834522111269614,0.33666191155492153,0.13195435092724678,0.0,0.31098430813124106,0.25106990014265335,0.16904422253922968,0.17261055634807418,0.12268188302425106,0.15477888730385164,0.20256776034236804,0.2867332382310984,0.24750356633380885,0.14407988587731813,0.12268188302425106,0.15477888730385164,0.008559201141226819,0.04778887303851641,0.47004279600570614,0.24750356633380885,0.10699001426533523,0.2724679029957204,0.0912981455064194,0.30813124108416545,0.20256776034236804,0.11412268188302425,0.09771754636233952,0.2810271041369472,0.026390870185449358,0.16547788873038516,0.14978601997146934,0.024251069900142655,0.2867332382310984,0.20256776034236804,0.033523537803138374,0.2346647646219686,0.11126961483594865,0.07631954350927246,0.0920114122681883,0.15477888730385164,0.04778887303851641,0.06704707560627675,0.20399429386590584,0.24750356633380885,0.13338088445078458,0.062054208273894434,0.07275320970042796,0.07275320970042796,0.07132667617689016,0.052781740370898715,0.1340941512125535,0.0456490727532097,0.21540656205420827,0.25106990014265335,0.1797432239657632,0.20114122681883023,0.2296718972895863,0.2653352353780314,0.29743223965763194,0.3152639087018545,0.16904422253922968,0.21540656205420827,0.2225392296718973,0.2296718972895863,0.35805991440798857,0.17261055634807418,0.19400855920114124,0.4115549215406562,0.39372325249643364,0.09771754636233952,0.24750356633380885,0.2653352353780314,0.19400855920114124,0.15834522111269614,0.14407988587731813,0.10485021398002853,0.2831669044222539,0.2582025677603424,0.318830242510699,0.14407988587731813,0.42938659058487877,0.2724679029957204,0.24393723252496433,0.17261055634807418,0.2867332382310984,0.20827389443651925,0.2831669044222539,0.24037089871611983,0.17261055634807418,0.29743223965763194,0.29029957203994294,0.33666191155492153,0.25106990014265335,0.16547788873038516,0.1369472182596291,0.2724679029957204,0.32952924393723254,0.33666191155492153,0.39728958630527816,0.4008559201141227,0.20114122681883023]},{\"marker\":{\"color\":\"red\"},\"mode\":\"markers\",\"text\":[\"0\",\"1\",\"2\"],\"type\":\"scatter3d\",\"x\":[0.15170401147549095,0.5173434544124816,0.3593856655290102],\"y\":[0.3229595728451564,0.5583243823845327,0.7110964912280703],\"z\":[0.1674936426223408,0.24932312439954585,0.5959581550166428]},{\"marker\":{\"color\":\"red\"},\"mode\":\"markers\",\"text\":[\"0\",\"1\",\"2\"],\"type\":\"scatter3d\",\"x\":[0.5218643326934016,0.3624833690056111,0.14852104664391352,0.158266045117789],\"y\":[0.5588815789473685,0.7144067796610171,0.31166666666666676,0.34101412066752257],\"z\":[0.25099560152163575,0.5975120288208129,0.17394198763670946,0.17102745207195288]},{\"marker\":{\"color\":\"red\"},\"mode\":\"markers\",\"text\":[\"0\",\"1\",\"2\"],\"type\":\"scatter3d\",\"x\":[0.15170401147549095,0.5173434544124816,0.3593856655290102],\"y\":[0.3229595728451564,0.5583243823845327,0.7110964912280703],\"z\":[0.1674936426223408,0.24932312439954585,0.5959581550166428]}],                        {\"scene\":{\"xaxis\":{\"title\":{\"text\":\"Intensidade de Cor\"}},\"yaxis\":{\"title\":{\"text\":\"Alcool\"}},\"zaxis\":{\"title\":{\"text\":\"Proline\"}}},\"template\":{\"data\":{\"bar\":[{\"error_x\":{\"color\":\"#2a3f5f\"},\"error_y\":{\"color\":\"#2a3f5f\"},\"marker\":{\"line\":{\"color\":\"#E5ECF6\",\"width\":0.5},\"pattern\":{\"fillmode\":\"overlay\",\"size\":10,\"solidity\":0.2}},\"type\":\"bar\"}],\"barpolar\":[{\"marker\":{\"line\":{\"color\":\"#E5ECF6\",\"width\":0.5},\"pattern\":{\"fillmode\":\"overlay\",\"size\":10,\"solidity\":0.2}},\"type\":\"barpolar\"}],\"carpet\":[{\"aaxis\":{\"endlinecolor\":\"#2a3f5f\",\"gridcolor\":\"white\",\"linecolor\":\"white\",\"minorgridcolor\":\"white\",\"startlinecolor\":\"#2a3f5f\"},\"baxis\":{\"endlinecolor\":\"#2a3f5f\",\"gridcolor\":\"white\",\"linecolor\":\"white\",\"minorgridcolor\":\"white\",\"startlinecolor\":\"#2a3f5f\"},\"type\":\"carpet\"}],\"choropleth\":[{\"colorbar\":{\"outlinewidth\":0,\"ticks\":\"\"},\"type\":\"choropleth\"}],\"contour\":[{\"colorbar\":{\"outlinewidth\":0,\"ticks\":\"\"},\"colorscale\":[[0.0,\"#0d0887\"],[0.1111111111111111,\"#46039f\"],[0.2222222222222222,\"#7201a8\"],[0.3333333333333333,\"#9c179e\"],[0.4444444444444444,\"#bd3786\"],[0.5555555555555556,\"#d8576b\"],[0.6666666666666666,\"#ed7953\"],[0.7777777777777778,\"#fb9f3a\"],[0.8888888888888888,\"#fdca26\"],[1.0,\"#f0f921\"]],\"type\":\"contour\"}],\"contourcarpet\":[{\"colorbar\":{\"outlinewidth\":0,\"ticks\":\"\"},\"type\":\"contourcarpet\"}],\"heatmap\":[{\"colorbar\":{\"outlinewidth\":0,\"ticks\":\"\"},\"colorscale\":[[0.0,\"#0d0887\"],[0.1111111111111111,\"#46039f\"],[0.2222222222222222,\"#7201a8\"],[0.3333333333333333,\"#9c179e\"],[0.4444444444444444,\"#bd3786\"],[0.5555555555555556,\"#d8576b\"],[0.6666666666666666,\"#ed7953\"],[0.7777777777777778,\"#fb9f3a\"],[0.8888888888888888,\"#fdca26\"],[1.0,\"#f0f921\"]],\"type\":\"heatmap\"}],\"heatmapgl\":[{\"colorbar\":{\"outlinewidth\":0,\"ticks\":\"\"},\"colorscale\":[[0.0,\"#0d0887\"],[0.1111111111111111,\"#46039f\"],[0.2222222222222222,\"#7201a8\"],[0.3333333333333333,\"#9c179e\"],[0.4444444444444444,\"#bd3786\"],[0.5555555555555556,\"#d8576b\"],[0.6666666666666666,\"#ed7953\"],[0.7777777777777778,\"#fb9f3a\"],[0.8888888888888888,\"#fdca26\"],[1.0,\"#f0f921\"]],\"type\":\"heatmapgl\"}],\"histogram\":[{\"marker\":{\"pattern\":{\"fillmode\":\"overlay\",\"size\":10,\"solidity\":0.2}},\"type\":\"histogram\"}],\"histogram2d\":[{\"colorbar\":{\"outlinewidth\":0,\"ticks\":\"\"},\"colorscale\":[[0.0,\"#0d0887\"],[0.1111111111111111,\"#46039f\"],[0.2222222222222222,\"#7201a8\"],[0.3333333333333333,\"#9c179e\"],[0.4444444444444444,\"#bd3786\"],[0.5555555555555556,\"#d8576b\"],[0.6666666666666666,\"#ed7953\"],[0.7777777777777778,\"#fb9f3a\"],[0.8888888888888888,\"#fdca26\"],[1.0,\"#f0f921\"]],\"type\":\"histogram2d\"}],\"histogram2dcontour\":[{\"colorbar\":{\"outlinewidth\":0,\"ticks\":\"\"},\"colorscale\":[[0.0,\"#0d0887\"],[0.1111111111111111,\"#46039f\"],[0.2222222222222222,\"#7201a8\"],[0.3333333333333333,\"#9c179e\"],[0.4444444444444444,\"#bd3786\"],[0.5555555555555556,\"#d8576b\"],[0.6666666666666666,\"#ed7953\"],[0.7777777777777778,\"#fb9f3a\"],[0.8888888888888888,\"#fdca26\"],[1.0,\"#f0f921\"]],\"type\":\"histogram2dcontour\"}],\"mesh3d\":[{\"colorbar\":{\"outlinewidth\":0,\"ticks\":\"\"},\"type\":\"mesh3d\"}],\"parcoords\":[{\"line\":{\"colorbar\":{\"outlinewidth\":0,\"ticks\":\"\"}},\"type\":\"parcoords\"}],\"pie\":[{\"automargin\":true,\"type\":\"pie\"}],\"scatter\":[{\"marker\":{\"colorbar\":{\"outlinewidth\":0,\"ticks\":\"\"}},\"type\":\"scatter\"}],\"scatter3d\":[{\"line\":{\"colorbar\":{\"outlinewidth\":0,\"ticks\":\"\"}},\"marker\":{\"colorbar\":{\"outlinewidth\":0,\"ticks\":\"\"}},\"type\":\"scatter3d\"}],\"scattercarpet\":[{\"marker\":{\"colorbar\":{\"outlinewidth\":0,\"ticks\":\"\"}},\"type\":\"scattercarpet\"}],\"scattergeo\":[{\"marker\":{\"colorbar\":{\"outlinewidth\":0,\"ticks\":\"\"}},\"type\":\"scattergeo\"}],\"scattergl\":[{\"marker\":{\"colorbar\":{\"outlinewidth\":0,\"ticks\":\"\"}},\"type\":\"scattergl\"}],\"scattermapbox\":[{\"marker\":{\"colorbar\":{\"outlinewidth\":0,\"ticks\":\"\"}},\"type\":\"scattermapbox\"}],\"scatterpolar\":[{\"marker\":{\"colorbar\":{\"outlinewidth\":0,\"ticks\":\"\"}},\"type\":\"scatterpolar\"}],\"scatterpolargl\":[{\"marker\":{\"colorbar\":{\"outlinewidth\":0,\"ticks\":\"\"}},\"type\":\"scatterpolargl\"}],\"scatterternary\":[{\"marker\":{\"colorbar\":{\"outlinewidth\":0,\"ticks\":\"\"}},\"type\":\"scatterternary\"}],\"surface\":[{\"colorbar\":{\"outlinewidth\":0,\"ticks\":\"\"},\"colorscale\":[[0.0,\"#0d0887\"],[0.1111111111111111,\"#46039f\"],[0.2222222222222222,\"#7201a8\"],[0.3333333333333333,\"#9c179e\"],[0.4444444444444444,\"#bd3786\"],[0.5555555555555556,\"#d8576b\"],[0.6666666666666666,\"#ed7953\"],[0.7777777777777778,\"#fb9f3a\"],[0.8888888888888888,\"#fdca26\"],[1.0,\"#f0f921\"]],\"type\":\"surface\"}],\"table\":[{\"cells\":{\"fill\":{\"color\":\"#EBF0F8\"},\"line\":{\"color\":\"white\"}},\"header\":{\"fill\":{\"color\":\"#C8D4E3\"},\"line\":{\"color\":\"white\"}},\"type\":\"table\"}]},\"layout\":{\"annotationdefaults\":{\"arrowcolor\":\"#2a3f5f\",\"arrowhead\":0,\"arrowwidth\":1},\"autotypenumbers\":\"strict\",\"coloraxis\":{\"colorbar\":{\"outlinewidth\":0,\"ticks\":\"\"}},\"colorscale\":{\"diverging\":[[0,\"#8e0152\"],[0.1,\"#c51b7d\"],[0.2,\"#de77ae\"],[0.3,\"#f1b6da\"],[0.4,\"#fde0ef\"],[0.5,\"#f7f7f7\"],[0.6,\"#e6f5d0\"],[0.7,\"#b8e186\"],[0.8,\"#7fbc41\"],[0.9,\"#4d9221\"],[1,\"#276419\"]],\"sequential\":[[0.0,\"#0d0887\"],[0.1111111111111111,\"#46039f\"],[0.2222222222222222,\"#7201a8\"],[0.3333333333333333,\"#9c179e\"],[0.4444444444444444,\"#bd3786\"],[0.5555555555555556,\"#d8576b\"],[0.6666666666666666,\"#ed7953\"],[0.7777777777777778,\"#fb9f3a\"],[0.8888888888888888,\"#fdca26\"],[1.0,\"#f0f921\"]],\"sequentialminus\":[[0.0,\"#0d0887\"],[0.1111111111111111,\"#46039f\"],[0.2222222222222222,\"#7201a8\"],[0.3333333333333333,\"#9c179e\"],[0.4444444444444444,\"#bd3786\"],[0.5555555555555556,\"#d8576b\"],[0.6666666666666666,\"#ed7953\"],[0.7777777777777778,\"#fb9f3a\"],[0.8888888888888888,\"#fdca26\"],[1.0,\"#f0f921\"]]},\"colorway\":[\"#636efa\",\"#EF553B\",\"#00cc96\",\"#ab63fa\",\"#FFA15A\",\"#19d3f3\",\"#FF6692\",\"#B6E880\",\"#FF97FF\",\"#FECB52\"],\"font\":{\"color\":\"#2a3f5f\"},\"geo\":{\"bgcolor\":\"white\",\"lakecolor\":\"white\",\"landcolor\":\"#E5ECF6\",\"showlakes\":true,\"showland\":true,\"subunitcolor\":\"white\"},\"hoverlabel\":{\"align\":\"left\"},\"hovermode\":\"closest\",\"mapbox\":{\"style\":\"light\"},\"paper_bgcolor\":\"white\",\"plot_bgcolor\":\"#E5ECF6\",\"polar\":{\"angularaxis\":{\"gridcolor\":\"white\",\"linecolor\":\"white\",\"ticks\":\"\"},\"bgcolor\":\"#E5ECF6\",\"radialaxis\":{\"gridcolor\":\"white\",\"linecolor\":\"white\",\"ticks\":\"\"}},\"scene\":{\"xaxis\":{\"backgroundcolor\":\"#E5ECF6\",\"gridcolor\":\"white\",\"gridwidth\":2,\"linecolor\":\"white\",\"showbackground\":true,\"ticks\":\"\",\"zerolinecolor\":\"white\"},\"yaxis\":{\"backgroundcolor\":\"#E5ECF6\",\"gridcolor\":\"white\",\"gridwidth\":2,\"linecolor\":\"white\",\"showbackground\":true,\"ticks\":\"\",\"zerolinecolor\":\"white\"},\"zaxis\":{\"backgroundcolor\":\"#E5ECF6\",\"gridcolor\":\"white\",\"gridwidth\":2,\"linecolor\":\"white\",\"showbackground\":true,\"ticks\":\"\",\"zerolinecolor\":\"white\"}},\"shapedefaults\":{\"line\":{\"color\":\"#2a3f5f\"}},\"ternary\":{\"aaxis\":{\"gridcolor\":\"white\",\"linecolor\":\"white\",\"ticks\":\"\"},\"baxis\":{\"gridcolor\":\"white\",\"linecolor\":\"white\",\"ticks\":\"\"},\"bgcolor\":\"#E5ECF6\",\"caxis\":{\"gridcolor\":\"white\",\"linecolor\":\"white\",\"ticks\":\"\"}},\"title\":{\"x\":0.05},\"xaxis\":{\"automargin\":true,\"gridcolor\":\"white\",\"linecolor\":\"white\",\"ticks\":\"\",\"title\":{\"standoff\":15},\"zerolinecolor\":\"white\",\"zerolinewidth\":2},\"yaxis\":{\"automargin\":true,\"gridcolor\":\"white\",\"linecolor\":\"white\",\"ticks\":\"\",\"title\":{\"standoff\":15},\"zerolinecolor\":\"white\",\"zerolinewidth\":2}}}},                        {\"responsive\": true}                    ).then(function(){\n",
       "                            \n",
       "var gd = document.getElementById('e0ec664d-37d0-424f-87d6-3aa53e9ab63a');\n",
       "var x = new MutationObserver(function (mutations, observer) {{\n",
       "        var display = window.getComputedStyle(gd).display;\n",
       "        if (!display || display === 'none') {{\n",
       "            console.log([gd, 'removed!']);\n",
       "            Plotly.purge(gd);\n",
       "            observer.disconnect();\n",
       "        }}\n",
       "}});\n",
       "\n",
       "// Listen for the removal of the full notebook cells\n",
       "var notebookContainer = gd.closest('#notebook-container');\n",
       "if (notebookContainer) {{\n",
       "    x.observe(notebookContainer, {childList: true});\n",
       "}}\n",
       "\n",
       "// Listen for the clearing of the current output cell\n",
       "var outputEl = gd.closest('.output');\n",
       "if (outputEl) {{\n",
       "    x.observe(outputEl, {childList: true});\n",
       "}}\n",
       "\n",
       "                        })                };                });            </script>        </div>"
      ]
     },
     "metadata": {},
     "output_type": "display_data"
    }
   ],
   "source": [
    "fig.add_trace(go.Scatter3d(x = centros['Intesidade_de_color'],\n",
    "                           y = centros['Alcool'],\n",
    "                           z = centros['Proline'],\n",
    "                          mode = 'markers',\n",
    "                          marker = dict (color = 'red'),\n",
    "                          text  = [0,1,2]))\n",
    "fig.show()"
   ]
  },
  {
   "cell_type": "code",
   "execution_count": null,
   "id": "d4cb514a",
   "metadata": {},
   "outputs": [],
   "source": [
    "#Quanto maior for o número de grupos k, mais detalhes poderão ser percebidos no agrupamento.\n",
    "#É sempre uma boa prática começar com uma quantidade pequena de clústeres, \n",
    "#avaliando com conhecimento especialista se o agrupamento faz sentido.\n",
    "#Começando com uma quantidade pequena de clústeres é possível avaliar melhor os resultados de cada um, \n",
    "#permitindo inferir se existe ou não a necessidade de se aumentar o número de grupos.\n",
    "#O método k-means se baseia na realização de médias realizadas para k grupos ou clústeres.\n",
    "#O método k-means se baseia na realização de médias para definição dos centros de k grupos."
   ]
  },
  {
   "cell_type": "code",
   "execution_count": 51,
   "id": "8e43a3fb",
   "metadata": {},
   "outputs": [
    {
     "ename": "ValueError",
     "evalue": "Expected 2D array, got 1D array instead:\narray=[ 2.   0.   1.5 27.   4.  14.  38.   0.7 10.   1.   4.  16.  12. ].\nReshape your data either using array.reshape(-1, 1) if your data has a single feature or array.reshape(1, -1) if it contains a single sample.",
     "output_type": "error",
     "traceback": [
      "\u001b[1;31m---------------------------------------------------------------------------\u001b[0m",
      "\u001b[1;31mValueError\u001b[0m                                Traceback (most recent call last)",
      "\u001b[1;32m<ipython-input-51-f4c934a938d6>\u001b[0m in \u001b[0;36m<module>\u001b[1;34m\u001b[0m\n\u001b[0;32m      1\u001b[0m \u001b[0mnova_amostra\u001b[0m \u001b[1;33m=\u001b[0m \u001b[1;33m[\u001b[0m\u001b[1;36m2\u001b[0m\u001b[1;33m,\u001b[0m\u001b[1;36m0\u001b[0m\u001b[1;33m,\u001b[0m\u001b[1;36m1.5\u001b[0m\u001b[1;33m,\u001b[0m\u001b[1;36m27\u001b[0m\u001b[1;33m,\u001b[0m\u001b[1;36m4\u001b[0m\u001b[1;33m,\u001b[0m\u001b[1;36m14\u001b[0m\u001b[1;33m,\u001b[0m\u001b[1;36m38\u001b[0m\u001b[1;33m,\u001b[0m\u001b[1;36m0.7\u001b[0m\u001b[1;33m,\u001b[0m\u001b[1;36m10\u001b[0m\u001b[1;33m,\u001b[0m \u001b[1;36m1\u001b[0m\u001b[1;33m,\u001b[0m \u001b[1;36m4\u001b[0m\u001b[1;33m,\u001b[0m \u001b[1;36m16\u001b[0m\u001b[1;33m,\u001b[0m\u001b[1;36m12\u001b[0m\u001b[1;33m]\u001b[0m\u001b[1;33m\u001b[0m\u001b[1;33m\u001b[0m\u001b[0m\n\u001b[1;32m----> 2\u001b[1;33m \u001b[0mlabel_nova_amostra\u001b[0m \u001b[1;33m=\u001b[0m \u001b[0magrupador\u001b[0m\u001b[1;33m.\u001b[0m\u001b[0mpredict\u001b[0m\u001b[1;33m(\u001b[0m\u001b[0mnova_amostra\u001b[0m\u001b[1;33m)\u001b[0m\u001b[1;33m\u001b[0m\u001b[1;33m\u001b[0m\u001b[0m\n\u001b[0m\u001b[0;32m      3\u001b[0m \u001b[0mprint\u001b[0m\u001b[1;33m(\u001b[0m\u001b[0mlabel_nova_amostra\u001b[0m\u001b[1;33m)\u001b[0m\u001b[1;33m\u001b[0m\u001b[1;33m\u001b[0m\u001b[0m\n",
      "\u001b[1;32mH:\\Estudos\\Anaconda3\\envs\\Alura\\lib\\site-packages\\sklearn\\cluster\\_kmeans.py\u001b[0m in \u001b[0;36mpredict\u001b[1;34m(self, X, sample_weight)\u001b[0m\n\u001b[0;32m   1154\u001b[0m         \u001b[0mcheck_is_fitted\u001b[0m\u001b[1;33m(\u001b[0m\u001b[0mself\u001b[0m\u001b[1;33m)\u001b[0m\u001b[1;33m\u001b[0m\u001b[1;33m\u001b[0m\u001b[0m\n\u001b[0;32m   1155\u001b[0m \u001b[1;33m\u001b[0m\u001b[0m\n\u001b[1;32m-> 1156\u001b[1;33m         \u001b[0mX\u001b[0m \u001b[1;33m=\u001b[0m \u001b[0mself\u001b[0m\u001b[1;33m.\u001b[0m\u001b[0m_check_test_data\u001b[0m\u001b[1;33m(\u001b[0m\u001b[0mX\u001b[0m\u001b[1;33m)\u001b[0m\u001b[1;33m\u001b[0m\u001b[1;33m\u001b[0m\u001b[0m\n\u001b[0m\u001b[0;32m   1157\u001b[0m         \u001b[0mx_squared_norms\u001b[0m \u001b[1;33m=\u001b[0m \u001b[0mrow_norms\u001b[0m\u001b[1;33m(\u001b[0m\u001b[0mX\u001b[0m\u001b[1;33m,\u001b[0m \u001b[0msquared\u001b[0m\u001b[1;33m=\u001b[0m\u001b[1;32mTrue\u001b[0m\u001b[1;33m)\u001b[0m\u001b[1;33m\u001b[0m\u001b[1;33m\u001b[0m\u001b[0m\n\u001b[0;32m   1158\u001b[0m         \u001b[0msample_weight\u001b[0m \u001b[1;33m=\u001b[0m \u001b[0m_check_sample_weight\u001b[0m\u001b[1;33m(\u001b[0m\u001b[0msample_weight\u001b[0m\u001b[1;33m,\u001b[0m \u001b[0mX\u001b[0m\u001b[1;33m,\u001b[0m \u001b[0mdtype\u001b[0m\u001b[1;33m=\u001b[0m\u001b[0mX\u001b[0m\u001b[1;33m.\u001b[0m\u001b[0mdtype\u001b[0m\u001b[1;33m)\u001b[0m\u001b[1;33m\u001b[0m\u001b[1;33m\u001b[0m\u001b[0m\n",
      "\u001b[1;32mH:\\Estudos\\Anaconda3\\envs\\Alura\\lib\\site-packages\\sklearn\\cluster\\_kmeans.py\u001b[0m in \u001b[0;36m_check_test_data\u001b[1;34m(self, X)\u001b[0m\n\u001b[0;32m    856\u001b[0m \u001b[1;33m\u001b[0m\u001b[0m\n\u001b[0;32m    857\u001b[0m     \u001b[1;32mdef\u001b[0m \u001b[0m_check_test_data\u001b[0m\u001b[1;33m(\u001b[0m\u001b[0mself\u001b[0m\u001b[1;33m,\u001b[0m \u001b[0mX\u001b[0m\u001b[1;33m)\u001b[0m\u001b[1;33m:\u001b[0m\u001b[1;33m\u001b[0m\u001b[1;33m\u001b[0m\u001b[0m\n\u001b[1;32m--> 858\u001b[1;33m         X = self._validate_data(X, accept_sparse='csr', reset=False,\n\u001b[0m\u001b[0;32m    859\u001b[0m                                 \u001b[0mdtype\u001b[0m\u001b[1;33m=\u001b[0m\u001b[1;33m[\u001b[0m\u001b[0mnp\u001b[0m\u001b[1;33m.\u001b[0m\u001b[0mfloat64\u001b[0m\u001b[1;33m,\u001b[0m \u001b[0mnp\u001b[0m\u001b[1;33m.\u001b[0m\u001b[0mfloat32\u001b[0m\u001b[1;33m]\u001b[0m\u001b[1;33m,\u001b[0m\u001b[1;33m\u001b[0m\u001b[1;33m\u001b[0m\u001b[0m\n\u001b[0;32m    860\u001b[0m                                 order='C', accept_large_sparse=False)\n",
      "\u001b[1;32mH:\\Estudos\\Anaconda3\\envs\\Alura\\lib\\site-packages\\sklearn\\base.py\u001b[0m in \u001b[0;36m_validate_data\u001b[1;34m(self, X, y, reset, validate_separately, **check_params)\u001b[0m\n\u001b[0;32m    419\u001b[0m             \u001b[0mout\u001b[0m \u001b[1;33m=\u001b[0m \u001b[0mX\u001b[0m\u001b[1;33m\u001b[0m\u001b[1;33m\u001b[0m\u001b[0m\n\u001b[0;32m    420\u001b[0m         \u001b[1;32melif\u001b[0m \u001b[0misinstance\u001b[0m\u001b[1;33m(\u001b[0m\u001b[0my\u001b[0m\u001b[1;33m,\u001b[0m \u001b[0mstr\u001b[0m\u001b[1;33m)\u001b[0m \u001b[1;32mand\u001b[0m \u001b[0my\u001b[0m \u001b[1;33m==\u001b[0m \u001b[1;34m'no_validation'\u001b[0m\u001b[1;33m:\u001b[0m\u001b[1;33m\u001b[0m\u001b[1;33m\u001b[0m\u001b[0m\n\u001b[1;32m--> 421\u001b[1;33m             \u001b[0mX\u001b[0m \u001b[1;33m=\u001b[0m \u001b[0mcheck_array\u001b[0m\u001b[1;33m(\u001b[0m\u001b[0mX\u001b[0m\u001b[1;33m,\u001b[0m \u001b[1;33m**\u001b[0m\u001b[0mcheck_params\u001b[0m\u001b[1;33m)\u001b[0m\u001b[1;33m\u001b[0m\u001b[1;33m\u001b[0m\u001b[0m\n\u001b[0m\u001b[0;32m    422\u001b[0m             \u001b[0mout\u001b[0m \u001b[1;33m=\u001b[0m \u001b[0mX\u001b[0m\u001b[1;33m\u001b[0m\u001b[1;33m\u001b[0m\u001b[0m\n\u001b[0;32m    423\u001b[0m         \u001b[1;32melse\u001b[0m\u001b[1;33m:\u001b[0m\u001b[1;33m\u001b[0m\u001b[1;33m\u001b[0m\u001b[0m\n",
      "\u001b[1;32mH:\\Estudos\\Anaconda3\\envs\\Alura\\lib\\site-packages\\sklearn\\utils\\validation.py\u001b[0m in \u001b[0;36minner_f\u001b[1;34m(*args, **kwargs)\u001b[0m\n\u001b[0;32m     61\u001b[0m             \u001b[0mextra_args\u001b[0m \u001b[1;33m=\u001b[0m \u001b[0mlen\u001b[0m\u001b[1;33m(\u001b[0m\u001b[0margs\u001b[0m\u001b[1;33m)\u001b[0m \u001b[1;33m-\u001b[0m \u001b[0mlen\u001b[0m\u001b[1;33m(\u001b[0m\u001b[0mall_args\u001b[0m\u001b[1;33m)\u001b[0m\u001b[1;33m\u001b[0m\u001b[1;33m\u001b[0m\u001b[0m\n\u001b[0;32m     62\u001b[0m             \u001b[1;32mif\u001b[0m \u001b[0mextra_args\u001b[0m \u001b[1;33m<=\u001b[0m \u001b[1;36m0\u001b[0m\u001b[1;33m:\u001b[0m\u001b[1;33m\u001b[0m\u001b[1;33m\u001b[0m\u001b[0m\n\u001b[1;32m---> 63\u001b[1;33m                 \u001b[1;32mreturn\u001b[0m \u001b[0mf\u001b[0m\u001b[1;33m(\u001b[0m\u001b[1;33m*\u001b[0m\u001b[0margs\u001b[0m\u001b[1;33m,\u001b[0m \u001b[1;33m**\u001b[0m\u001b[0mkwargs\u001b[0m\u001b[1;33m)\u001b[0m\u001b[1;33m\u001b[0m\u001b[1;33m\u001b[0m\u001b[0m\n\u001b[0m\u001b[0;32m     64\u001b[0m \u001b[1;33m\u001b[0m\u001b[0m\n\u001b[0;32m     65\u001b[0m             \u001b[1;31m# extra_args > 0\u001b[0m\u001b[1;33m\u001b[0m\u001b[1;33m\u001b[0m\u001b[1;33m\u001b[0m\u001b[0m\n",
      "\u001b[1;32mH:\\Estudos\\Anaconda3\\envs\\Alura\\lib\\site-packages\\sklearn\\utils\\validation.py\u001b[0m in \u001b[0;36mcheck_array\u001b[1;34m(array, accept_sparse, accept_large_sparse, dtype, order, copy, force_all_finite, ensure_2d, allow_nd, ensure_min_samples, ensure_min_features, estimator)\u001b[0m\n\u001b[0;32m    692\u001b[0m             \u001b[1;31m# If input is 1D raise error\u001b[0m\u001b[1;33m\u001b[0m\u001b[1;33m\u001b[0m\u001b[1;33m\u001b[0m\u001b[0m\n\u001b[0;32m    693\u001b[0m             \u001b[1;32mif\u001b[0m \u001b[0marray\u001b[0m\u001b[1;33m.\u001b[0m\u001b[0mndim\u001b[0m \u001b[1;33m==\u001b[0m \u001b[1;36m1\u001b[0m\u001b[1;33m:\u001b[0m\u001b[1;33m\u001b[0m\u001b[1;33m\u001b[0m\u001b[0m\n\u001b[1;32m--> 694\u001b[1;33m                 raise ValueError(\n\u001b[0m\u001b[0;32m    695\u001b[0m                     \u001b[1;34m\"Expected 2D array, got 1D array instead:\\narray={}.\\n\"\u001b[0m\u001b[1;33m\u001b[0m\u001b[1;33m\u001b[0m\u001b[0m\n\u001b[0;32m    696\u001b[0m                     \u001b[1;34m\"Reshape your data either using array.reshape(-1, 1) if \"\u001b[0m\u001b[1;33m\u001b[0m\u001b[1;33m\u001b[0m\u001b[0m\n",
      "\u001b[1;31mValueError\u001b[0m: Expected 2D array, got 1D array instead:\narray=[ 2.   0.   1.5 27.   4.  14.  38.   0.7 10.   1.   4.  16.  12. ].\nReshape your data either using array.reshape(-1, 1) if your data has a single feature or array.reshape(1, -1) if it contains a single sample."
     ]
    }
   ],
   "source": []
  },
  {
   "cell_type": "code",
   "execution_count": null,
   "id": "37047933",
   "metadata": {},
   "outputs": [],
   "source": [
    "#padronização \n",
    "\n",
    "#A padronização é outra tecnica de dirensionamento em que os valores sao centralizados em torno da media \n",
    "#com um descio padrao de unidade.\n",
    "#Isso significa que a media do atributo torna-se zero ea distribuição resultante tem um desvio padrao de uniadade. \n",
    "\n",
    "# a media sempre sera 0\n",
    "#DS sempre sera 1 \n",
    "\n",
    "#normalização \n",
    "\n",
    "#a normalização é uma tecnica de escala na qual os valores são deslocados e redimensionados para que fiquem entre 0 e 1. \n",
    "#também é conhecida como escala min-max\n",
    "\n",
    "# o min sempre sera 0\n",
    "# o max sempre sera 1 \n",
    "\n",
    "#A grande questao = normalizar ou padronizar?\n",
    "\n",
    "#A normalização\n",
    "\n",
    "# A normalização é boa para usar quando vc sabe que a distribuilçao ed seus dados não segue uma distribuilçao gaussiana.\n",
    "# isso pode ser ultil em algoritimos que nao assumem nunguema distribuiçlão ed dados como Kvizinhos \n",
    "# mais proximos e redes neurais.\n",
    "\n",
    "#A padroniozação\n",
    "\n",
    "# A padroniozação, por outro lado, pode ser útil nos caos em que os dados seguem uma distribuição gaussiana.\n",
    "# no entento, isso nao precisa ser necessariamente verdade. alem disso, ao contrário da normalização,a padronização \n",
    "# não tem um intervalo delimitador. portanto, mesmoq eu você tenha valores discrepantes em seus dados \n",
    "# eles nao serão afetados pela padronização.\n",
    "\n",
    "# obs: a padronização é mais sensivel a outliers \n",
    "    "
   ]
  }
 ],
 "metadata": {
  "kernelspec": {
   "display_name": "Python 3",
   "language": "python",
   "name": "python3"
  },
  "language_info": {
   "codemirror_mode": {
    "name": "ipython",
    "version": 3
   },
   "file_extension": ".py",
   "mimetype": "text/x-python",
   "name": "python",
   "nbconvert_exporter": "python",
   "pygments_lexer": "ipython3",
   "version": "3.8.8"
  }
 },
 "nbformat": 4,
 "nbformat_minor": 5
}
